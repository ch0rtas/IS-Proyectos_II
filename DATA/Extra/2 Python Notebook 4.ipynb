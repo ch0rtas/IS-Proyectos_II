{
 "cells": [
  {
   "cell_type": "markdown",
   "id": "e9611691",
   "metadata": {},
   "source": [
    "# 11 Funtions \n",
    "A **function** consists of a *body* and, optionally, one or several *parameters*. They may return values too.    \n",
    "Functions are great for organizing a program, improving readability and reusing pieces of code. Both *positional* and *named* parameters are supported. A parameter may be *optional* if a default value is provided for it.  "
   ]
  },
  {
   "cell_type": "markdown",
   "id": "d9a44541",
   "metadata": {},
   "source": [
    "## 11.1 Creating a function\n",
    "In Python a function is defined using the def keyword:"
   ]
  },
  {
   "cell_type": "code",
   "execution_count": 1,
   "id": "e8cba3d6",
   "metadata": {},
   "outputs": [],
   "source": [
    "def my_function():\n",
    "  print(\"Hello from a function\")"
   ]
  },
  {
   "cell_type": "markdown",
   "id": "d482c2ea",
   "metadata": {},
   "source": [
    "## 11.2 Calling a function\n",
    "to call a function, use the function name followed by parenthesis:"
   ]
  },
  {
   "cell_type": "code",
   "execution_count": 3,
   "id": "edada31b",
   "metadata": {},
   "outputs": [
    {
     "name": "stdout",
     "output_type": "stream",
     "text": [
      "Hello from a function\n"
     ]
    }
   ],
   "source": [
    "my_function()"
   ]
  },
  {
   "cell_type": "markdown",
   "id": "f250df20",
   "metadata": {},
   "source": [
    "# 11.3 Arguments"
   ]
  },
  {
   "cell_type": "markdown",
   "id": "5ae9df72",
   "metadata": {},
   "source": [
    "Information can be passed into functions as arguments.\n",
    "\n",
    "Arguments are specified after the function name, inside the parentheses. You can add as many arguments as you want, just separate them with a comma.\n",
    "\n",
    "The following example has a function with one argument (fname). When the function is called, we pass along a first name, which is used inside the function to print the full name"
   ]
  },
  {
   "cell_type": "code",
   "execution_count": 5,
   "id": "2b08c560",
   "metadata": {},
   "outputs": [
    {
     "name": "stdout",
     "output_type": "stream",
     "text": [
      "hello Carlos!\n",
      "hello Ana!\n",
      "hello John!\n"
     ]
    }
   ],
   "source": [
    "def my_function(name):\n",
    "  print(\"hello \" + name +\"!\")\n",
    "\n",
    "my_function(\"Carlos\")\n",
    "my_function(\"Ana\")\n",
    "my_function(\"John\") "
   ]
  },
  {
   "cell_type": "markdown",
   "id": "15031a8e",
   "metadata": {},
   "source": [
    "## 11.4 Difference between arguments and parameters\n",
    "The terms parameter and argument can be used for the same thing: information that are passed into a function.\n",
    "\n",
    "From a function's perspective:\n",
    "\n",
    "A parameter is the variable listed inside the parentheses in the function definition.\n",
    "\n",
    "An argument is the value that is sent to the function when it is called.\n"
   ]
  },
  {
   "cell_type": "markdown",
   "id": "57fd70dc",
   "metadata": {},
   "source": [
    "## 11.5 Number of Arguments\n",
    "By default, a function must be called with the correct number of arguments. Meaning that if your function expects 2 arguments, you have to call the function with 2 arguments, not more, and not less. "
   ]
  },
  {
   "cell_type": "code",
   "execution_count": 6,
   "id": "eb6c5513",
   "metadata": {},
   "outputs": [
    {
     "name": "stdout",
     "output_type": "stream",
     "text": [
      "Carlos Vallez\n"
     ]
    }
   ],
   "source": [
    "def my_function2(fname, lname):\n",
    "  print(fname + \" \" + lname)\n",
    "\n",
    "my_function2(\"Carlos\", \"Vallez\") "
   ]
  },
  {
   "cell_type": "code",
   "execution_count": 7,
   "id": "2584a6b4",
   "metadata": {},
   "outputs": [
    {
     "ename": "TypeError",
     "evalue": "my_function2() missing 1 required positional argument: 'lname'",
     "output_type": "error",
     "traceback": [
      "\u001b[1;31m---------------------------------------------------------------------------\u001b[0m",
      "\u001b[1;31mTypeError\u001b[0m                                 Traceback (most recent call last)",
      "\u001b[1;32m<ipython-input-7-355bb4b8d189>\u001b[0m in \u001b[0;36m<module>\u001b[1;34m\u001b[0m\n\u001b[1;32m----> 1\u001b[1;33m \u001b[0mmy_function2\u001b[0m\u001b[1;33m(\u001b[0m\u001b[1;34m\"Carlos\"\u001b[0m\u001b[1;33m)\u001b[0m\u001b[1;33m\u001b[0m\u001b[1;33m\u001b[0m\u001b[0m\n\u001b[0m",
      "\u001b[1;31mTypeError\u001b[0m: my_function2() missing 1 required positional argument: 'lname'"
     ]
    }
   ],
   "source": [
    "my_function2(\"Carlos\")"
   ]
  },
  {
   "cell_type": "markdown",
   "id": "c18d219f",
   "metadata": {},
   "source": [
    "## 11.6 Default parameters\n",
    "The following example shows how to use a default parameter value.\n",
    "\n",
    "If we call the function without argument, it uses the default value:"
   ]
  },
  {
   "cell_type": "code",
   "execution_count": 9,
   "id": "68a0fb6a",
   "metadata": {},
   "outputs": [
    {
     "name": "stdout",
     "output_type": "stream",
     "text": [
      "I am from Sweden\n",
      "I am from India\n",
      "I am from Norway\n",
      "I am from Brazil\n"
     ]
    }
   ],
   "source": [
    "def my_function3(country = \"Norway\"):\n",
    "  print(\"I am from \" + country)\n",
    "\n",
    "my_function3(\"Sweden\")\n",
    "my_function3(\"India\")\n",
    "my_function3()\n",
    "my_function3(\"Brazil\") "
   ]
  },
  {
   "cell_type": "markdown",
   "id": "1146ee9a",
   "metadata": {},
   "source": [
    "## 11.7 Passing a list as argument:\n",
    "You can send any data types of argument to a function (string, number, list, dictionary etc.), and it will be treated as the same data type inside the function."
   ]
  },
  {
   "cell_type": "code",
   "execution_count": 10,
   "id": "8a03dbfd",
   "metadata": {},
   "outputs": [
    {
     "name": "stdout",
     "output_type": "stream",
     "text": [
      "apple\n",
      "banana\n",
      "cherry\n"
     ]
    }
   ],
   "source": [
    "def my_function4(food):\n",
    "  for x in food:\n",
    "    print(x)\n",
    "\n",
    "fruits = [\"apple\", \"banana\", \"cherry\"]\n",
    "\n",
    "my_function4(fruits)"
   ]
  },
  {
   "cell_type": "markdown",
   "id": "c42d6fde",
   "metadata": {},
   "source": [
    "# 11.8 Return stament\n",
    "To let a function return a value, use the return statement:"
   ]
  },
  {
   "cell_type": "code",
   "execution_count": 11,
   "id": "e5acdf57",
   "metadata": {},
   "outputs": [
    {
     "name": "stdout",
     "output_type": "stream",
     "text": [
      "15\n"
     ]
    }
   ],
   "source": [
    "def my_function(x):\n",
    "  return 5 * x\n",
    "\n",
    "y = my_function(3)\n",
    "print(y)\n"
   ]
  },
  {
   "cell_type": "markdown",
   "id": "d97f737f",
   "metadata": {},
   "source": [
    "## 11.9 Scope and passing by reference"
   ]
  },
  {
   "cell_type": "code",
   "execution_count": 21,
   "id": "f679c231",
   "metadata": {},
   "outputs": [],
   "source": [
    "\n",
    "def multiplica(numero, factor=2):\n",
    "    otronum=44\n",
    "    print(\"otronum dentro de la funcion vale: {}\".format(otronum))\n",
    "    res=numero*factor\n",
    "    return res"
   ]
  },
  {
   "cell_type": "code",
   "execution_count": 22,
   "id": "f7ea3cda",
   "metadata": {},
   "outputs": [],
   "source": [
    "num1=7\n"
   ]
  },
  {
   "cell_type": "code",
   "execution_count": 23,
   "id": "ccfb0b9b",
   "metadata": {},
   "outputs": [
    {
     "name": "stdout",
     "output_type": "stream",
     "text": [
      "7\n"
     ]
    }
   ],
   "source": [
    "print(num1)"
   ]
  },
  {
   "cell_type": "code",
   "execution_count": 24,
   "id": "0b1c5fe9",
   "metadata": {},
   "outputs": [
    {
     "name": "stdout",
     "output_type": "stream",
     "text": [
      "otronum dentro de la funcion vale: 44\n"
     ]
    }
   ],
   "source": [
    "num2= multiplica(num1)"
   ]
  },
  {
   "cell_type": "markdown",
   "id": "b91e539e",
   "metadata": {},
   "source": [
    "These variables can only be accessed in the area where they are defined, this is called scope. You can think of this as a block where you can access variables."
   ]
  },
  {
   "cell_type": "code",
   "execution_count": 26,
   "id": "ccc5c902",
   "metadata": {},
   "outputs": [
    {
     "ename": "NameError",
     "evalue": "name 'otronum' is not defined",
     "output_type": "error",
     "traceback": [
      "\u001b[1;31m---------------------------------------------------------------------------\u001b[0m",
      "\u001b[1;31mNameError\u001b[0m                                 Traceback (most recent call last)",
      "\u001b[1;32m<ipython-input-26-4004681dc211>\u001b[0m in \u001b[0;36m<module>\u001b[1;34m\u001b[0m\n\u001b[1;32m----> 1\u001b[1;33m \u001b[0mprint\u001b[0m\u001b[1;33m(\u001b[0m\u001b[0motronum\u001b[0m\u001b[1;33m)\u001b[0m\u001b[1;33m\u001b[0m\u001b[1;33m\u001b[0m\u001b[0m\n\u001b[0m",
      "\u001b[1;31mNameError\u001b[0m: name 'otronum' is not defined"
     ]
    }
   ],
   "source": [
    "print(otronum)"
   ]
  },
  {
   "cell_type": "code",
   "execution_count": 25,
   "id": "bec95206",
   "metadata": {},
   "outputs": [
    {
     "ename": "NameError",
     "evalue": "name 'res' is not defined",
     "output_type": "error",
     "traceback": [
      "\u001b[1;31m---------------------------------------------------------------------------\u001b[0m",
      "\u001b[1;31mNameError\u001b[0m                                 Traceback (most recent call last)",
      "\u001b[1;32m<ipython-input-25-a90dea80f461>\u001b[0m in \u001b[0;36m<module>\u001b[1;34m\u001b[0m\n\u001b[1;32m----> 1\u001b[1;33m \u001b[0mprint\u001b[0m\u001b[1;33m(\u001b[0m\u001b[0mres\u001b[0m\u001b[1;33m)\u001b[0m\u001b[1;33m\u001b[0m\u001b[1;33m\u001b[0m\u001b[0m\n\u001b[0m",
      "\u001b[1;31mNameError\u001b[0m: name 'res' is not defined"
     ]
    }
   ],
   "source": [
    "print(res)"
   ]
  },
  {
   "cell_type": "markdown",
   "id": "6b2dcde8",
   "metadata": {},
   "source": [
    "### Lists are already passed by reference, in that all Python names are references, and list objects are mutable."
   ]
  },
  {
   "cell_type": "code",
   "execution_count": 29,
   "id": "4cc15b70",
   "metadata": {},
   "outputs": [],
   "source": [
    "my_list=[\"apple\", \"pineapple\"]\n",
    "\n",
    "def addfruit(fruit, list):\n",
    "    list.append(fruit)"
   ]
  },
  {
   "cell_type": "code",
   "execution_count": 30,
   "id": "599a5eb1",
   "metadata": {},
   "outputs": [
    {
     "name": "stdout",
     "output_type": "stream",
     "text": [
      "['apple', 'pineapple']\n",
      "['apple', 'pineapple', 'watermelon']\n"
     ]
    }
   ],
   "source": [
    "print(my_list)\n",
    "addfruit(\"watermelon\", my_list)\n",
    "print(my_list)"
   ]
  },
  {
   "cell_type": "markdown",
   "id": "af051c61",
   "metadata": {},
   "source": [
    "## 11.10 EXAMPLES"
   ]
  },
  {
   "cell_type": "markdown",
   "id": "391ebedc",
   "metadata": {},
   "source": [
    "### Create a function that takes two integers and return a list with all the numbers in between"
   ]
  },
  {
   "cell_type": "code",
   "execution_count": null,
   "id": "eddd4f93",
   "metadata": {},
   "outputs": [],
   "source": [
    "def numbersBetween(num1, num2):\n",
    "    # num1: integer\n",
    "    # num2: integer\n",
    "    # out_list: list of intergers\n",
    "    \n",
    "    \n",
    "    \n",
    "    return out_list"
   ]
  },
  {
   "cell_type": "code",
   "execution_count": null,
   "id": "85038ec7",
   "metadata": {},
   "outputs": [],
   "source": []
  },
  {
   "cell_type": "code",
   "execution_count": 1,
   "id": "f3499285",
   "metadata": {},
   "outputs": [],
   "source": [
    "def numbersBetween(num1, num2):\n",
    "    out_list=[]\n",
    "    for i in range(num1,num2):\n",
    "        out_list.append(i)    \n",
    "    return out_list"
   ]
  },
  {
   "cell_type": "code",
   "execution_count": 2,
   "id": "cfd47edf",
   "metadata": {},
   "outputs": [
    {
     "data": {
      "text/plain": [
       "[1, 2, 3, 4, 5]"
      ]
     },
     "execution_count": 2,
     "metadata": {},
     "output_type": "execute_result"
    }
   ],
   "source": [
    "numbersBetween(1, 6)"
   ]
  },
  {
   "cell_type": "markdown",
   "id": "2ff4b14f",
   "metadata": {},
   "source": [
    "### Create a function that takes a string and a letter and return the input string without that letter. There must be an input string by default"
   ]
  },
  {
   "cell_type": "code",
   "execution_count": null,
   "id": "bccd27b3",
   "metadata": {},
   "outputs": [],
   "source": [
    "def sentenceReplace(character,sentence):\n",
    "    # character: string with a single character\n",
    "    # sentence: sentence to remove the character from\n",
    "    \n",
    "    \n",
    "    \n",
    "    return out_string"
   ]
  },
  {
   "cell_type": "code",
   "execution_count": null,
   "id": "355389a4",
   "metadata": {},
   "outputs": [],
   "source": []
  },
  {
   "cell_type": "code",
   "execution_count": null,
   "id": "114b778f",
   "metadata": {},
   "outputs": [],
   "source": []
  },
  {
   "cell_type": "code",
   "execution_count": 3,
   "id": "1df73fee",
   "metadata": {},
   "outputs": [],
   "source": [
    "def sentenceReplace(character,sentence):\n",
    "    out_string=sentence.replace(character,\"\")\n",
    "    return out_string"
   ]
  },
  {
   "cell_type": "code",
   "execution_count": 5,
   "id": "6ef70b17",
   "metadata": {},
   "outputs": [
    {
     "data": {
      "text/plain": [
       "'Buenos dís'"
      ]
     },
     "execution_count": 5,
     "metadata": {},
     "output_type": "execute_result"
    }
   ],
   "source": [
    "sentenceReplace(\"a\",\"Buenos días\")"
   ]
  },
  {
   "cell_type": "markdown",
   "id": "5bb239ab",
   "metadata": {},
   "source": [
    "### Create a function that detects if an input string is a palindrome"
   ]
  },
  {
   "cell_type": "code",
   "execution_count": null,
   "id": "cf0609b6",
   "metadata": {},
   "outputs": [],
   "source": [
    "def isPalindrome(word):\n",
    "    # Word: STRING to check if palindrome\n",
    "    # output: BOOLEAN. True if palindrome False otherwise\n",
    "    \n",
    "    \n",
    "\n",
    "    return output"
   ]
  },
  {
   "cell_type": "code",
   "execution_count": null,
   "id": "691f0b5b",
   "metadata": {},
   "outputs": [],
   "source": []
  },
  {
   "cell_type": "code",
   "execution_count": null,
   "id": "ee41d7ea",
   "metadata": {},
   "outputs": [],
   "source": []
  },
  {
   "cell_type": "code",
   "execution_count": 6,
   "id": "2a9e5572",
   "metadata": {},
   "outputs": [],
   "source": [
    "def isPalindrome(word):\n",
    "    word_lower=word.lower() \n",
    "    if word_lower == word_lower[::-1]:\n",
    "        output= True\n",
    "    else:\n",
    "        output= False\n",
    "    return output"
   ]
  },
  {
   "cell_type": "code",
   "execution_count": 7,
   "id": "9f29b8d9",
   "metadata": {},
   "outputs": [
    {
     "data": {
      "text/plain": [
       "True"
      ]
     },
     "execution_count": 7,
     "metadata": {},
     "output_type": "execute_result"
    }
   ],
   "source": [
    "isPalindrome(\"kayak\")"
   ]
  },
  {
   "cell_type": "code",
   "execution_count": 8,
   "id": "4696c259",
   "metadata": {},
   "outputs": [
    {
     "data": {
      "text/plain": [
       "True"
      ]
     },
     "execution_count": 8,
     "metadata": {},
     "output_type": "execute_result"
    }
   ],
   "source": [
    "isPalindrome(\"Rotor\")"
   ]
  },
  {
   "cell_type": "code",
   "execution_count": 9,
   "id": "aa3b2591",
   "metadata": {},
   "outputs": [
    {
     "data": {
      "text/plain": [
       "False"
      ]
     },
     "execution_count": 9,
     "metadata": {},
     "output_type": "execute_result"
    }
   ],
   "source": [
    "isPalindrome(\"motor\")"
   ]
  },
  {
   "cell_type": "markdown",
   "id": "9c52727c",
   "metadata": {},
   "source": [
    "### Functions do not always need to return a value"
   ]
  },
  {
   "cell_type": "code",
   "execution_count": null,
   "id": "cbb09aa9",
   "metadata": {},
   "outputs": [],
   "source": []
  },
  {
   "cell_type": "code",
   "execution_count": null,
   "id": "11995b10",
   "metadata": {},
   "outputs": [],
   "source": []
  },
  {
   "cell_type": "code",
   "execution_count": 10,
   "id": "1b07a167",
   "metadata": {
    "scrolled": true
   },
   "outputs": [],
   "source": [
    "from datetime import datetime\n",
    "\n",
    "def whatTimeIsIt():\n",
    "    now = datetime.now()\n",
    "    print(now)"
   ]
  },
  {
   "cell_type": "code",
   "execution_count": 12,
   "id": "76ff9390",
   "metadata": {},
   "outputs": [
    {
     "name": "stdout",
     "output_type": "stream",
     "text": [
      "2021-10-13 12:30:49.016365\n"
     ]
    }
   ],
   "source": [
    "whatTimeIsIt()"
   ]
  },
  {
   "cell_type": "markdown",
   "id": "b258cec6",
   "metadata": {},
   "source": [
    "**What happens if ????**"
   ]
  },
  {
   "cell_type": "code",
   "execution_count": null,
   "id": "b89d8a59",
   "metadata": {},
   "outputs": [],
   "source": [
    "time=whatTimeIsIt()\n",
    "print(time)"
   ]
  },
  {
   "cell_type": "markdown",
   "id": "7ae1ae33",
   "metadata": {},
   "source": [
    "## Scope"
   ]
  },
  {
   "cell_type": "markdown",
   "id": "92011ccf",
   "metadata": {},
   "source": [
    "All the variables declared inside a function are only accesible inside that function"
   ]
  },
  {
   "cell_type": "code",
   "execution_count": 13,
   "id": "053ba395",
   "metadata": {},
   "outputs": [],
   "source": [
    "def concat(string1,string2):\n",
    "    # string1: First string to concatenate\n",
    "    # string2: Second string to concatenate\n",
    "    # newstring: Resulting string\n",
    "    \n",
    "    newstring= string1+\" \"+string2\n",
    "    return newstring"
   ]
  },
  {
   "cell_type": "code",
   "execution_count": 14,
   "id": "06084312",
   "metadata": {},
   "outputs": [],
   "source": [
    "begining=\"Welcome to my\"\n",
    "ending=\"Python class\""
   ]
  },
  {
   "cell_type": "code",
   "execution_count": 15,
   "id": "83d9c7da",
   "metadata": {},
   "outputs": [
    {
     "name": "stdout",
     "output_type": "stream",
     "text": [
      "Welcome to my Python class\n"
     ]
    }
   ],
   "source": [
    "sentence = concat(begining, ending)\n",
    "print(sentence)"
   ]
  },
  {
   "cell_type": "markdown",
   "id": "57b3c8be",
   "metadata": {},
   "source": [
    "We cannot use **newstring** variable outside the scope of the function **concat**"
   ]
  },
  {
   "cell_type": "code",
   "execution_count": null,
   "id": "9888f86e",
   "metadata": {},
   "outputs": [],
   "source": [
    "print(newstring)"
   ]
  },
  {
   "cell_type": "markdown",
   "id": "5cfafc82",
   "metadata": {},
   "source": [
    "## Error messages"
   ]
  },
  {
   "cell_type": "code",
   "execution_count": 17,
   "id": "caad263c",
   "metadata": {},
   "outputs": [],
   "source": [
    "def askParamters(figure):\n",
    "    if figure==\"triangle\":\n",
    "        base = float(input(\"base?:\"))\n",
    "        height = float(input(\"height?:\"))\n",
    "        return base,height\n",
    "    elif figure==\"circle\":\n",
    "        radius = float(input(\"radius?:\"))\n",
    "        return radius\n",
    "    elif figure==\"square\":\n",
    "        side = float(input(\"side?:\"))\n",
    "        return side"
   ]
  },
  {
   "cell_type": "code",
   "execution_count": 33,
   "id": "9a1b1ceb",
   "metadata": {},
   "outputs": [],
   "source": [
    "import numpy as np\n",
    "\n",
    "def computeArea(figure):\n",
    "    if figure==\"triangle\":\n",
    "        base,height = askParamters(\"triangle\")\n",
    "        area=base*height/2\n",
    "    elif figure==\"circle\":\n",
    "        radius = askParamters(\"circle\")\n",
    "        area=np.pi*radius**2\n",
    "    elif figure==\"square\":\n",
    "        side = askParamters(\"square\")\n",
    "        area= side**2\n",
    "    else:\n",
    "        print(\"wrong figure\")\n",
    "        area=0\n",
    "    return area"
   ]
  },
  {
   "cell_type": "code",
   "execution_count": 19,
   "id": "0251bd57",
   "metadata": {},
   "outputs": [
    {
     "name": "stdout",
     "output_type": "stream",
     "text": [
      "radius?:12\n"
     ]
    },
    {
     "data": {
      "text/plain": [
       "452.3893421169302"
      ]
     },
     "execution_count": 19,
     "metadata": {},
     "output_type": "execute_result"
    }
   ],
   "source": [
    "computeArea(\"circle\")"
   ]
  },
  {
   "cell_type": "code",
   "execution_count": 66,
   "id": "679cc1c6",
   "metadata": {},
   "outputs": [
    {
     "name": "stdout",
     "output_type": "stream",
     "text": [
      "side?:12\n"
     ]
    },
    {
     "data": {
      "text/plain": [
       "144.0"
      ]
     },
     "execution_count": 66,
     "metadata": {},
     "output_type": "execute_result"
    }
   ],
   "source": [
    "computeArea(\"square\")"
   ]
  },
  {
   "cell_type": "code",
   "execution_count": 34,
   "id": "1aa47e10",
   "metadata": {},
   "outputs": [
    {
     "name": "stdout",
     "output_type": "stream",
     "text": [
      "base?:3\n",
      "height?:4\n"
     ]
    },
    {
     "data": {
      "text/plain": [
       "6.0"
      ]
     },
     "execution_count": 34,
     "metadata": {},
     "output_type": "execute_result"
    }
   ],
   "source": [
    "computeArea(\"triangle\")"
   ]
  },
  {
   "cell_type": "markdown",
   "id": "46c14f4c",
   "metadata": {},
   "source": [
    "**Now introduce an error that will be detected on running time**"
   ]
  },
  {
   "cell_type": "code",
   "execution_count": 35,
   "id": "65811cf4",
   "metadata": {},
   "outputs": [],
   "source": [
    "def askParamters(figure):\n",
    "    if figure==\"triangle\":\n",
    "        base = float(input(\"base?:\"))\n",
    "        height = float(input(\"height?:\"))\n",
    "        return base,height\n",
    "    elif figure==\"circle\":\n",
    "        radius = float(input(\"radius?:\"))\n",
    "        return radios\n",
    "    elif figure==\"square\":\n",
    "        side = float(input(\"side?:\"))\n",
    "        return side"
   ]
  },
  {
   "cell_type": "code",
   "execution_count": 36,
   "id": "ec88e186",
   "metadata": {},
   "outputs": [
    {
     "name": "stdout",
     "output_type": "stream",
     "text": [
      "radius?:2\n"
     ]
    },
    {
     "ename": "NameError",
     "evalue": "name 'radios' is not defined",
     "output_type": "error",
     "traceback": [
      "\u001b[1;31m---------------------------------------------------------------------------\u001b[0m",
      "\u001b[1;31mNameError\u001b[0m                                 Traceback (most recent call last)",
      "\u001b[1;32m<ipython-input-36-10503f6b1f64>\u001b[0m in \u001b[0;36m<module>\u001b[1;34m\u001b[0m\n\u001b[1;32m----> 1\u001b[1;33m \u001b[0mcomputeArea\u001b[0m\u001b[1;33m(\u001b[0m\u001b[1;34m\"circle\"\u001b[0m\u001b[1;33m)\u001b[0m\u001b[1;33m\u001b[0m\u001b[1;33m\u001b[0m\u001b[0m\n\u001b[0m",
      "\u001b[1;32m<ipython-input-33-a1bdf775ebf3>\u001b[0m in \u001b[0;36mcomputeArea\u001b[1;34m(figure)\u001b[0m\n\u001b[0;32m      6\u001b[0m         \u001b[0marea\u001b[0m\u001b[1;33m=\u001b[0m\u001b[0mbase\u001b[0m\u001b[1;33m*\u001b[0m\u001b[0mheight\u001b[0m\u001b[1;33m/\u001b[0m\u001b[1;36m2\u001b[0m\u001b[1;33m\u001b[0m\u001b[1;33m\u001b[0m\u001b[0m\n\u001b[0;32m      7\u001b[0m     \u001b[1;32melif\u001b[0m \u001b[0mfigure\u001b[0m\u001b[1;33m==\u001b[0m\u001b[1;34m\"circle\"\u001b[0m\u001b[1;33m:\u001b[0m\u001b[1;33m\u001b[0m\u001b[1;33m\u001b[0m\u001b[0m\n\u001b[1;32m----> 8\u001b[1;33m         \u001b[0mradius\u001b[0m \u001b[1;33m=\u001b[0m \u001b[0maskParamters\u001b[0m\u001b[1;33m(\u001b[0m\u001b[1;34m\"circle\"\u001b[0m\u001b[1;33m)\u001b[0m\u001b[1;33m\u001b[0m\u001b[1;33m\u001b[0m\u001b[0m\n\u001b[0m\u001b[0;32m      9\u001b[0m         \u001b[0marea\u001b[0m\u001b[1;33m=\u001b[0m\u001b[0mnp\u001b[0m\u001b[1;33m.\u001b[0m\u001b[0mpi\u001b[0m\u001b[1;33m*\u001b[0m\u001b[0mradius\u001b[0m\u001b[1;33m**\u001b[0m\u001b[1;36m2\u001b[0m\u001b[1;33m\u001b[0m\u001b[1;33m\u001b[0m\u001b[0m\n\u001b[0;32m     10\u001b[0m     \u001b[1;32melif\u001b[0m \u001b[0mfigure\u001b[0m\u001b[1;33m==\u001b[0m\u001b[1;34m\"square\"\u001b[0m\u001b[1;33m:\u001b[0m\u001b[1;33m\u001b[0m\u001b[1;33m\u001b[0m\u001b[0m\n",
      "\u001b[1;32m<ipython-input-35-5274ae367391>\u001b[0m in \u001b[0;36maskParamters\u001b[1;34m(figure)\u001b[0m\n\u001b[0;32m      6\u001b[0m     \u001b[1;32melif\u001b[0m \u001b[0mfigure\u001b[0m\u001b[1;33m==\u001b[0m\u001b[1;34m\"circle\"\u001b[0m\u001b[1;33m:\u001b[0m\u001b[1;33m\u001b[0m\u001b[1;33m\u001b[0m\u001b[0m\n\u001b[0;32m      7\u001b[0m         \u001b[0mradius\u001b[0m \u001b[1;33m=\u001b[0m \u001b[0mfloat\u001b[0m\u001b[1;33m(\u001b[0m\u001b[0minput\u001b[0m\u001b[1;33m(\u001b[0m\u001b[1;34m\"radius?:\"\u001b[0m\u001b[1;33m)\u001b[0m\u001b[1;33m)\u001b[0m\u001b[1;33m\u001b[0m\u001b[1;33m\u001b[0m\u001b[0m\n\u001b[1;32m----> 8\u001b[1;33m         \u001b[1;32mreturn\u001b[0m \u001b[0mradios\u001b[0m\u001b[1;33m\u001b[0m\u001b[1;33m\u001b[0m\u001b[0m\n\u001b[0m\u001b[0;32m      9\u001b[0m     \u001b[1;32melif\u001b[0m \u001b[0mfigure\u001b[0m\u001b[1;33m==\u001b[0m\u001b[1;34m\"square\"\u001b[0m\u001b[1;33m:\u001b[0m\u001b[1;33m\u001b[0m\u001b[1;33m\u001b[0m\u001b[0m\n\u001b[0;32m     10\u001b[0m         \u001b[0mside\u001b[0m \u001b[1;33m=\u001b[0m \u001b[0mfloat\u001b[0m\u001b[1;33m(\u001b[0m\u001b[0minput\u001b[0m\u001b[1;33m(\u001b[0m\u001b[1;34m\"side?:\"\u001b[0m\u001b[1;33m)\u001b[0m\u001b[1;33m)\u001b[0m\u001b[1;33m\u001b[0m\u001b[1;33m\u001b[0m\u001b[0m\n",
      "\u001b[1;31mNameError\u001b[0m: name 'radios' is not defined"
     ]
    }
   ],
   "source": [
    "computeArea(\"circle\")"
   ]
  },
  {
   "cell_type": "markdown",
   "id": "d4cd6a02",
   "metadata": {},
   "source": [
    "### Example of dead code"
   ]
  },
  {
   "cell_type": "code",
   "execution_count": 37,
   "id": "cf02e4fa",
   "metadata": {},
   "outputs": [],
   "source": [
    "import math\n",
    "\n",
    "def area(radius): \n",
    "    temp = math.pi * radius**2 \n",
    "    return temp \n",
    "    permiter = 2 * math.pi * radius\n",
    "    print(\"The area of a circle with radius {} is: {}\".format(radius,temp))\n",
    "    print(\"The permiter of a circle with radius {} is: {}\".format(radius,permiter))"
   ]
  },
  {
   "cell_type": "markdown",
   "id": "91089650",
   "metadata": {},
   "source": [
    "**How many messages will be printed out?**"
   ]
  },
  {
   "cell_type": "code",
   "execution_count": 39,
   "id": "57bd3d16",
   "metadata": {},
   "outputs": [
    {
     "data": {
      "text/plain": [
       "28.274333882308138"
      ]
     },
     "execution_count": 39,
     "metadata": {},
     "output_type": "execute_result"
    }
   ],
   "source": [
    "#Note that all the code after a return statements will never be executed\n",
    "area(3)"
   ]
  },
  {
   "cell_type": "code",
   "execution_count": 40,
   "id": "aeeda8f5",
   "metadata": {},
   "outputs": [
    {
     "name": "stdout",
     "output_type": "stream",
     "text": [
      "The area of circle with radius 5 is:  78.53981633974483\n"
     ]
    }
   ],
   "source": [
    "print(\"The area of circle with radius 5 is: \",area(5))"
   ]
  },
  {
   "cell_type": "markdown",
   "id": "7917244d",
   "metadata": {},
   "source": [
    "## Passing Arguments"
   ]
  },
  {
   "cell_type": "markdown",
   "id": "54f25bf5",
   "metadata": {},
   "source": [
    "#### Some functions have no arguments"
   ]
  },
  {
   "cell_type": "code",
   "execution_count": 41,
   "id": "766d0ce3",
   "metadata": {},
   "outputs": [
    {
     "name": "stdout",
     "output_type": "stream",
     "text": [
      "timestamp: 2022-09-03 22:20:48.838754\n"
     ]
    }
   ],
   "source": [
    "from datetime import datetime\n",
    "\n",
    "def whatTimeIsIt():\n",
    "    now = datetime.now()\n",
    "    print(\"timestamp: \" +str(now))\n",
    "\n",
    "whatTimeIsIt()"
   ]
  },
  {
   "cell_type": "markdown",
   "id": "ced67dc6",
   "metadata": {},
   "source": [
    "#### Normally they have"
   ]
  },
  {
   "cell_type": "code",
   "execution_count": 42,
   "id": "245153b5",
   "metadata": {},
   "outputs": [],
   "source": [
    "from datetime import datetime\n",
    "import pytz\n",
    "\n",
    "def whatTimeIsIt(timezone):\n",
    "    tz = pytz.timezone(timezone)\n",
    "    now = datetime.now(tz)\n",
    "    return \"Timestamp in {}: {}\".format(timezone,now)"
   ]
  },
  {
   "cell_type": "code",
   "execution_count": 44,
   "id": "3248f682",
   "metadata": {},
   "outputs": [
    {
     "data": {
      "text/plain": [
       "'Timestamp in Europe/Madrid: 2022-09-03 22:21:04.217597+02:00'"
      ]
     },
     "execution_count": 44,
     "metadata": {},
     "output_type": "execute_result"
    }
   ],
   "source": [
    "whatTimeIsIt('Europe/Madrid')"
   ]
  },
  {
   "cell_type": "code",
   "execution_count": 45,
   "id": "0d5c7ed2",
   "metadata": {},
   "outputs": [
    {
     "ename": "TypeError",
     "evalue": "whatTimeIsIt() missing 1 required positional argument: 'timezone'",
     "output_type": "error",
     "traceback": [
      "\u001b[1;31m---------------------------------------------------------------------------\u001b[0m",
      "\u001b[1;31mTypeError\u001b[0m                                 Traceback (most recent call last)",
      "\u001b[1;32m<ipython-input-45-a17052418cf8>\u001b[0m in \u001b[0;36m<module>\u001b[1;34m\u001b[0m\n\u001b[1;32m----> 1\u001b[1;33m \u001b[0mwhatTimeIsIt\u001b[0m\u001b[1;33m(\u001b[0m\u001b[1;33m)\u001b[0m\u001b[1;33m\u001b[0m\u001b[1;33m\u001b[0m\u001b[0m\n\u001b[0m",
      "\u001b[1;31mTypeError\u001b[0m: whatTimeIsIt() missing 1 required positional argument: 'timezone'"
     ]
    }
   ],
   "source": [
    "whatTimeIsIt()"
   ]
  },
  {
   "cell_type": "markdown",
   "id": "34e6bf7f",
   "metadata": {},
   "source": [
    "**What happens if no arguments are passed?**"
   ]
  },
  {
   "cell_type": "code",
   "execution_count": 46,
   "id": "e69a1f28",
   "metadata": {},
   "outputs": [
    {
     "ename": "TypeError",
     "evalue": "whatTimeIsIt() missing 1 required positional argument: 'timezone'",
     "output_type": "error",
     "traceback": [
      "\u001b[1;31m---------------------------------------------------------------------------\u001b[0m",
      "\u001b[1;31mTypeError\u001b[0m                                 Traceback (most recent call last)",
      "\u001b[1;32m<ipython-input-46-a17052418cf8>\u001b[0m in \u001b[0;36m<module>\u001b[1;34m\u001b[0m\n\u001b[1;32m----> 1\u001b[1;33m \u001b[0mwhatTimeIsIt\u001b[0m\u001b[1;33m(\u001b[0m\u001b[1;33m)\u001b[0m\u001b[1;33m\u001b[0m\u001b[1;33m\u001b[0m\u001b[0m\n\u001b[0m",
      "\u001b[1;31mTypeError\u001b[0m: whatTimeIsIt() missing 1 required positional argument: 'timezone'"
     ]
    }
   ],
   "source": [
    "whatTimeIsIt()"
   ]
  },
  {
   "cell_type": "code",
   "execution_count": null,
   "id": "8af52a65",
   "metadata": {},
   "outputs": [],
   "source": []
  },
  {
   "cell_type": "code",
   "execution_count": null,
   "id": "188705d8",
   "metadata": {},
   "outputs": [],
   "source": []
  },
  {
   "cell_type": "markdown",
   "id": "34803a6a",
   "metadata": {},
   "source": [
    "**Solution**"
   ]
  },
  {
   "cell_type": "code",
   "execution_count": 47,
   "id": "5028d7e7",
   "metadata": {},
   "outputs": [],
   "source": [
    "def whatTimeIsIt(timezone='Europe/Madrid'):\n",
    "    tz = pytz.timezone(timezone)\n",
    "    now = datetime.now(tz)\n",
    "    return \"Timestamp in {}: {}\".format(timezone,now)"
   ]
  },
  {
   "cell_type": "code",
   "execution_count": 48,
   "id": "4377f1be",
   "metadata": {},
   "outputs": [
    {
     "data": {
      "text/plain": [
       "'Timestamp in Europe/Madrid: 2022-09-03 22:21:26.570683+02:00'"
      ]
     },
     "execution_count": 48,
     "metadata": {},
     "output_type": "execute_result"
    }
   ],
   "source": [
    "whatTimeIsIt()"
   ]
  },
  {
   "cell_type": "markdown",
   "id": "ccee0a37",
   "metadata": {},
   "source": [
    "#### The ordering oin default arguments is relevant"
   ]
  },
  {
   "cell_type": "code",
   "execution_count": 54,
   "id": "ecbf7028",
   "metadata": {},
   "outputs": [],
   "source": [
    "def registerUser(name, city=\"Madrid\", job=\"Student\"):\n",
    "    out=\"User {} from city: {} with job: {} created\".format(name,city,job)\n",
    "    return out"
   ]
  },
  {
   "cell_type": "code",
   "execution_count": null,
   "id": "83973bd6",
   "metadata": {},
   "outputs": [],
   "source": []
  },
  {
   "cell_type": "code",
   "execution_count": 55,
   "id": "0353809a",
   "metadata": {},
   "outputs": [
    {
     "data": {
      "text/plain": [
       "'User Luis from city: Cuenca with job: Student created'"
      ]
     },
     "execution_count": 55,
     "metadata": {},
     "output_type": "execute_result"
    }
   ],
   "source": [
    "registerUser(\"Luis\",\"Cuenca\")"
   ]
  },
  {
   "cell_type": "code",
   "execution_count": 56,
   "id": "1cc5a119",
   "metadata": {},
   "outputs": [
    {
     "data": {
      "text/plain": [
       "'User Luis from city: Cuenca with job: Enginner created'"
      ]
     },
     "execution_count": 56,
     "metadata": {},
     "output_type": "execute_result"
    }
   ],
   "source": [
    "registerUser(\"Luis\",\"Cuenca\",\"Enginner\")"
   ]
  },
  {
   "cell_type": "code",
   "execution_count": 57,
   "id": "8a791349",
   "metadata": {},
   "outputs": [
    {
     "data": {
      "text/plain": [
       "'User Luis from city: Enginner with job: Student created'"
      ]
     },
     "execution_count": 57,
     "metadata": {},
     "output_type": "execute_result"
    }
   ],
   "source": [
    "registerUser(\"Luis\",\"Enginner\")"
   ]
  },
  {
   "cell_type": "code",
   "execution_count": 58,
   "id": "1801abb8",
   "metadata": {},
   "outputs": [
    {
     "data": {
      "text/plain": [
       "'User Luis from city: Madrid with job: Enginner created'"
      ]
     },
     "execution_count": 58,
     "metadata": {},
     "output_type": "execute_result"
    }
   ],
   "source": [
    "registerUser(\"Luis\",job=\"Enginner\")"
   ]
  },
  {
   "cell_type": "markdown",
   "id": "bcf578aa",
   "metadata": {},
   "source": [
    "#### But be CAREFULL because Python is not so smart!!"
   ]
  },
  {
   "cell_type": "code",
   "execution_count": 59,
   "id": "59d610d3",
   "metadata": {},
   "outputs": [
    {
     "data": {
      "text/plain": [
       "'User Luis from city: Madrid with job: Student created'"
      ]
     },
     "execution_count": 59,
     "metadata": {},
     "output_type": "execute_result"
    }
   ],
   "source": [
    "registerUser(\"Luis\")"
   ]
  },
  {
   "cell_type": "code",
   "execution_count": 60,
   "id": "b8e634c4",
   "metadata": {},
   "outputs": [
    {
     "data": {
      "text/plain": [
       "'User Luis from city: 100 with job: Student created'"
      ]
     },
     "execution_count": 60,
     "metadata": {},
     "output_type": "execute_result"
    }
   ],
   "source": [
    "registerUser(\"Luis\",100)"
   ]
  },
  {
   "cell_type": "code",
   "execution_count": 61,
   "id": "22ec7053",
   "metadata": {},
   "outputs": [
    {
     "data": {
      "text/plain": [
       "'User Luis from city: 100 with job: 200 created'"
      ]
     },
     "execution_count": 61,
     "metadata": {},
     "output_type": "execute_result"
    }
   ],
   "source": [
    "registerUser(\"Luis\",100,200)"
   ]
  },
  {
   "cell_type": "markdown",
   "id": "5eea2238",
   "metadata": {},
   "source": [
    "## 11.10 Pass statement\n",
    "function definitions cannot be empty, but if you for some reason have a function definition with no content, put in the pass statement to avoid getting an error."
   ]
  },
  {
   "cell_type": "code",
   "execution_count": 62,
   "id": "25d520fc",
   "metadata": {},
   "outputs": [
    {
     "ename": "SyntaxError",
     "evalue": "unexpected EOF while parsing (<ipython-input-62-fccd18dcbd4e>, line 1)",
     "output_type": "error",
     "traceback": [
      "\u001b[1;36m  File \u001b[1;32m\"<ipython-input-62-fccd18dcbd4e>\"\u001b[1;36m, line \u001b[1;32m1\u001b[0m\n\u001b[1;33m    def myfunction():\u001b[0m\n\u001b[1;37m                     ^\u001b[0m\n\u001b[1;31mSyntaxError\u001b[0m\u001b[1;31m:\u001b[0m unexpected EOF while parsing\n"
     ]
    }
   ],
   "source": [
    "def myfunction():\n"
   ]
  },
  {
   "cell_type": "code",
   "execution_count": 63,
   "id": "cb9dc17f",
   "metadata": {},
   "outputs": [],
   "source": [
    "def myfunction():\n",
    "  pass"
   ]
  },
  {
   "cell_type": "markdown",
   "id": "fe86496e",
   "metadata": {},
   "source": [
    "## 11.11 Lambda / Anonymous functions\n",
    "• Are small functions    \n",
    "• They have no name     \n",
    "• Can only have a single expression   \n",
    "• Also known as LAMBDA functions      \n",
    "• Very common on MAP operations   "
   ]
  },
  {
   "cell_type": "markdown",
   "id": "7454481d",
   "metadata": {},
   "source": [
    "\n",
    "![Image](ImagesNotebook1/Lambda.JPG)\n"
   ]
  },
  {
   "cell_type": "markdown",
   "id": "bb3c569d",
   "metadata": {},
   "source": [
    "\n",
    "![Image](ImagesNotebook1/Map.JPG)"
   ]
  },
  {
   "cell_type": "markdown",
   "id": "09984653",
   "metadata": {},
   "source": [
    "![Image](ImagesNotebook1/Map2.JPG)"
   ]
  },
  {
   "cell_type": "markdown",
   "id": "70f61949",
   "metadata": {},
   "source": [
    "### 11.11.1 Examples"
   ]
  },
  {
   "cell_type": "code",
   "execution_count": 64,
   "id": "e38e515f",
   "metadata": {},
   "outputs": [
    {
     "name": "stdout",
     "output_type": "stream",
     "text": [
      "15\n"
     ]
    }
   ],
   "source": [
    "x = lambda a : a + 10\n",
    "print(x(5))"
   ]
  },
  {
   "cell_type": "code",
   "execution_count": 65,
   "id": "b9bd1bf6",
   "metadata": {},
   "outputs": [
    {
     "name": "stdout",
     "output_type": "stream",
     "text": [
      "30\n"
     ]
    }
   ],
   "source": [
    "x = lambda a, b : a * b\n",
    "print(x(5, 6)) "
   ]
  },
  {
   "cell_type": "code",
   "execution_count": 66,
   "id": "7e431156",
   "metadata": {},
   "outputs": [
    {
     "data": {
      "text/plain": [
       "4"
      ]
     },
     "execution_count": 66,
     "metadata": {},
     "output_type": "execute_result"
    }
   ],
   "source": [
    "f = lambda x: x+1\n",
    "\n",
    "f(3)"
   ]
  },
  {
   "cell_type": "code",
   "execution_count": 67,
   "id": "2e724138",
   "metadata": {},
   "outputs": [
    {
     "name": "stdout",
     "output_type": "stream",
     "text": [
      "4\n"
     ]
    }
   ],
   "source": [
    "def next_integer(x):\n",
    "    return x+1\n",
    "\n",
    "f2 = next_integer(3)\n",
    "print(f2)"
   ]
  },
  {
   "cell_type": "markdown",
   "id": "bb0ee933",
   "metadata": {},
   "source": [
    "<https://www.w3schools.com/python/python_lambda.asp>"
   ]
  },
  {
   "cell_type": "markdown",
   "id": "0442f0bf",
   "metadata": {},
   "source": [
    "# 12 Excepciones\n",
    "If things go wrong, Python will raise an **exception**. These anomalous situations can be captured and handled using `try` staments."
   ]
  },
  {
   "cell_type": "code",
   "execution_count": 1,
   "id": "e05c78e5",
   "metadata": {},
   "outputs": [
    {
     "ename": "ZeroDivisionError",
     "evalue": "division by zero",
     "output_type": "error",
     "traceback": [
      "\u001b[1;31m---------------------------------------------------------------------------\u001b[0m",
      "\u001b[1;31mZeroDivisionError\u001b[0m                         Traceback (most recent call last)",
      "\u001b[1;32m<ipython-input-1-f24c0a2fda44>\u001b[0m in \u001b[0;36m<module>\u001b[1;34m\u001b[0m\n\u001b[1;32m----> 1\u001b[1;33m \u001b[0msomething_bad\u001b[0m \u001b[1;33m=\u001b[0m \u001b[1;36m5\u001b[0m\u001b[1;33m/\u001b[0m\u001b[1;36m0\u001b[0m\u001b[1;33m\u001b[0m\u001b[1;33m\u001b[0m\u001b[0m\n\u001b[0m",
      "\u001b[1;31mZeroDivisionError\u001b[0m: division by zero"
     ]
    }
   ],
   "source": [
    "something_bad = 5/0"
   ]
  },
  {
   "cell_type": "code",
   "execution_count": 2,
   "id": "3c1741cf",
   "metadata": {},
   "outputs": [
    {
     "name": "stdout",
     "output_type": "stream",
     "text": [
      "Division by zero, please be more careful next time...\n"
     ]
    }
   ],
   "source": [
    "try:\n",
    "    something_bad = 5/0\n",
    "    \n",
    "except ZeroDivisionError:\n",
    "    print('Division by zero, please be more careful next time...')"
   ]
  },
  {
   "cell_type": "code",
   "execution_count": null,
   "id": "b1cbf59b",
   "metadata": {},
   "outputs": [],
   "source": []
  },
  {
   "cell_type": "code",
   "execution_count": 3,
   "id": "7712a0e3",
   "metadata": {},
   "outputs": [
    {
     "ename": "ZeroDivisionError",
     "evalue": "division by zero",
     "output_type": "error",
     "traceback": [
      "\u001b[1;31m---------------------------------------------------------------------------\u001b[0m",
      "\u001b[1;31mZeroDivisionError\u001b[0m                         Traceback (most recent call last)",
      "\u001b[1;32m<ipython-input-3-3f5d4cfcce44>\u001b[0m in \u001b[0;36m<module>\u001b[1;34m\u001b[0m\n\u001b[0;32m      1\u001b[0m \u001b[0mdistance\u001b[0m\u001b[1;33m=\u001b[0m\u001b[1;36m100\u001b[0m\u001b[1;33m\u001b[0m\u001b[1;33m\u001b[0m\u001b[0m\n\u001b[0;32m      2\u001b[0m \u001b[0melapsed_time\u001b[0m\u001b[1;33m=\u001b[0m\u001b[1;36m0\u001b[0m\u001b[1;33m\u001b[0m\u001b[1;33m\u001b[0m\u001b[0m\n\u001b[1;32m----> 3\u001b[1;33m \u001b[0mspeed\u001b[0m\u001b[1;33m=\u001b[0m\u001b[0mdistance\u001b[0m\u001b[1;33m/\u001b[0m\u001b[0melapsed_time\u001b[0m\u001b[1;33m\u001b[0m\u001b[1;33m\u001b[0m\u001b[0m\n\u001b[0m\u001b[0;32m      4\u001b[0m \u001b[0mprint\u001b[0m\u001b[1;33m(\u001b[0m\u001b[1;34m\"Speed: \"\u001b[0m\u001b[1;33m,\u001b[0m\u001b[0mspeed\u001b[0m\u001b[1;33m)\u001b[0m\u001b[1;33m\u001b[0m\u001b[1;33m\u001b[0m\u001b[0m\n",
      "\u001b[1;31mZeroDivisionError\u001b[0m: division by zero"
     ]
    }
   ],
   "source": [
    "distance=100\n",
    "elapsed_time=0\n",
    "speed=distance/elapsed_time\n",
    "print(\"Speed: \",speed)"
   ]
  },
  {
   "cell_type": "markdown",
   "id": "c54e2f23",
   "metadata": {},
   "source": [
    "**Solved!!:**"
   ]
  },
  {
   "cell_type": "code",
   "execution_count": 4,
   "id": "8d2f9443",
   "metadata": {},
   "outputs": [
    {
     "name": "stdout",
     "output_type": "stream",
     "text": [
      "Speed:  0\n"
     ]
    }
   ],
   "source": [
    "distance=100\n",
    "elapsed_time=0\n",
    "try:\n",
    "    speed=distance/elapsed_time\n",
    "except ZeroDivisionError:\n",
    "    speed=0\n",
    "print(\"Speed: \",speed)    "
   ]
  },
  {
   "cell_type": "markdown",
   "id": "d5edfbd1",
   "metadata": {},
   "source": [
    "**What about this code? Which exception do we receive?**"
   ]
  },
  {
   "cell_type": "code",
   "execution_count": 5,
   "id": "dd0d3188",
   "metadata": {},
   "outputs": [
    {
     "ename": "TypeError",
     "evalue": "unsupported operand type(s) for /: 'int' and 'str'",
     "output_type": "error",
     "traceback": [
      "\u001b[1;31m---------------------------------------------------------------------------\u001b[0m",
      "\u001b[1;31mTypeError\u001b[0m                                 Traceback (most recent call last)",
      "\u001b[1;32m<ipython-input-5-727d4562a6d6>\u001b[0m in \u001b[0;36m<module>\u001b[1;34m\u001b[0m\n\u001b[0;32m      1\u001b[0m \u001b[0mdistance\u001b[0m\u001b[1;33m=\u001b[0m\u001b[1;36m100\u001b[0m\u001b[1;33m\u001b[0m\u001b[1;33m\u001b[0m\u001b[0m\n\u001b[0;32m      2\u001b[0m \u001b[0melapsed_time\u001b[0m\u001b[1;33m=\u001b[0m\u001b[1;34m\"Hola\"\u001b[0m\u001b[1;33m\u001b[0m\u001b[1;33m\u001b[0m\u001b[0m\n\u001b[1;32m----> 3\u001b[1;33m \u001b[0mspeed\u001b[0m\u001b[1;33m=\u001b[0m\u001b[0mdistance\u001b[0m\u001b[1;33m/\u001b[0m\u001b[0melapsed_time\u001b[0m\u001b[1;33m\u001b[0m\u001b[1;33m\u001b[0m\u001b[0m\n\u001b[0m\u001b[0;32m      4\u001b[0m \u001b[0mprint\u001b[0m\u001b[1;33m(\u001b[0m\u001b[1;34m\"Speed: \"\u001b[0m\u001b[1;33m,\u001b[0m\u001b[0mspeed\u001b[0m\u001b[1;33m)\u001b[0m\u001b[1;33m\u001b[0m\u001b[1;33m\u001b[0m\u001b[0m\n",
      "\u001b[1;31mTypeError\u001b[0m: unsupported operand type(s) for /: 'int' and 'str'"
     ]
    }
   ],
   "source": [
    "distance=100\n",
    "elapsed_time=\"Hola\"\n",
    "speed=distance/elapsed_time\n",
    "print(\"Speed: \",speed)"
   ]
  },
  {
   "cell_type": "markdown",
   "id": "de3d0b3b",
   "metadata": {},
   "source": [
    "**Solved too!!:**"
   ]
  },
  {
   "cell_type": "code",
   "execution_count": 6,
   "id": "4bf03f6a",
   "metadata": {},
   "outputs": [
    {
     "name": "stdout",
     "output_type": "stream",
     "text": [
      "No se dividir por un string\n",
      "Speed:  0\n"
     ]
    }
   ],
   "source": [
    "import numpy as np\n",
    "distance=100\n",
    "elapsed_time=\"Hola\"\n",
    "try:\n",
    "    speed=distance/elapsed_time\n",
    "except ZeroDivisionError:\n",
    "    print(\"No se dividir por cero\")\n",
    "    speed=0\n",
    "except TypeError:\n",
    "    print(\"No se dividir por un string\")\n",
    "    speed=0  \n",
    "except:\n",
    "    print(\"Se ha producido un error desconocido\")\n",
    "    speed=0\n",
    "    \n",
    "    \n",
    "print(\"Speed: \",speed)   "
   ]
  },
  {
   "cell_type": "markdown",
   "id": "9ecec594",
   "metadata": {},
   "source": [
    "### Let's make infallible this code"
   ]
  },
  {
   "cell_type": "code",
   "execution_count": 7,
   "id": "a14036e6",
   "metadata": {},
   "outputs": [],
   "source": [
    "from datetime import datetime\n",
    "import pytz\n",
    "\n",
    "def whatTimeIsIt(timezone='Europe/Madrid'):\n",
    "    tz = pytz.timezone(timezone)\n",
    "    now = datetime.now(tz)\n",
    "    return \"Timestamp in {}: {}\".format(timezone,now)"
   ]
  },
  {
   "cell_type": "code",
   "execution_count": 8,
   "id": "3992b89c",
   "metadata": {},
   "outputs": [
    {
     "ename": "UnknownTimeZoneError",
     "evalue": "'Cuenca'",
     "output_type": "error",
     "traceback": [
      "\u001b[1;31m---------------------------------------------------------------------------\u001b[0m",
      "\u001b[1;31mUnknownTimeZoneError\u001b[0m                      Traceback (most recent call last)",
      "\u001b[1;32m<ipython-input-8-da9d59f3c8ab>\u001b[0m in \u001b[0;36m<module>\u001b[1;34m\u001b[0m\n\u001b[1;32m----> 1\u001b[1;33m \u001b[0mwhatTimeIsIt\u001b[0m\u001b[1;33m(\u001b[0m\u001b[1;34m\"Cuenca\"\u001b[0m\u001b[1;33m)\u001b[0m\u001b[1;33m\u001b[0m\u001b[1;33m\u001b[0m\u001b[0m\n\u001b[0m",
      "\u001b[1;32m<ipython-input-7-1225f68ee16f>\u001b[0m in \u001b[0;36mwhatTimeIsIt\u001b[1;34m(timezone)\u001b[0m\n\u001b[0;32m      3\u001b[0m \u001b[1;33m\u001b[0m\u001b[0m\n\u001b[0;32m      4\u001b[0m \u001b[1;32mdef\u001b[0m \u001b[0mwhatTimeIsIt\u001b[0m\u001b[1;33m(\u001b[0m\u001b[0mtimezone\u001b[0m\u001b[1;33m=\u001b[0m\u001b[1;34m'Europe/Madrid'\u001b[0m\u001b[1;33m)\u001b[0m\u001b[1;33m:\u001b[0m\u001b[1;33m\u001b[0m\u001b[1;33m\u001b[0m\u001b[0m\n\u001b[1;32m----> 5\u001b[1;33m     \u001b[0mtz\u001b[0m \u001b[1;33m=\u001b[0m \u001b[0mpytz\u001b[0m\u001b[1;33m.\u001b[0m\u001b[0mtimezone\u001b[0m\u001b[1;33m(\u001b[0m\u001b[0mtimezone\u001b[0m\u001b[1;33m)\u001b[0m\u001b[1;33m\u001b[0m\u001b[1;33m\u001b[0m\u001b[0m\n\u001b[0m\u001b[0;32m      6\u001b[0m     \u001b[0mnow\u001b[0m \u001b[1;33m=\u001b[0m \u001b[0mdatetime\u001b[0m\u001b[1;33m.\u001b[0m\u001b[0mnow\u001b[0m\u001b[1;33m(\u001b[0m\u001b[0mtz\u001b[0m\u001b[1;33m)\u001b[0m\u001b[1;33m\u001b[0m\u001b[1;33m\u001b[0m\u001b[0m\n\u001b[0;32m      7\u001b[0m     \u001b[1;32mreturn\u001b[0m \u001b[1;34m\"Timestamp in {}: {}\"\u001b[0m\u001b[1;33m.\u001b[0m\u001b[0mformat\u001b[0m\u001b[1;33m(\u001b[0m\u001b[0mtimezone\u001b[0m\u001b[1;33m,\u001b[0m\u001b[0mnow\u001b[0m\u001b[1;33m)\u001b[0m\u001b[1;33m\u001b[0m\u001b[1;33m\u001b[0m\u001b[0m\n",
      "\u001b[1;32m~\\anaconda3\\lib\\site-packages\\pytz\\__init__.py\u001b[0m in \u001b[0;36mtimezone\u001b[1;34m(zone)\u001b[0m\n\u001b[0;32m    186\u001b[0m                 \u001b[0mfp\u001b[0m\u001b[1;33m.\u001b[0m\u001b[0mclose\u001b[0m\u001b[1;33m(\u001b[0m\u001b[1;33m)\u001b[0m\u001b[1;33m\u001b[0m\u001b[1;33m\u001b[0m\u001b[0m\n\u001b[0;32m    187\u001b[0m         \u001b[1;32melse\u001b[0m\u001b[1;33m:\u001b[0m\u001b[1;33m\u001b[0m\u001b[1;33m\u001b[0m\u001b[0m\n\u001b[1;32m--> 188\u001b[1;33m             \u001b[1;32mraise\u001b[0m \u001b[0mUnknownTimeZoneError\u001b[0m\u001b[1;33m(\u001b[0m\u001b[0mzone\u001b[0m\u001b[1;33m)\u001b[0m\u001b[1;33m\u001b[0m\u001b[1;33m\u001b[0m\u001b[0m\n\u001b[0m\u001b[0;32m    189\u001b[0m \u001b[1;33m\u001b[0m\u001b[0m\n\u001b[0;32m    190\u001b[0m     \u001b[1;32mreturn\u001b[0m \u001b[0m_tzinfo_cache\u001b[0m\u001b[1;33m[\u001b[0m\u001b[0mzone\u001b[0m\u001b[1;33m]\u001b[0m\u001b[1;33m\u001b[0m\u001b[1;33m\u001b[0m\u001b[0m\n",
      "\u001b[1;31mUnknownTimeZoneError\u001b[0m: 'Cuenca'"
     ]
    }
   ],
   "source": [
    "whatTimeIsIt(\"Cuenca\")"
   ]
  },
  {
   "cell_type": "code",
   "execution_count": null,
   "id": "5eb89944",
   "metadata": {},
   "outputs": [],
   "source": []
  },
  {
   "cell_type": "code",
   "execution_count": null,
   "id": "93a42b99",
   "metadata": {},
   "outputs": [],
   "source": []
  },
  {
   "cell_type": "code",
   "execution_count": 9,
   "id": "4f12a337",
   "metadata": {},
   "outputs": [],
   "source": [
    "def whatTimeIsIt(timezone='Europe/Madrid'):\n",
    "    try:\n",
    "        tz = pytz.timezone(timezone)\n",
    "        now = datetime.now(tz)\n",
    "    except:\n",
    "        print(\"Time zone {} does not exists\".format(timezone))\n",
    "        now=0\n",
    "    return \"Timestamp in {}: {}\".format(timezone,now)"
   ]
  },
  {
   "cell_type": "code",
   "execution_count": 10,
   "id": "f6e5abbc",
   "metadata": {},
   "outputs": [
    {
     "name": "stdout",
     "output_type": "stream",
     "text": [
      "Time zone Cuenca does not exists\n"
     ]
    },
    {
     "data": {
      "text/plain": [
       "'Timestamp in Cuenca: 0'"
      ]
     },
     "execution_count": 10,
     "metadata": {},
     "output_type": "execute_result"
    }
   ],
   "source": [
    "whatTimeIsIt(\"Cuenca\")"
   ]
  },
  {
   "cell_type": "code",
   "execution_count": 12,
   "id": "345554a7",
   "metadata": {},
   "outputs": [
    {
     "data": {
      "text/plain": [
       "'Timestamp in Europe/Madrid: 2022-09-04 06:38:03.194859+02:00'"
      ]
     },
     "execution_count": 12,
     "metadata": {},
     "output_type": "execute_result"
    }
   ],
   "source": [
    "whatTimeIsIt(\"Europe/Madrid\")"
   ]
  },
  {
   "cell_type": "markdown",
   "id": "0138a3a6",
   "metadata": {},
   "source": [
    "# 13 Know Python version and execute OS Commands"
   ]
  },
  {
   "cell_type": "markdown",
   "id": "4564fb00",
   "metadata": {},
   "source": [
    "## 13.1 First option\n",
    "To check the Python version in your Jupyter notebook, first import the python_version function with “from platform import python_version“. Then call the function python_version() that returns a string with the version number running in your Jupyter notebook such as \"3.7.11\". "
   ]
  },
  {
   "cell_type": "code",
   "execution_count": 13,
   "id": "71864f04",
   "metadata": {},
   "outputs": [
    {
     "data": {
      "text/plain": [
       "'3.8.8'"
      ]
     },
     "execution_count": 13,
     "metadata": {},
     "output_type": "execute_result"
    }
   ],
   "source": [
    "from platform import python_version\n",
    "python_version()"
   ]
  },
  {
   "cell_type": "markdown",
   "id": "87644cea",
   "metadata": {},
   "source": [
    "## 13.2 2nd option: Using sys module"
   ]
  },
  {
   "cell_type": "code",
   "execution_count": 14,
   "id": "708e8a26",
   "metadata": {},
   "outputs": [
    {
     "name": "stdout",
     "output_type": "stream",
     "text": [
      "C:\\Users\\cmval\\anaconda3\\python.exe\n",
      "3.8.8 (default, Apr 13 2021, 15:08:03) [MSC v.1916 64 bit (AMD64)]\n",
      "sys.version_info(major=3, minor=8, micro=8, releaselevel='final', serial=0)\n"
     ]
    }
   ],
   "source": [
    "import sys\n",
    "print(sys.executable)\n",
    "print(sys.version)\n",
    "print(sys.version_info)"
   ]
  },
  {
   "cell_type": "markdown",
   "id": "e7cd70d6",
   "metadata": {},
   "source": [
    "## 13.3 3rd option: Using exclamation mark\n",
    "\n",
    "What many coders using Jupyter notebooks do not know is that Jupyter notebooks provide you the exclamation mark operator that allows you to execute commands on the underlying operating system. "
   ]
  },
  {
   "cell_type": "markdown",
   "id": "ab1d578a",
   "metadata": {},
   "source": [
    "To check the Python version, run !python -V in your Jupyter notebook cell. This is the operating system command you’d use to check your Python version in your terminal or command line—prefixed with an exclamation mark. This only works in Jupyter notebooks but not in normal Python scripts."
   ]
  },
  {
   "cell_type": "code",
   "execution_count": 15,
   "id": "8585f7bc",
   "metadata": {},
   "outputs": [
    {
     "name": "stdout",
     "output_type": "stream",
     "text": [
      "Python 3.8.8\n"
     ]
    }
   ],
   "source": [
    "!python -V "
   ]
  },
  {
   "cell_type": "markdown",
   "id": "1b5729ef",
   "metadata": {},
   "source": [
    "### We can execute other OS commands"
   ]
  },
  {
   "cell_type": "code",
   "execution_count": 18,
   "id": "0970c55e",
   "metadata": {},
   "outputs": [
    {
     "name": "stdout",
     "output_type": "stream",
     "text": [
      " El volumen de la unidad C no tiene etiqueta.\n",
      " El n£mero de serie del volumen es: AE17-7B05\n",
      "\n",
      " Directorio de C:\\Users\\cmval\\Desktop\\Curso 2022-2023\\6 Master MMS Data Analysis and Viz with Python\\Material\n",
      "\n",
      "04/09/2022  06:47    <DIR>          .\n",
      "04/09/2022  06:47    <DIR>          ..\n",
      "03/09/2022  18:46    <DIR>          .ipynb_checkpoints\n",
      "21/01/2022  19:01         4.136.723 0 Intro a la asignaturaxxxx.pptx\n",
      "28/08/2022  21:29             7.203 1 First Notebook.ipynb\n",
      "28/08/2022  17:09         2.505.871 1 Intro.pptx\n",
      "28/08/2022  18:00           915.777 2 Coding with python.pptx\n",
      "03/09/2022  13:23            42.988 2 Python Notebook 1.ipynb\n",
      "03/09/2022  12:56            41.065 2 Python Notebook 2.ipynb\n",
      "03/09/2022  18:48            86.627 2 Python Notebook 3.ipynb\n",
      "04/09/2022  06:47            55.112 2 Python Notebook 4.ipynb\n",
      "27/08/2022  22:28               290 codigo commandline.txt\n",
      "03/09/2022  22:38    <DIR>          ImagesNotebook1\n",
      "28/08/2022  20:09             4.358 pythonlogo.jpg\n",
      "              10 archivos      7.796.014 bytes\n",
      "               4 dirs  424.488.226.816 bytes libres\n"
     ]
    }
   ],
   "source": [
    "!dir"
   ]
  },
  {
   "cell_type": "markdown",
   "id": "984d9662",
   "metadata": {},
   "source": [
    "# 14 Random numbers generation\n",
    "Python Random module is an in-built module of Python which is used to generate random numbers. These are pseudo-random numbers means these are not truly random. This module can be used to perform random actions such as generating random numbers, print random a value for a list or string, etc."
   ]
  },
  {
   "cell_type": "markdown",
   "id": "5d47587a",
   "metadata": {},
   "source": [
    "<https://www.geeksforgeeks.org/python-random-module/>     \n",
    "<https://docs.python.org/3/library/random.html>"
   ]
  },
  {
   "cell_type": "code",
   "execution_count": 20,
   "id": "605fab58",
   "metadata": {},
   "outputs": [
    {
     "data": {
      "text/plain": [
       "6"
      ]
     },
     "execution_count": 20,
     "metadata": {},
     "output_type": "execute_result"
    }
   ],
   "source": [
    "import random as rg\n",
    "\n",
    "rg.randint(0, 10)"
   ]
  },
  {
   "cell_type": "code",
   "execution_count": 22,
   "id": "28df12db",
   "metadata": {},
   "outputs": [
    {
     "data": {
      "text/plain": [
       "8"
      ]
     },
     "execution_count": 22,
     "metadata": {},
     "output_type": "execute_result"
    }
   ],
   "source": [
    "rg.randrange(0, 10, 2)"
   ]
  },
  {
   "cell_type": "code",
   "execution_count": 23,
   "id": "22958e20",
   "metadata": {},
   "outputs": [
    {
     "data": {
      "text/plain": [
       "'D'"
      ]
     },
     "execution_count": 23,
     "metadata": {},
     "output_type": "execute_result"
    }
   ],
   "source": [
    "options = ['A', 'B', 'C', 'D', 'E', 'F']\n",
    "rg.choice(options)"
   ]
  },
  {
   "cell_type": "code",
   "execution_count": 24,
   "id": "fb08f98d",
   "metadata": {},
   "outputs": [
    {
     "data": {
      "text/plain": [
       "['C', 'A', 'E']"
      ]
     },
     "execution_count": 24,
     "metadata": {},
     "output_type": "execute_result"
    }
   ],
   "source": [
    "rg.sample(options, k=3)"
   ]
  },
  {
   "cell_type": "code",
   "execution_count": 25,
   "id": "31c4660c",
   "metadata": {},
   "outputs": [
    {
     "data": {
      "text/plain": [
       "0.37815836755030763"
      ]
     },
     "execution_count": 25,
     "metadata": {},
     "output_type": "execute_result"
    }
   ],
   "source": [
    "rg.random()"
   ]
  },
  {
   "cell_type": "code",
   "execution_count": 26,
   "id": "27b04488",
   "metadata": {},
   "outputs": [
    {
     "data": {
      "text/plain": [
       "0.4244461384426519"
      ]
     },
     "execution_count": 26,
     "metadata": {},
     "output_type": "execute_result"
    }
   ],
   "source": [
    "rg.uniform(-1, 1)"
   ]
  },
  {
   "cell_type": "code",
   "execution_count": 27,
   "id": "e65ec85d",
   "metadata": {},
   "outputs": [
    {
     "data": {
      "text/plain": [
       "2.223407451291155"
      ]
     },
     "execution_count": 27,
     "metadata": {},
     "output_type": "execute_result"
    }
   ],
   "source": [
    "rg.normalvariate(mu=3, sigma=1)"
   ]
  },
  {
   "cell_type": "code",
   "execution_count": 29,
   "id": "48e62de7",
   "metadata": {},
   "outputs": [
    {
     "name": "stdout",
     "output_type": "stream",
     "text": [
      "0.6229016948897019\n",
      "0.7417869892607294\n"
     ]
    }
   ],
   "source": [
    "### Random with seeding\n",
    "import random\n",
    "  \n",
    "random.seed(5)\n",
    "  \n",
    "print(random.random())\n",
    "print(random.random())"
   ]
  },
  {
   "cell_type": "code",
   "execution_count": null,
   "id": "ac621180",
   "metadata": {},
   "outputs": [],
   "source": []
  }
 ],
 "metadata": {
  "kernelspec": {
   "display_name": "Python 3",
   "language": "python",
   "name": "python3"
  },
  "language_info": {
   "codemirror_mode": {
    "name": "ipython",
    "version": 3
   },
   "file_extension": ".py",
   "mimetype": "text/x-python",
   "name": "python",
   "nbconvert_exporter": "python",
   "pygments_lexer": "ipython3",
   "version": "3.8.8"
  }
 },
 "nbformat": 4,
 "nbformat_minor": 5
}
