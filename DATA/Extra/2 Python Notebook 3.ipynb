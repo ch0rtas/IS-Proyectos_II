{
 "cells": [
  {
   "cell_type": "markdown",
   "id": "0731dc5b",
   "metadata": {},
   "source": [
    "# 7 Data Structures"
   ]
  },
  {
   "cell_type": "markdown",
   "id": "0ead0728",
   "metadata": {},
   "source": [
    "## 7.1 Lists\n",
    "A list is the Python equivalent of an array, but is resizable and can contain elements of different types.    \n",
    "A list is an ordered set of values, where each value is identified by an index.    \n",
    "The values that make up a list are called its elements.    \n",
    "Sounds familiar? Lists are also similar to strings, which are ordered sets of characters, except that the elements of a list can have any type."
   ]
  },
  {
   "cell_type": "code",
   "execution_count": 1,
   "id": "5fb76857",
   "metadata": {},
   "outputs": [
    {
     "name": "stdout",
     "output_type": "stream",
     "text": [
      "<class 'list'>\n"
     ]
    }
   ],
   "source": [
    "number_list= [10,20,30,40,-50,-60,-80]\n",
    "print(type(number_list))"
   ]
  },
  {
   "cell_type": "code",
   "execution_count": 2,
   "id": "687de5fa",
   "metadata": {},
   "outputs": [
    {
     "name": "stdout",
     "output_type": "stream",
     "text": [
      "<class 'list'>\n"
     ]
    }
   ],
   "source": [
    "string_list= [\"Madrid\",\"Berlin\",\"London\",\"Paris\",\"Rome\"]\n",
    "print(type(string_list))"
   ]
  },
  {
   "cell_type": "code",
   "execution_count": 3,
   "id": "214f90f3",
   "metadata": {},
   "outputs": [
    {
     "name": "stdout",
     "output_type": "stream",
     "text": [
      "<class 'list'>\n"
     ]
    }
   ],
   "source": [
    "misc_list= [\"monday\", 35, True, complex(3,4),[\"Madrid\",\"Berlin\"]]\n",
    "print(type(misc_list))"
   ]
  },
  {
   "cell_type": "code",
   "execution_count": 4,
   "id": "809d66e5",
   "metadata": {},
   "outputs": [
    {
     "name": "stdout",
     "output_type": "stream",
     "text": [
      "<class 'list'>\n"
     ]
    }
   ],
   "source": [
    "empty=[]\n",
    "print(type(empty))"
   ]
  },
  {
   "cell_type": "markdown",
   "id": "697154ff",
   "metadata": {},
   "source": [
    "### 7.1.1 Accessing elements"
   ]
  },
  {
   "cell_type": "code",
   "execution_count": 7,
   "id": "8c888f61",
   "metadata": {},
   "outputs": [
    {
     "name": "stdout",
     "output_type": "stream",
     "text": [
      "zero\n",
      "one\n",
      "two\n",
      "three\n",
      "three\n",
      "two\n",
      "one\n",
      "zero\n"
     ]
    },
    {
     "ename": "IndexError",
     "evalue": "list index out of range",
     "output_type": "error",
     "traceback": [
      "\u001b[1;31m---------------------------------------------------------------------------\u001b[0m",
      "\u001b[1;31mIndexError\u001b[0m                                Traceback (most recent call last)",
      "\u001b[1;32m<ipython-input-7-7d33216fd1ab>\u001b[0m in \u001b[0;36m<module>\u001b[1;34m\u001b[0m\n\u001b[0;32m      8\u001b[0m \u001b[0mprint\u001b[0m\u001b[1;33m(\u001b[0m\u001b[0msequence\u001b[0m\u001b[1;33m[\u001b[0m\u001b[1;33m-\u001b[0m\u001b[1;36m3\u001b[0m\u001b[1;33m]\u001b[0m\u001b[1;33m)\u001b[0m\u001b[1;33m\u001b[0m\u001b[1;33m\u001b[0m\u001b[0m\n\u001b[0;32m      9\u001b[0m \u001b[0mprint\u001b[0m\u001b[1;33m(\u001b[0m\u001b[0msequence\u001b[0m\u001b[1;33m[\u001b[0m\u001b[1;33m-\u001b[0m\u001b[1;36m4\u001b[0m\u001b[1;33m]\u001b[0m\u001b[1;33m)\u001b[0m\u001b[1;33m\u001b[0m\u001b[1;33m\u001b[0m\u001b[0m\n\u001b[1;32m---> 10\u001b[1;33m \u001b[0mprint\u001b[0m\u001b[1;33m(\u001b[0m\u001b[0msequence\u001b[0m\u001b[1;33m[\u001b[0m\u001b[1;36m4\u001b[0m\u001b[1;33m]\u001b[0m\u001b[1;33m)\u001b[0m\u001b[1;33m\u001b[0m\u001b[1;33m\u001b[0m\u001b[0m\n\u001b[0m",
      "\u001b[1;31mIndexError\u001b[0m: list index out of range"
     ]
    }
   ],
   "source": [
    "sequence=[\"zero\",\"one\",\"two\",\"three\"]\n",
    "print(sequence[0])\n",
    "print(sequence[1])\n",
    "print(sequence[2])\n",
    "print(sequence[3])\n",
    "print(sequence[-1])\n",
    "print(sequence[-2])\n",
    "print(sequence[-3])\n",
    "print(sequence[-4])\n",
    "print(sequence[4])"
   ]
  },
  {
   "cell_type": "markdown",
   "id": "9c49a65e",
   "metadata": {},
   "source": [
    "### 7.1.2 Membership in lists"
   ]
  },
  {
   "cell_type": "code",
   "execution_count": 9,
   "id": "dfdf082e",
   "metadata": {},
   "outputs": [
    {
     "name": "stdout",
     "output_type": "stream",
     "text": [
      "Pineapple in list:  False\n",
      "Watermelon in list:  True\n"
     ]
    }
   ],
   "source": [
    "sequence=[\"banana\",\"apple\",\"watermelon\",\"strawberry\"]\n",
    "a=\"pineapple\" in sequence\n",
    "print(\"Pineapple in list: \",a)\n",
    "b=\"watermelon\" in sequence\n",
    "print(\"Watermelon in list: \",b)"
   ]
  },
  {
   "cell_type": "markdown",
   "id": "4ab9a7d3",
   "metadata": {},
   "source": [
    "### 7.1.3 Apply operators"
   ]
  },
  {
   "cell_type": "code",
   "execution_count": 12,
   "id": "e76442ab",
   "metadata": {},
   "outputs": [
    {
     "data": {
      "text/plain": [
       "['banana', 'apple', 'watermelon', 'strawberry', 'zero', 'one', 'two', 'three']"
      ]
     },
     "execution_count": 12,
     "metadata": {},
     "output_type": "execute_result"
    }
   ],
   "source": [
    "sequence1=[\"banana\",\"apple\",\"watermelon\",\"strawberry\"]\n",
    "sequence2=[\"zero\",\"one\",\"two\",\"three\"]\n",
    "sequence1+sequence2"
   ]
  },
  {
   "cell_type": "code",
   "execution_count": 13,
   "id": "02847d8d",
   "metadata": {},
   "outputs": [
    {
     "data": {
      "text/plain": [
       "['zero', 'one', 'two', 'three', 'zero', 'one', 'two', 'three']"
      ]
     },
     "execution_count": 13,
     "metadata": {},
     "output_type": "execute_result"
    }
   ],
   "source": [
    "sequence2*2"
   ]
  },
  {
   "cell_type": "markdown",
   "id": "acff95a0",
   "metadata": {},
   "source": [
    " ### 7.1.4 Slice lists"
   ]
  },
  {
   "cell_type": "code",
   "execution_count": 14,
   "id": "f50dc30c",
   "metadata": {},
   "outputs": [
    {
     "name": "stdout",
     "output_type": "stream",
     "text": [
      "['zero', 'one', 'two']\n",
      "['two', 'three', 'four']\n",
      "['four', 'five']\n",
      "['three', 'four', 'five']\n"
     ]
    }
   ],
   "source": [
    "sequence=[\"zero\",\"one\",\"two\",\"three\",\"four\",\"five\"]\n",
    "print(sequence[:3])\n",
    "print(sequence[2:5])\n",
    "print(sequence[4:])\n",
    "print(sequence[-3:])"
   ]
  },
  {
   "cell_type": "markdown",
   "id": "f8aa95b6",
   "metadata": {},
   "source": [
    "### 7.1.5 Lists are mutable"
   ]
  },
  {
   "cell_type": "code",
   "execution_count": 15,
   "id": "c93f67ec",
   "metadata": {},
   "outputs": [
    {
     "name": "stdout",
     "output_type": "stream",
     "text": [
      "Update one element:  ['banana', 'pineapple', 'watermelon', 'strawberry']\n",
      "Update one element:  ['banana', 'pineapple', 'watermelon', 'melon']\n",
      "Update two elements:  ['banana', 'pineapple', 'blackberry', 'blackcurrant']\n",
      "Insert new elements:  ['banana', 'apple', 'watermelon', 'melon', 'pineapple', 'blackberry', 'blackcurrant']\n",
      "Remove one element:  ['banana', 'watermelon', 'melon', 'pineapple', 'blackberry', 'blackcurrant']\n",
      "Remove several elements:  ['banana', 'pineapple', 'blackberry', 'blackcurrant']\n"
     ]
    }
   ],
   "source": [
    "sequence=[\"banana\",\"apple\",\"watermelon\",\"strawberry\"]\n",
    "sequence[1]=\"pineapple\"\n",
    "print(\"Update one element: \",sequence)\n",
    "sequence[-1]=\"melon\"\n",
    "print(\"Update one element: \",sequence)\n",
    "sequence[2:4]=[\"blackberry\", \"blackcurrant\"]\n",
    "print(\"Update two elements: \",sequence)\n",
    "sequence[1:1]=[\"apple\",\"watermelon\",\"melon\"]\n",
    "print(\"Insert new elements: \",sequence)\n",
    "del sequence[1]\n",
    "print(\"Remove one element: \",sequence)\n",
    "del sequence[1:3]\n",
    "print(\"Remove several elements: \",sequence)"
   ]
  },
  {
   "cell_type": "markdown",
   "id": "9bd4e409",
   "metadata": {},
   "source": [
    "### 7.1.6 Aliasing on list or any mutable object"
   ]
  },
  {
   "cell_type": "markdown",
   "id": "8dcaa548",
   "metadata": {},
   "source": [
    "#### Those are diferent objects on different memory locations"
   ]
  },
  {
   "cell_type": "code",
   "execution_count": 16,
   "id": "1feee09a",
   "metadata": {
    "scrolled": false
   },
   "outputs": [
    {
     "name": "stdout",
     "output_type": "stream",
     "text": [
      "[1, 2, 3] memory position:  2024808528896\n",
      "[1, 2, 3] memory position:  2024809502656\n"
     ]
    }
   ],
   "source": [
    "list1=[1,2,3]\n",
    "list2=[1,2,3]\n",
    "print(list1,\"memory position: \",id(list1))\n",
    "print(list2,\"memory position: \",id(list2))"
   ]
  },
  {
   "cell_type": "code",
   "execution_count": 17,
   "id": "1435bf77",
   "metadata": {
    "scrolled": true
   },
   "outputs": [
    {
     "name": "stdout",
     "output_type": "stream",
     "text": [
      "[1, 2, 3] memory position:  2024803979712\n",
      "[1, 2, 3] memory position:  2024803979712\n"
     ]
    }
   ],
   "source": [
    "list1=[1,2,3]\n",
    "list2=list1\n",
    "print(list1,\"memory position: \",id(list1))\n",
    "print(list2,\"memory position: \",id(list2))"
   ]
  },
  {
   "cell_type": "markdown",
   "id": "f47844d1",
   "metadata": {},
   "source": [
    "#### What happens to one object happens to its alias"
   ]
  },
  {
   "cell_type": "code",
   "execution_count": 18,
   "id": "cdcb0c68",
   "metadata": {},
   "outputs": [
    {
     "name": "stdout",
     "output_type": "stream",
     "text": [
      "List1  [1, 3]\n",
      "List2  [1, 3]\n"
     ]
    }
   ],
   "source": [
    "list1=[1,2,3]\n",
    "list2=list1\n",
    "del list2[1]\n",
    "print(\"List1 \",list1)\n",
    "print(\"List2 \",list2)"
   ]
  },
  {
   "cell_type": "markdown",
   "id": "a0825155",
   "metadata": {},
   "source": [
    "#### To avoid aliasing, use cloning"
   ]
  },
  {
   "cell_type": "code",
   "execution_count": 19,
   "id": "bc11ae43",
   "metadata": {},
   "outputs": [
    {
     "name": "stdout",
     "output_type": "stream",
     "text": [
      "List1:  [1, 2, 3] memory position:  2024803153152\n",
      "List1:  [1, 2, 3] memory position:  2024808528832\n",
      "List1  [1, 2, 3]\n",
      "List2  [1, 3]\n"
     ]
    }
   ],
   "source": [
    "list1=[1,2,3]\n",
    "list2=list1[:]\n",
    "print(\"List1: \", list1,\"memory position: \",id(list1))\n",
    "print(\"List1: \", list2,\"memory position: \",id(list2))\n",
    "del list2[1]\n",
    "print(\"List1 \",list1)\n",
    "print(\"List2 \",list2)"
   ]
  },
  {
   "cell_type": "markdown",
   "id": "fd9b9e65",
   "metadata": {},
   "source": [
    "#### That also happens to unmutable objects but as they are unmutable there is no risk"
   ]
  },
  {
   "cell_type": "code",
   "execution_count": 20,
   "id": "629a476a",
   "metadata": {},
   "outputs": [
    {
     "name": "stdout",
     "output_type": "stream",
     "text": [
      "Hola memory position:  2024809554608\n",
      "Hola memory position:  2024809554608\n"
     ]
    }
   ],
   "source": [
    "string1=\"Hola\"\n",
    "string2=string1\n",
    "print(string1,\"memory position: \",id(string1))\n",
    "print(string2,\"memory position: \",id(string2))"
   ]
  },
  {
   "cell_type": "markdown",
   "id": "c08ece97",
   "metadata": {},
   "source": [
    "### 7.1.7 Arrays: Nested Lists"
   ]
  },
  {
   "cell_type": "code",
   "execution_count": 21,
   "id": "cbe6e22c",
   "metadata": {},
   "outputs": [
    {
     "name": "stdout",
     "output_type": "stream",
     "text": [
      "[[1, 2, 3], [4, 5, 6], [7, 8, 9]]\n"
     ]
    }
   ],
   "source": [
    "matrix = [[1, 2, 3], [4, 5, 6], [7, 8, 9]] \n",
    "print(matrix)"
   ]
  },
  {
   "cell_type": "code",
   "execution_count": 22,
   "id": "676df81e",
   "metadata": {},
   "outputs": [
    {
     "name": "stdout",
     "output_type": "stream",
     "text": [
      "[4, 5, 6]\n"
     ]
    }
   ],
   "source": [
    "row=matrix[1]\n",
    "print(row)"
   ]
  },
  {
   "cell_type": "code",
   "execution_count": 23,
   "id": "7a156489",
   "metadata": {},
   "outputs": [
    {
     "name": "stdout",
     "output_type": "stream",
     "text": [
      "5\n",
      "5\n"
     ]
    }
   ],
   "source": [
    "element=row[1]\n",
    "print(element)\n",
    "element2=matrix[1][1]\n",
    "print(element2)"
   ]
  },
  {
   "cell_type": "markdown",
   "id": "44d00b38",
   "metadata": {},
   "source": [
    "### 7.1.8 In-Place Operations with lists\n",
    "In-place operation is an operation that changes directly the content of a given data strcture without making a copy\n",
    "\n",
    "![Image](ImagesNotebook1/In-placemethodslists.JPG)\n",
    "\n",
    "<https://docs.python.org/3/tutorial/datastructures.html>"
   ]
  },
  {
   "cell_type": "code",
   "execution_count": 34,
   "id": "f5ec8650",
   "metadata": {},
   "outputs": [
    {
     "name": "stdout",
     "output_type": "stream",
     "text": [
      "Copy\n",
      "[1, 2, 3]\n",
      "[1, 2, 3]\n",
      "[1, 2, 3]\n",
      "\n",
      "\n",
      "Removing\n",
      "[1, 2]\n",
      "[1, 2, 3]\n",
      "[1, 2, 3]\n",
      "\n",
      "\n",
      "Inerting\n",
      "[1, 2, 3]\n",
      "[1, 2, 3]\n",
      "[1, 2, 3]\n",
      "\n",
      "\n",
      "Append\n",
      "[1, 2, 3, [1, 2, 3]]\n",
      "[1, 2, 3]\n",
      "[1, 2, 3]\n"
     ]
    }
   ],
   "source": [
    "l = [1, 2, 3]\n",
    "\n",
    "\n",
    "print(\"Copy\")\n",
    "l_copy = l[:] \n",
    "l_copy2 = l.copy()\n",
    "# Make a one layer deep copy of l into l_copy\n",
    "                 # Note that \"l_copy is l\" will result in False after this operation.\n",
    "                 # This is similar to using the \"copy()\" method, i.e., l_copy = l.copy()\n",
    "print(l)\n",
    "print(l_copy)\n",
    "print(l_copy2)\n",
    "\n",
    "print(\"\\n\")\n",
    "print(\"Removing\")\n",
    "  \n",
    "l.remove(3)      # Remove first occurrence of a value; l is now [1, 2]\n",
    "# l.remove(2)    # Raises a ValueError as 2 is not in the list\n",
    "\n",
    "print(l)\n",
    "print(l_copy)\n",
    "print(l_copy2)\n",
    "\n",
    "\n",
    "print(\"\\n\")\n",
    "print(\"Inerting\")\n",
    "  \n",
    "l.insert(2, 3)   # Insert an element at a specific index; l is now [1, 2, 3].\n",
    "                 # Note that l.insert(n, 3) would return the same output, where n >= len(l),\n",
    "                 # for example, l.insert(3, 3).\n",
    "print(l)\n",
    "print(l_copy)\n",
    "print(l_copy2)\n",
    "\n",
    "\n",
    "\n",
    "\n",
    "print(\"\\n\")\n",
    "print(\"Append\")\n",
    "  \n",
    "\n",
    "l.append(l_copy) # You can append lists using the \"append()\" method; returns [1, 2, 3, [1, 2, 3]]\n",
    "\n",
    "print(l)\n",
    "print(l_copy)\n",
    "print(l_copy2)\n",
    "  \n"
   ]
  },
  {
   "cell_type": "markdown",
   "id": "15a3a95e",
   "metadata": {},
   "source": [
    "### 7.1.9 Returning methods\n",
    "![Image](ImagesNotebook1/ReturningMethodsLists.JPG)"
   ]
  },
  {
   "cell_type": "code",
   "execution_count": 31,
   "id": "a6737cde",
   "metadata": {},
   "outputs": [
    {
     "name": "stdout",
     "output_type": "stream",
     "text": [
      "3\n",
      "[1, 2, 3, 1, 1]\n",
      "1\n",
      "2\n"
     ]
    }
   ],
   "source": [
    "my_list=[1,2,3,1,1]\n",
    "\n",
    "print(my_list.count(1))\n",
    "\n",
    "print(my_list)\n",
    "print(my_list.pop())\n",
    "print(my_list.count(1))"
   ]
  },
  {
   "cell_type": "markdown",
   "id": "ea99a257",
   "metadata": {},
   "source": [
    "### 7.1.10 We can use built-in function list to split a string into a list os characters"
   ]
  },
  {
   "cell_type": "code",
   "execution_count": 35,
   "id": "68608104",
   "metadata": {},
   "outputs": [
    {
     "name": "stdout",
     "output_type": "stream",
     "text": [
      "split a string into an array of characters\n"
     ]
    },
    {
     "data": {
      "text/plain": [
       "['f', 'o', 'o', 'b', 'a', 'r']"
      ]
     },
     "execution_count": 35,
     "metadata": {},
     "output_type": "execute_result"
    }
   ],
   "source": [
    "print(\"split a string into an array of characters\")\n",
    "# https://stackoverflow.com/questions/4978787/how-to-split-a-string-into-array-of-characters\n",
    "s = \"foobar\"\n",
    "list(s)"
   ]
  },
  {
   "cell_type": "code",
   "execution_count": 39,
   "id": "5b0b03ed",
   "metadata": {},
   "outputs": [
    {
     "name": "stdout",
     "output_type": "stream",
     "text": [
      "['apple', 'banana', 'cherry']\n"
     ]
    }
   ],
   "source": [
    "#It also works for creating a list from an iterable (for example a tuple, we will see it in next section):\n",
    "x = list(('apple', 'banana', 'cherry')) \n",
    "print(x)"
   ]
  },
  {
   "cell_type": "markdown",
   "id": "085c95bb",
   "metadata": {},
   "source": [
    "### 7.1.11 Remember"
   ]
  },
  {
   "cell_type": "code",
   "execution_count": 69,
   "id": "e8cef9a7",
   "metadata": {},
   "outputs": [
    {
     "name": "stdout",
     "output_type": "stream",
     "text": [
      "['Agueda', '25', 'Madrid', 'Student', 'Single', 'A']\n",
      "Agueda 25 years old lives in Madrid as Student with driving licence A\n"
     ]
    }
   ],
   "source": [
    "line=\"Agueda|25|Madrid|Student|Single|A\"\n",
    "elements=line.split(\"|\")\n",
    "print(elements)\n",
    "name=elements[0]\n",
    "age=elements[1]\n",
    "city=elements[2]\n",
    "job=elements[3]\n",
    "martial=elements[4]\n",
    "driving=elements[5]\n",
    "print(\"{0} {1} years old lives in {2} as {3} with driving licence {4}\".format(name,age,city,job,driving))"
   ]
  },
  {
   "cell_type": "markdown",
   "id": "a9b89e08",
   "metadata": {},
   "source": [
    "### 7.1.12 Two sequences can be zipped together.\n",
    "\n"
   ]
  },
  {
   "cell_type": "code",
   "execution_count": 81,
   "id": "26f1a83d",
   "metadata": {},
   "outputs": [
    {
     "data": {
      "text/plain": [
       "[(1, 'a'), (2, 'e'), (3, 'i'), (4, 'o'), (5, 'u')]"
      ]
     },
     "execution_count": 81,
     "metadata": {},
     "output_type": "execute_result"
    }
   ],
   "source": [
    "numbers = [1, 2, 3, 4, 5]\n",
    "vowels = ['a', 'e', 'i', 'o', 'u']\n",
    "\n",
    "zipped = zip(numbers, vowels)\n",
    "zipped_list = list(zipped)\n",
    "zipped_list\n",
    "\n"
   ]
  },
  {
   "cell_type": "code",
   "execution_count": 82,
   "id": "fe827078",
   "metadata": {},
   "outputs": [
    {
     "name": "stdout",
     "output_type": "stream",
     "text": [
      "(1, 2, 3, 4, 5)\n",
      "('a', 'e', 'i', 'o', 'u')\n"
     ]
    }
   ],
   "source": [
    "#And unzipped.\n",
    "\n",
    "a, b = zip(*zipped_list)\n",
    "\n",
    "print(a)\n",
    "print(b)"
   ]
  },
  {
   "cell_type": "markdown",
   "id": "a0b45553",
   "metadata": {},
   "source": [
    "## 7.2 Tuples\n",
    "A tuple consists of a number of values separated by commas.\n",
    "Though tuples may seem similar to lists, they are often used in different situations and for different purposes. Tuples are immutable, and usually contain a heterogeneous sequence of elements that are accessed via unpacking (see later in this section) or indexing (or even by attribute in the case of namedtuples). Lists are mutable, and their elements are usually homogeneous and are accessed by iterating over the list."
   ]
  },
  {
   "cell_type": "code",
   "execution_count": 40,
   "id": "b97d542f",
   "metadata": {},
   "outputs": [
    {
     "name": "stdout",
     "output_type": "stream",
     "text": [
      "This is a tuple:  (1, 2, 3, 4)\n",
      "<class 'tuple'>\n",
      "This is also a tuple:  ('four', 5, 'six', 7)\n",
      "<class 'tuple'>\n"
     ]
    }
   ],
   "source": [
    "tuple1=1,2,3,4\n",
    "print(\"This is a tuple: \",tuple1)\n",
    "print(type(tuple1))\n",
    "tuple2=(\"four\",5,\"six\",7)\n",
    "print(\"This is also a tuple: \",tuple2)\n",
    "print(type(tuple2))"
   ]
  },
  {
   "cell_type": "code",
   "execution_count": 41,
   "id": "096c0a44",
   "metadata": {},
   "outputs": [
    {
     "name": "stdout",
     "output_type": "stream",
     "text": [
      "they can be indexed:  4\n",
      "they can be sliced:  (1, 2, 3)\n"
     ]
    }
   ],
   "source": [
    "print(\"they can be indexed: \",tuple1[3])\n",
    "print(\"they can be sliced: \",tuple1[:3])"
   ]
  },
  {
   "cell_type": "code",
   "execution_count": 42,
   "id": "648ea6ff",
   "metadata": {},
   "outputs": [
    {
     "name": "stdout",
     "output_type": "stream",
     "text": [
      "But they cannot be modified\n"
     ]
    },
    {
     "ename": "TypeError",
     "evalue": "'tuple' object does not support item assignment",
     "output_type": "error",
     "traceback": [
      "\u001b[1;31m---------------------------------------------------------------------------\u001b[0m",
      "\u001b[1;31mTypeError\u001b[0m                                 Traceback (most recent call last)",
      "\u001b[1;32m<ipython-input-42-70f7382d45ec>\u001b[0m in \u001b[0;36m<module>\u001b[1;34m\u001b[0m\n\u001b[0;32m      1\u001b[0m \u001b[0mprint\u001b[0m\u001b[1;33m(\u001b[0m\u001b[1;34m\"But they cannot be modified\"\u001b[0m\u001b[1;33m)\u001b[0m\u001b[1;33m\u001b[0m\u001b[1;33m\u001b[0m\u001b[0m\n\u001b[1;32m----> 2\u001b[1;33m \u001b[0mtuple1\u001b[0m\u001b[1;33m[\u001b[0m\u001b[1;36m2\u001b[0m\u001b[1;33m]\u001b[0m\u001b[1;33m=\u001b[0m\u001b[1;36m22\u001b[0m\u001b[1;33m\u001b[0m\u001b[1;33m\u001b[0m\u001b[0m\n\u001b[0m",
      "\u001b[1;31mTypeError\u001b[0m: 'tuple' object does not support item assignment"
     ]
    }
   ],
   "source": [
    "print(\"But they cannot be modified\")\n",
    "tuple1[2]=22"
   ]
  },
  {
   "cell_type": "markdown",
   "id": "a2a43757",
   "metadata": {},
   "source": [
    "### 7.2.1 Unpackaging a tuple"
   ]
  },
  {
   "cell_type": "markdown",
   "id": "154146a4",
   "metadata": {},
   "source": [
    "Unpacking a tuple means splitting the tuple’s elements into individual variables. For example:"
   ]
  },
  {
   "cell_type": "code",
   "execution_count": 32,
   "id": "554c73c9",
   "metadata": {},
   "outputs": [
    {
     "name": "stdout",
     "output_type": "stream",
     "text": [
      "1\n",
      "2\n"
     ]
    }
   ],
   "source": [
    "x, y = (1, 2)\n",
    "print(x)\n",
    "print(y)"
   ]
  },
  {
   "cell_type": "code",
   "execution_count": 33,
   "id": "75f474ef",
   "metadata": {},
   "outputs": [
    {
     "name": "stdout",
     "output_type": "stream",
     "text": [
      "7\n"
     ]
    }
   ],
   "source": [
    "my_tuple= (\"Hola\", 7, 22.5)\n",
    "\n",
    "value1, value2, value3= my_tuple\n",
    "\n",
    "print(value2)"
   ]
  },
  {
   "cell_type": "markdown",
   "id": "d43867d5",
   "metadata": {},
   "source": [
    "## 7.3 Dictionaries\n",
    "Dictionaries are used to store data values in key:value pairs.    \n",
    "A dictionary is a collection which is ordered*, changeable and do not allow duplicates.\n",
    "As of Python version 3.7, dictionaries are ordered. In Python 3.6 and earlier, dictionaries are unordered.\n",
    "When we say that dictionaries are ordered, it means that the items have a defined order, and that order will not change.\n",
    "Unordered means that the items does not have a defined order, you cannot refer to an item by using an index."
   ]
  },
  {
   "cell_type": "markdown",
   "id": "d9a399f7",
   "metadata": {},
   "source": [
    "### 7.3.1 creation"
   ]
  },
  {
   "cell_type": "code",
   "execution_count": 43,
   "id": "69736dfb",
   "metadata": {},
   "outputs": [
    {
     "name": "stdout",
     "output_type": "stream",
     "text": [
      "{'hola': 'bonjour', 'adios': 'aurevoir', 'hasta pronto': 'a bientot'}\n"
     ]
    }
   ],
   "source": [
    "dictionary={\"hola\":\"bonjour\",\"adios\":\"aurevoir\",\"hasta pronto\":\"a bientot\"}\n",
    "print(dictionary)"
   ]
  },
  {
   "cell_type": "code",
   "execution_count": 44,
   "id": "7df541de",
   "metadata": {},
   "outputs": [
    {
     "name": "stdout",
     "output_type": "stream",
     "text": [
      "Hola in french:  bonjour\n",
      "Adios in french:  aurevoir\n",
      "Hasta pronto in french:  a bientot\n"
     ]
    }
   ],
   "source": [
    "print(\"Hola in french: \",dictionary[\"hola\"])\n",
    "print(\"Adios in french: \",dictionary[\"adios\"])\n",
    "print(\"Hasta pronto in french: \",dictionary[\"hasta pronto\"])"
   ]
  },
  {
   "cell_type": "markdown",
   "id": "ad2f854a",
   "metadata": {},
   "source": [
    "#### creation element by element"
   ]
  },
  {
   "cell_type": "code",
   "execution_count": 45,
   "id": "daa5921b",
   "metadata": {},
   "outputs": [
    {
     "name": "stdout",
     "output_type": "stream",
     "text": [
      "{'patata': 'pomme', 'cinco': 5, 'naranja': 'orange', 'bolsa': ['bourse', 'sac']}\n"
     ]
    }
   ],
   "source": [
    "dictionary={}\n",
    "dictionary[\"patata\"]=\"pomme\"\n",
    "dictionary[\"cinco\"]=5\n",
    "dictionary[\"naranja\"]=\"orange\"\n",
    "dictionary[\"bolsa\"]=[\"bourse\",\"sac\"]\n",
    "print(dictionary)"
   ]
  },
  {
   "cell_type": "markdown",
   "id": "c21b10a2",
   "metadata": {},
   "source": [
    "#### creation with dict()"
   ]
  },
  {
   "cell_type": "code",
   "execution_count": 46,
   "id": "6e3a32ae",
   "metadata": {},
   "outputs": [
    {
     "name": "stdout",
     "output_type": "stream",
     "text": [
      "{'patata': 'pome', 'cinco': 5, 'naranja': 'orange', 'bolsa': ['bourse', 'sac']}\n"
     ]
    }
   ],
   "source": [
    "dictionary=dict(patata=\"pome\",cinco=5,naranja=\"orange\",bolsa=[\"bourse\",\"sac\"])\n",
    "print(dictionary)"
   ]
  },
  {
   "cell_type": "markdown",
   "id": "1d04c20a",
   "metadata": {},
   "source": [
    "#### creation from list of tuples"
   ]
  },
  {
   "cell_type": "code",
   "execution_count": 47,
   "id": "33785541",
   "metadata": {},
   "outputs": [
    {
     "name": "stdout",
     "output_type": "stream",
     "text": [
      "{'patata': 'pome', 'cinco': 5, 'naranja': 'orange', 'bolsa': ['bourse', 'sac']}\n"
     ]
    }
   ],
   "source": [
    "list_of_tuples=[(\"patata\",\"pome\"),(\"cinco\",5),(\"naranja\",\"orange\"),(\"bolsa\",[\"bourse\",\"sac\"])]\n",
    "dictionary=dict(list_of_tuples)\n",
    "print(dictionary)"
   ]
  },
  {
   "cell_type": "markdown",
   "id": "37e5a366",
   "metadata": {},
   "source": [
    "#### creation from two lists"
   ]
  },
  {
   "cell_type": "code",
   "execution_count": 48,
   "id": "7ed11023",
   "metadata": {},
   "outputs": [
    {
     "name": "stdout",
     "output_type": "stream",
     "text": [
      "{'patata': 'pomme', 'cinco': 5, 'naranja': 'orange', 'bolsa': ['bourse', 'sac']}\n"
     ]
    }
   ],
   "source": [
    "keys=[\"patata\",\"cinco\",\"naranja\",\"bolsa\"]\n",
    "values=[\"pomme\",5,\"orange\",[\"bourse\",\"sac\"]]\n",
    "dictionary=dict(zip(keys,values))\n",
    "print(dictionary)"
   ]
  },
  {
   "cell_type": "markdown",
   "id": "8c114482",
   "metadata": {},
   "source": [
    "### 7.3.2 Easy to update and access"
   ]
  },
  {
   "cell_type": "code",
   "execution_count": 41,
   "id": "04251348",
   "metadata": {},
   "outputs": [
    {
     "name": "stdout",
     "output_type": "stream",
     "text": [
      "{'Teo': 'admin', 'Liam': 'viewer', 'Dora': 'root', 'Noa': 'viewer', 'Cris': 'Viewer'}\n",
      "{'Teo': 'admin', 'Liam': 'viewer', 'Dora': 'root', 'Noa': 'admin', 'Cris': 'Viewer'}\n"
     ]
    }
   ],
   "source": [
    "dictionary={\"Teo\":\"admin\",\"Liam\":\"viewer\",\"Dora\":\"root\",\"Noa\":\"viewer\",\"Cris\":\"Viewer\"}\n",
    "print(dictionary)\n",
    "dictionary[\"Noa\"]=\"admin\"\n",
    "print(dictionary)"
   ]
  },
  {
   "cell_type": "code",
   "execution_count": 42,
   "id": "266c7f69",
   "metadata": {},
   "outputs": [
    {
     "name": "stdout",
     "output_type": "stream",
     "text": [
      "{'Teo': 'admin', 'Liam': 'viewer', 'Dora': 'root', 'Noa': 'admin', 'Cris': 'Viewer'}\n",
      "Length:  5\n",
      "{'Liam': 'viewer', 'Dora': 'root', 'Noa': 'admin', 'Cris': 'Viewer'}\n",
      "Length:  4\n"
     ]
    }
   ],
   "source": [
    "print(dictionary)\n",
    "print(\"Length: \",len(dictionary))\n",
    "del dictionary[\"Teo\"]\n",
    "print(dictionary)\n",
    "print(\"Length: \",len(dictionary))"
   ]
  },
  {
   "cell_type": "code",
   "execution_count": 43,
   "id": "f28882eb",
   "metadata": {},
   "outputs": [
    {
     "name": "stdout",
     "output_type": "stream",
     "text": [
      "admin\n"
     ]
    }
   ],
   "source": [
    "print(dictionary[\"Noa\"])"
   ]
  },
  {
   "cell_type": "code",
   "execution_count": 44,
   "id": "d6220275",
   "metadata": {},
   "outputs": [
    {
     "ename": "KeyError",
     "evalue": "'Juan'",
     "output_type": "error",
     "traceback": [
      "\u001b[1;31m---------------------------------------------------------------------------\u001b[0m",
      "\u001b[1;31mKeyError\u001b[0m                                  Traceback (most recent call last)",
      "\u001b[1;32m<ipython-input-44-426030a8e3b2>\u001b[0m in \u001b[0;36m<module>\u001b[1;34m\u001b[0m\n\u001b[0;32m      1\u001b[0m \u001b[1;31m#returns an error if not found\u001b[0m\u001b[1;33m\u001b[0m\u001b[1;33m\u001b[0m\u001b[1;33m\u001b[0m\u001b[0m\n\u001b[1;32m----> 2\u001b[1;33m \u001b[0mprint\u001b[0m\u001b[1;33m(\u001b[0m\u001b[0mdictionary\u001b[0m\u001b[1;33m[\u001b[0m\u001b[1;34m\"Juan\"\u001b[0m\u001b[1;33m]\u001b[0m\u001b[1;33m)\u001b[0m\u001b[1;33m\u001b[0m\u001b[1;33m\u001b[0m\u001b[0m\n\u001b[0m",
      "\u001b[1;31mKeyError\u001b[0m: 'Juan'"
     ]
    }
   ],
   "source": [
    "#returns an error if not found\n",
    "print(dictionary[\"Juan\"])"
   ]
  },
  {
   "cell_type": "code",
   "execution_count": 45,
   "id": "d42d68c7",
   "metadata": {},
   "outputs": [
    {
     "data": {
      "text/plain": [
       "'name not found'"
      ]
     },
     "execution_count": 45,
     "metadata": {},
     "output_type": "execute_result"
    }
   ],
   "source": [
    "#If the key does not exist, a NameError exception is thrown. An alternative is providing a default value:\n",
    "dictionary.get('Juan', 'name not found')"
   ]
  },
  {
   "cell_type": "markdown",
   "id": "3e1d9d4e",
   "metadata": {},
   "source": [
    "### 7.3.3 Dictionary methods"
   ]
  },
  {
   "cell_type": "code",
   "execution_count": 51,
   "id": "96c487ec",
   "metadata": {},
   "outputs": [
    {
     "name": "stdout",
     "output_type": "stream",
     "text": [
      "Vehicles manufacturers:  dict_keys(['yamaha', 'suzuki', 'ducati', 'kawasaki'])\n"
     ]
    }
   ],
   "source": [
    "dictionary={\"yamaha\":5,\"suzuki\":8,\"ducati\":2,\"kawasaki\":7}\n",
    "print(\"Vehicles manufacturers: \",dictionary.keys())"
   ]
  },
  {
   "cell_type": "code",
   "execution_count": 52,
   "id": "5a42b384",
   "metadata": {},
   "outputs": [
    {
     "name": "stdout",
     "output_type": "stream",
     "text": [
      "Number of vehicles:  dict_values([5, 8, 2, 7])\n"
     ]
    }
   ],
   "source": [
    "print(\"Number of vehicles: \",dictionary.values())"
   ]
  },
  {
   "cell_type": "code",
   "execution_count": 53,
   "id": "8e9d2617",
   "metadata": {},
   "outputs": [
    {
     "name": "stdout",
     "output_type": "stream",
     "text": [
      "Full parking:  dict_items([('yamaha', 5), ('suzuki', 8), ('ducati', 2), ('kawasaki', 7)])\n"
     ]
    }
   ],
   "source": [
    "print(\"Full parking: \",dictionary.items())"
   ]
  },
  {
   "cell_type": "code",
   "execution_count": 54,
   "id": "f02b6d89",
   "metadata": {},
   "outputs": [
    {
     "name": "stdout",
     "output_type": "stream",
     "text": [
      "Vehicle:  yamaha  Amount:  5\n",
      "Vehicle:  suzuki  Amount:  8\n",
      "Vehicle:  ducati  Amount:  2\n",
      "Vehicle:  kawasaki  Amount:  7\n"
     ]
    }
   ],
   "source": [
    "for i in dictionary.items():\n",
    "    print(\"Vehicle: \",i[0],\" Amount: \",i[1])"
   ]
  },
  {
   "cell_type": "markdown",
   "id": "7534fbd3",
   "metadata": {},
   "source": [
    "### 7.3.4 Dictionary aliases"
   ]
  },
  {
   "cell_type": "code",
   "execution_count": 55,
   "id": "86d9ea0a",
   "metadata": {},
   "outputs": [
    {
     "name": "stdout",
     "output_type": "stream",
     "text": [
      "dict_items([('yamaha', 5), ('suzuki', 8), ('ducati', 2), ('kawasaki', 7)])\n",
      "dict_items([('yamaha', 5), ('suzuki', 8), ('ducati', 2), ('kawasaki', 7)])\n",
      "dict_items([('yamaha', 5), ('ducati', 2), ('kawasaki', 7)])\n",
      "dict_items([('yamaha', 5), ('ducati', 2), ('kawasaki', 7)])\n"
     ]
    }
   ],
   "source": [
    "parking={\"yamaha\":5,\"suzuki\":8,\"ducati\":2,\"kawasaki\":7}\n",
    "parking2=parking\n",
    "print(parking.items())\n",
    "print(parking2.items())\n",
    "del parking2[\"suzuki\"]\n",
    "print(parking.items())\n",
    "print(parking2.items())"
   ]
  },
  {
   "cell_type": "code",
   "execution_count": 56,
   "id": "566438fc",
   "metadata": {},
   "outputs": [
    {
     "name": "stdout",
     "output_type": "stream",
     "text": [
      "dict_items([('yamaha', 5), ('suzuki', 8), ('ducati', 2), ('kawasaki', 7)])\n",
      "dict_items([('yamaha', 5), ('suzuki', 8), ('ducati', 2), ('kawasaki', 7)])\n",
      "dict_items([('yamaha', 5), ('suzuki', 8), ('ducati', 2), ('kawasaki', 7)])\n",
      "dict_items([('yamaha', 5), ('ducati', 2), ('kawasaki', 7)])\n"
     ]
    }
   ],
   "source": [
    "parking={\"yamaha\":5,\"suzuki\":8,\"ducati\":2,\"kawasaki\":7}\n",
    "parking3=parking.copy()\n",
    "print(parking.items())\n",
    "print(parking3.items())\n",
    "del parking3[\"suzuki\"]\n",
    "print(parking.items())\n",
    "print(parking3.items())"
   ]
  },
  {
   "cell_type": "markdown",
   "id": "f4fab899",
   "metadata": {},
   "source": [
    "### 7.3.5 Sparse matrices\n",
    "\n",
    "Las matrices dispersas son aquellas en las que la mayoría de los registros son cero. Este hecho hace que sea posible más eficaz trabajar con ellas guardando sólo las posiciones de los valores de los elementos distintos de cero"
   ]
  },
  {
   "cell_type": "code",
   "execution_count": 57,
   "id": "9daaa828",
   "metadata": {},
   "outputs": [
    {
     "name": "stdout",
     "output_type": "stream",
     "text": [
      "[5, 0, 0, 0, 0, 0]\n",
      "[0, 0, 0, 0, 0, 0]\n",
      "[0, 1, 0, 0, 0, 0]\n",
      "[0, 0, 4, 0, 0, 0]\n",
      "[0, 0, 0, 0, 0, 0]\n",
      "[0, 0, 0, 0, 7, 0]\n"
     ]
    }
   ],
   "source": [
    "sparse_list=[[5,0,0,0,0,0],[0,0,0,0,0,0],[0,1,0,0,0,0], \\\n",
    "             [0,0,4,0,0,0],[0,0,0,0,0,0],[0,0,0,0,7,0]]\n",
    "for i in sparse_list:\n",
    "    print(i)"
   ]
  },
  {
   "cell_type": "code",
   "execution_count": 58,
   "id": "2762a7c8",
   "metadata": {},
   "outputs": [],
   "source": [
    "sparse_dict={(0,0):5,(2,1):1,(3,2):4,(5,4):7}"
   ]
  },
  {
   "cell_type": "code",
   "execution_count": 59,
   "id": "25fe9560",
   "metadata": {},
   "outputs": [
    {
     "name": "stdout",
     "output_type": "stream",
     "text": [
      "Size sparse_list:  112\n",
      "Size sparse_dict:  240\n"
     ]
    }
   ],
   "source": [
    "from sys import getsizeof\n",
    "print(\"Size sparse_list: \",getsizeof(sparse_list))\n",
    "print(\"Size sparse_dict: \",getsizeof(sparse_dict))"
   ]
  },
  {
   "cell_type": "markdown",
   "id": "c20b947c",
   "metadata": {},
   "source": [
    "### 7.3.6 Nested Dictionaries"
   ]
  },
  {
   "cell_type": "code",
   "execution_count": 47,
   "id": "f79a151f",
   "metadata": {},
   "outputs": [],
   "source": [
    "registry={\"Name\":\"Bob\",\n",
    "          \"Job\":[\"Developer\",\"Scrum master\"],\n",
    "          \"Web\":\"linkedin.com/bob\",\n",
    "          \"Personal\":{\n",
    "              \"Nationality\":\"British\",\n",
    "              \"Age\":36,\n",
    "              \"Status\":\"Divorced\",\n",
    "              \"Address\":{\n",
    "                  \"Street\":\"Fake Street\",\n",
    "                  \"Number\":123\n",
    "              }\n",
    "          }}"
   ]
  },
  {
   "cell_type": "code",
   "execution_count": 48,
   "id": "31a8f995",
   "metadata": {
    "scrolled": true
   },
   "outputs": [
    {
     "name": "stdout",
     "output_type": "stream",
     "text": [
      "Bob\n",
      "British\n",
      "Fake Street\n"
     ]
    }
   ],
   "source": [
    "print(registry[\"Name\"])\n",
    "print(registry[\"Personal\"][\"Nationality\"])\n",
    "print(registry[\"Personal\"][\"Address\"][\"Street\"])"
   ]
  },
  {
   "cell_type": "markdown",
   "id": "a60d41d0",
   "metadata": {},
   "source": [
    "### 7.3.7 Accesing by index to a dictionary\n",
    "<https://stackoverflow.com/questions/4326658/how-to-index-into-a-dictionary>"
   ]
  },
  {
   "cell_type": "code",
   "execution_count": 2,
   "id": "030bafd3",
   "metadata": {},
   "outputs": [],
   "source": [
    "colors = {\n",
    "    \"blue\" : \"5\",\n",
    "    \"red\" : \"6\",\n",
    "    \"yellow\" : \"8\",\n",
    "}"
   ]
  },
  {
   "cell_type": "code",
   "execution_count": 3,
   "id": "90ec41d2",
   "metadata": {},
   "outputs": [
    {
     "ename": "KeyError",
     "evalue": "0",
     "output_type": "error",
     "traceback": [
      "\u001b[1;31m---------------------------------------------------------------------------\u001b[0m",
      "\u001b[1;31mKeyError\u001b[0m                                  Traceback (most recent call last)",
      "\u001b[1;32m<ipython-input-3-a9e01f87f5b9>\u001b[0m in \u001b[0;36m<module>\u001b[1;34m\u001b[0m\n\u001b[0;32m      1\u001b[0m \u001b[1;31m#It reteives an error\u001b[0m\u001b[1;33m\u001b[0m\u001b[1;33m\u001b[0m\u001b[1;33m\u001b[0m\u001b[0m\n\u001b[1;32m----> 2\u001b[1;33m \u001b[0mcolors\u001b[0m\u001b[1;33m[\u001b[0m\u001b[1;36m0\u001b[0m\u001b[1;33m]\u001b[0m\u001b[1;33m\u001b[0m\u001b[1;33m\u001b[0m\u001b[0m\n\u001b[0m",
      "\u001b[1;31mKeyError\u001b[0m: 0"
     ]
    }
   ],
   "source": [
    "#It reteives an error\n",
    "colors[0]"
   ]
  },
  {
   "cell_type": "markdown",
   "id": "da11d852",
   "metadata": {},
   "source": [
    "Since Python 3.7*, dictionaries are order-preserving, that is they now behave like collections.OrderedDicts. Unfortunately, there is still no dedicated method to index into keys() / values() of the dictionary, so getting the first key / value in the dictionary can be done as"
   ]
  },
  {
   "cell_type": "code",
   "execution_count": 4,
   "id": "3a29046b",
   "metadata": {},
   "outputs": [
    {
     "name": "stdout",
     "output_type": "stream",
     "text": [
      "blue\n",
      "5\n"
     ]
    }
   ],
   "source": [
    "first_key = list(colors)[0]\n",
    "first_val = list(colors.values())[0]\n",
    "\n",
    "print(first_key)\n",
    "print(first_val)"
   ]
  },
  {
   "cell_type": "code",
   "execution_count": 6,
   "id": "3862fcbd",
   "metadata": {},
   "outputs": [
    {
     "name": "stdout",
     "output_type": "stream",
     "text": [
      "yellow\n"
     ]
    }
   ],
   "source": [
    "third_key = list(colors)[2]\n",
    "\n",
    "print(third_key)\n"
   ]
  },
  {
   "cell_type": "markdown",
   "id": "1c56da2a",
   "metadata": {},
   "source": [
    "#### Alternative 1"
   ]
  },
  {
   "cell_type": "code",
   "execution_count": 14,
   "id": "51680604",
   "metadata": {},
   "outputs": [
    {
     "name": "stdout",
     "output_type": "stream",
     "text": [
      "2\n",
      "['red', '6']\n"
     ]
    }
   ],
   "source": [
    "item=2\n",
    "counter=0\n",
    "\n",
    "for key in colors.keys():\n",
    "    counter+=1\n",
    "    if counter==item:\n",
    "        print(key)\n",
    "        print(colors[key])\n",
    "\n",
    "    "
   ]
  },
  {
   "cell_type": "code",
   "execution_count": null,
   "id": "5a827555",
   "metadata": {},
   "outputs": [],
   "source": []
  },
  {
   "cell_type": "markdown",
   "id": "7e9c786b",
   "metadata": {},
   "source": [
    "#### Alternative 2"
   ]
  },
  {
   "cell_type": "code",
   "execution_count": 8,
   "id": "feae0f47",
   "metadata": {},
   "outputs": [],
   "source": [
    "colors = {1: [\"blue\", \"5\"], 2: [\"red\", \"6\"], 3: [\"yellow\", \"8\"]}"
   ]
  },
  {
   "cell_type": "code",
   "execution_count": 11,
   "id": "89d7d801",
   "metadata": {},
   "outputs": [
    {
     "data": {
      "text/plain": [
       "'blue'"
      ]
     },
     "execution_count": 11,
     "metadata": {},
     "output_type": "execute_result"
    }
   ],
   "source": [
    "colors[1][0]\n",
    "# returns 'blue'\n"
   ]
  },
  {
   "cell_type": "code",
   "execution_count": 12,
   "id": "01d1d2ae",
   "metadata": {},
   "outputs": [
    {
     "data": {
      "text/plain": [
       "'8'"
      ]
     },
     "execution_count": 12,
     "metadata": {},
     "output_type": "execute_result"
    }
   ],
   "source": [
    "\n",
    "colors[3][1]\n",
    "# returns '8'"
   ]
  },
  {
   "cell_type": "markdown",
   "id": "7f8ffa29",
   "metadata": {},
   "source": [
    "## 7.5 Set\n",
    "A set is a collection which is unordered, unchangeable*, and unindexed.    \n",
    "For more information: <https://www.w3schools.com/python/python_sets.asp>"
   ]
  },
  {
   "cell_type": "markdown",
   "id": "3a9df123",
   "metadata": {},
   "source": [
    "## 7.6 Summary\n",
    "Python Collections (Arrays)\n",
    "\n",
    "There are four collection data types in the Python programming language:\n",
    "\n",
    "    List is a collection which is ordered and changeable. Allows duplicate members.\n",
    "    Tuple is a collection which is ordered and unchangeable. Allows duplicate members.\n",
    "    Set is a collection which is unordered, unchangeable*, and unindexed. No duplicate members.\n",
    "    Dictionary is a collection which is ordered** and changeable. No duplicate members.\n"
   ]
  },
  {
   "cell_type": "markdown",
   "id": "3e0b1fce",
   "metadata": {},
   "source": [
    "# 8 Built-in functions"
   ]
  },
  {
   "cell_type": "markdown",
   "id": "bf2068bf",
   "metadata": {},
   "source": [
    "Python has several functions that are readily available for use. These functions are called built-in functions. On these references pages, you will find more information:     \n",
    "\n",
    "<https://www.tutorialsteacher.com/python/builtin-methods>      \n",
    "<https://www.w3schools.com/python/python_ref_functions.asp>"
   ]
  },
  {
   "cell_type": "markdown",
   "id": "fa3a71de",
   "metadata": {},
   "source": [
    "# 9 Loops, iterations and iterators"
   ]
  },
  {
   "cell_type": "markdown",
   "id": "f0cb3164",
   "metadata": {},
   "source": [
    "## 9.1 Range function:\n",
    "The range() function returns a sequence of numbers, starting from 0 by default, and increments by 1 (by default), and stops before a specified number."
   ]
  },
  {
   "cell_type": "code",
   "execution_count": 49,
   "id": "4d42381b",
   "metadata": {},
   "outputs": [
    {
     "name": "stdout",
     "output_type": "stream",
     "text": [
      "range(0, 6)\n"
     ]
    }
   ],
   "source": [
    "#syntax: range(start, stop, step)\n",
    "x = range(6)\n",
    "print(x)"
   ]
  },
  {
   "cell_type": "code",
   "execution_count": 50,
   "id": "e12bfaf2",
   "metadata": {},
   "outputs": [
    {
     "name": "stdout",
     "output_type": "stream",
     "text": [
      "range(2, 10, 2)\n"
     ]
    }
   ],
   "source": [
    "y = range(2,10,2)\n",
    "print(y)\n",
    "\n"
   ]
  },
  {
   "cell_type": "code",
   "execution_count": 51,
   "id": "7e68d700",
   "metadata": {},
   "outputs": [
    {
     "name": "stdout",
     "output_type": "stream",
     "text": [
      "range(1, 20, 5)\n",
      "[1, 6, 11, 16]\n",
      "<class 'range'>\n",
      "<class 'list'>\n"
     ]
    }
   ],
   "source": [
    "#To print elementes of a range we need to transform them into list or use loops\n",
    "sequence=range(1,20,5)\n",
    "print(sequence)\n",
    "print(list(sequence))\n",
    "print(type(sequence))\n",
    "list2=list(sequence)\n",
    "print(type(list2))"
   ]
  },
  {
   "cell_type": "markdown",
   "id": "c132086f",
   "metadata": {},
   "source": [
    "## 9.2 For Loops"
   ]
  },
  {
   "cell_type": "markdown",
   "id": "683e1dda",
   "metadata": {},
   "source": [
    "Python is big on indentation!    \n",
    "\n",
    "Where in other programming languages the indentation in code is to improve readability Python uses indentation to indicate a block of code.     \n",
    "The convention is to use four spaces, not tabs.\n"
   ]
  },
  {
   "cell_type": "markdown",
   "id": "cc151054",
   "metadata": {},
   "source": [
    "### 9.2.1 Across ranges"
   ]
  },
  {
   "cell_type": "code",
   "execution_count": 53,
   "id": "740fb04b",
   "metadata": {},
   "outputs": [
    {
     "name": "stdout",
     "output_type": "stream",
     "text": [
      "From 0 to 10 with step=2\n",
      "0\n",
      "2\n",
      "4\n",
      "6\n",
      "8\n"
     ]
    }
   ],
   "source": [
    "print(\"From 0 to 10 with step=2\")\n",
    "for i in range(0,10,2):\n",
    "    print(i)"
   ]
  },
  {
   "cell_type": "code",
   "execution_count": 54,
   "id": "14a37aa0",
   "metadata": {},
   "outputs": [
    {
     "name": "stdout",
     "output_type": "stream",
     "text": [
      "From 0 to 10 with step=2\n",
      "0\n",
      "2\n",
      "4\n",
      "6\n",
      "8\n",
      "10\n"
     ]
    }
   ],
   "source": [
    "print(\"From 0 to 10 with step=2\")\n",
    "for i in range(0,11,2):\n",
    "    print(i)"
   ]
  },
  {
   "cell_type": "markdown",
   "id": "17c08da2",
   "metadata": {},
   "source": [
    "### 9.2.2 Very usefull to create indexes and access the elements of lists by their position"
   ]
  },
  {
   "cell_type": "code",
   "execution_count": 3,
   "id": "c8232f3b",
   "metadata": {},
   "outputs": [
    {
     "name": "stdout",
     "output_type": "stream",
     "text": [
      "Element 0: 2\n",
      "Element 1: 4\n",
      "Element 2: 6\n",
      "Element 3: 8\n",
      "Element 4: 10\n"
     ]
    }
   ],
   "source": [
    "vector=[2,4,6,8,10]\n",
    "for i in range(len(vector)):\n",
    "    print(\"Element {}: {}\".format(i,vector[i]))"
   ]
  },
  {
   "cell_type": "markdown",
   "id": "96730b26",
   "metadata": {},
   "source": [
    "### 9.2.3 Across lists"
   ]
  },
  {
   "cell_type": "markdown",
   "id": "b6e1bfdb",
   "metadata": {},
   "source": [
    "Directly without using indexes"
   ]
  },
  {
   "cell_type": "code",
   "execution_count": 55,
   "id": "bb301029",
   "metadata": {},
   "outputs": [
    {
     "name": "stdout",
     "output_type": "stream",
     "text": [
      "1\n",
      "2\n",
      "6\n",
      "24\n",
      "120\n",
      "720\n"
     ]
    }
   ],
   "source": [
    "prod=1\n",
    "for i in [1,2,3,4,5,6]:\n",
    "    prod = prod*i\n",
    "    print(prod)"
   ]
  },
  {
   "cell_type": "markdown",
   "id": "be774836",
   "metadata": {},
   "source": [
    "### 9.2.4  Across strings"
   ]
  },
  {
   "cell_type": "markdown",
   "id": "bac1c338",
   "metadata": {},
   "source": [
    "Directly without using indexes"
   ]
  },
  {
   "cell_type": "code",
   "execution_count": 56,
   "id": "fecccd04",
   "metadata": {},
   "outputs": [
    {
     "name": "stdout",
     "output_type": "stream",
     "text": [
      "K_i_n_e_s_i_o_t_h_e_r_a_p_y_"
     ]
    }
   ],
   "source": [
    "for letter in \"Kinesiotherapy\":\n",
    "    print(letter,end='_')"
   ]
  },
  {
   "cell_type": "markdown",
   "id": "294db6e9",
   "metadata": {},
   "source": [
    "Or with Indexes"
   ]
  },
  {
   "cell_type": "code",
   "execution_count": 57,
   "id": "21117873",
   "metadata": {},
   "outputs": [
    {
     "name": "stdout",
     "output_type": "stream",
     "text": [
      "K_i_n_e_s_i_o_t_h_e_r_a_p_y_"
     ]
    }
   ],
   "source": [
    "word=\"Kinesiotherapy\"\n",
    "for index in range(len(word)):\n",
    "    print(word[index],end='_')"
   ]
  },
  {
   "cell_type": "markdown",
   "id": "13de6986",
   "metadata": {},
   "source": [
    "### 9.2.5 Across list of tuples"
   ]
  },
  {
   "cell_type": "markdown",
   "id": "d940b80a",
   "metadata": {},
   "source": [
    "accessing directly the elements of the tuple with two variables"
   ]
  },
  {
   "cell_type": "code",
   "execution_count": 58,
   "id": "a61acc4f",
   "metadata": {
    "scrolled": true
   },
   "outputs": [
    {
     "name": "stdout",
     "output_type": "stream",
     "text": [
      "uno  is  1\n",
      "dos  is  2\n",
      "tres  is  3\n",
      "cuatro  is  4\n",
      "cinco  is  5\n"
     ]
    }
   ],
   "source": [
    "list_of_tuples=[(\"uno\",1),(\"dos\",2),(\"tres\",3),(\"cuatro\",4),(\"cinco\",5)]\n",
    "for k,v in list_of_tuples:\n",
    "    print(k,\" is \",v)"
   ]
  },
  {
   "cell_type": "markdown",
   "id": "95f1d2df",
   "metadata": {},
   "source": [
    "### 9.2.6 Across dictionaries"
   ]
  },
  {
   "cell_type": "markdown",
   "id": "955325eb",
   "metadata": {},
   "source": [
    "accessing directly the key and the value with two variables"
   ]
  },
  {
   "cell_type": "code",
   "execution_count": 59,
   "id": "42d573b8",
   "metadata": {},
   "outputs": [
    {
     "name": "stdout",
     "output_type": "stream",
     "text": [
      "Teo  has the rol of  admin\n",
      "Liam  has the rol of  viewer\n",
      "Dora  has the rol of  root\n",
      "Noa  has the rol of  viewer\n",
      "Cris  has the rol of  Viewer\n"
     ]
    }
   ],
   "source": [
    "dictionary={\"Teo\":\"admin\",\"Liam\":\"viewer\",\"Dora\":\"root\",\"Noa\":\"viewer\",\"Cris\":\"Viewer\"}\n",
    "\n",
    "for k,v in dictionary.items():\n",
    "    print(k,\" has the rol of \",v)"
   ]
  },
  {
   "cell_type": "code",
   "execution_count": 60,
   "id": "b2d25cb0",
   "metadata": {},
   "outputs": [
    {
     "name": "stdout",
     "output_type": "stream",
     "text": [
      "Key:  Teo\n",
      "Key:  Liam\n",
      "Key:  Dora\n",
      "Key:  Noa\n",
      "Key:  Cris\n",
      "Value:  admin\n",
      "Value:  viewer\n",
      "Value:  root\n",
      "Value:  viewer\n",
      "Value:  Viewer\n"
     ]
    }
   ],
   "source": [
    "for k in dictionary.keys():\n",
    "    print(\"Key: \",k)\n",
    "    \n",
    "for v in dictionary.values():\n",
    "    print(\"Value: \",v)"
   ]
  },
  {
   "cell_type": "markdown",
   "id": "cbfcaca4",
   "metadata": {},
   "source": [
    "### 9.2.7 Nested loops"
   ]
  },
  {
   "cell_type": "code",
   "execution_count": 10,
   "id": "d28525d7",
   "metadata": {},
   "outputs": [
    {
     "name": "stdout",
     "output_type": "stream",
     "text": [
      "[[1 2 3]\n",
      " [4 5 6]\n",
      " [6 7 8]]\n",
      "Numpy arrays can be accessed as A[row,col]\n",
      "Array element [0,0]  value:  1\n",
      "Array element [0,1]  value:  2\n",
      "Array element [0,2]  value:  3\n",
      "Array element [1,0]  value:  4\n",
      "Array element [1,1]  value:  5\n",
      "Array element [1,2]  value:  6\n",
      "Array element [2,0]  value:  6\n",
      "Array element [2,1]  value:  7\n",
      "Array element [2,2]  value:  8\n"
     ]
    }
   ],
   "source": [
    "import numpy as np\n",
    "array = np.array([(1,2,3),(4,5,6),(6,7,8)])\n",
    "print(array)\n",
    "print(\"Numpy arrays can be accessed as A[row,col]\")\n",
    "rows,cols=array.shape\n",
    "\n",
    "for r in range(rows):\n",
    "    for c in range(cols):\n",
    "        print(\"Array element [{},{}]\".format(r,c),\" value: \",array[r,c])"
   ]
  },
  {
   "cell_type": "markdown",
   "id": "2977e50d",
   "metadata": {},
   "source": [
    "### 9.2.8 For loops with BREAK"
   ]
  },
  {
   "cell_type": "code",
   "execution_count": 61,
   "id": "c7efa0ee",
   "metadata": {},
   "outputs": [
    {
     "name": "stdout",
     "output_type": "stream",
     "text": [
      "4 equals 2 * 2.0\n",
      "6 equals 2 * 3.0\n",
      "8 equals 2 * 4.0\n",
      "9 equals 3 * 3.0\n",
      "10 equals 2 * 5.0\n",
      "12 equals 2 * 6.0\n",
      "14 equals 2 * 7.0\n",
      "15 equals 3 * 5.0\n",
      "16 equals 2 * 8.0\n",
      "18 equals 2 * 9.0\n"
     ]
    }
   ],
   "source": [
    "for n in range(2, 20):\n",
    "    for x in range(2, n):\n",
    "        if n % x == 0:\n",
    "            print(n, 'equals', x, '*', n/x)\n",
    "            break"
   ]
  },
  {
   "cell_type": "markdown",
   "id": "aed358e2",
   "metadata": {},
   "source": [
    "### 9.2.9 Linspace Numpy\n",
    "Return evenly spaced numbers over a specified interval.\n",
    "\n",
    "NumPy is the fundamental package for scientific computing in Python. It is a Python library that provides a multidimensional array object, various derived objects (such as masked arrays and matrices), and an assortment of routines for fast operations on arrays, including mathematical, logical, shape manipulation, sorting, selecting, I/O, discrete Fourier transforms, basic linear algebra, basic statistical operations, random simulation and much more. We will see it later."
   ]
  },
  {
   "cell_type": "code",
   "execution_count": 64,
   "id": "d2b0eadf",
   "metadata": {},
   "outputs": [
    {
     "name": "stdout",
     "output_type": "stream",
     "text": [
      "Range of 5 elements from 0 to 10\n",
      "0.0\n",
      "2.5\n",
      "5.0\n",
      "7.5\n",
      "10.0\n"
     ]
    }
   ],
   "source": [
    "import numpy as np\n",
    "print(\"Range of 5 elements from 0 to 10\")\n",
    "for i in np.linspace(0,10,5):\n",
    "    print(i)"
   ]
  },
  {
   "cell_type": "code",
   "execution_count": 65,
   "id": "36493d05",
   "metadata": {},
   "outputs": [
    {
     "name": "stdout",
     "output_type": "stream",
     "text": [
      "[ 1.    5.75 10.5  15.25 20.  ]\n",
      "<class 'numpy.ndarray'>\n",
      "<class 'list'>\n"
     ]
    }
   ],
   "source": [
    "#linspace can be used as a list \n",
    "import numpy as np\n",
    "sequence=np.linspace(1,20,5)\n",
    "print(sequence)\n",
    "print(type(sequence))\n",
    "list1=list(sequence)\n",
    "print(type(list1))"
   ]
  },
  {
   "cell_type": "code",
   "execution_count": 70,
   "id": "59ebc4a0",
   "metadata": {},
   "outputs": [
    {
     "name": "stdout",
     "output_type": "stream",
     "text": [
      "This is the Numpy version:1.20.1\n",
      "3.141592653589793\n"
     ]
    }
   ],
   "source": [
    "#checking Numpy version\n",
    "#import numpy as np # not required. already imported\n",
    "print(\"This is the Numpy version:\"+np.__version__)\n",
    "print(np.pi)"
   ]
  },
  {
   "cell_type": "markdown",
   "id": "8b5c3d4e",
   "metadata": {},
   "source": [
    "### 9.2.9 Remember"
   ]
  },
  {
   "cell_type": "code",
   "execution_count": 66,
   "id": "4b8419af",
   "metadata": {},
   "outputs": [
    {
     "name": "stdout",
     "output_type": "stream",
     "text": [
      "Length of sequence  4\n",
      "Element 0: zero\n",
      "Element 1: one\n",
      "Element 2: two\n",
      "Element 3: three\n",
      "Element:  zero\n",
      "Element:  one\n",
      "Element:  two\n",
      "Element:  three\n"
     ]
    }
   ],
   "source": [
    "### Looping using length\n",
    "\n",
    "sequence=[\"zero\",\"one\",\"two\",\"three\"]\n",
    "print(\"Length of sequence \",len(sequence))\n",
    "for i in range(0,len(sequence)):\n",
    "    print(\"Element {}: {}\".format(i,sequence[i]))\n",
    "\n",
    "### Looping without indexing\n",
    "\n",
    "sequence=[\"zero\",\"one\",\"two\",\"three\"]\n",
    "for number in sequence:\n",
    "    print(\"Element: \",number)"
   ]
  },
  {
   "cell_type": "markdown",
   "id": "3c65a595",
   "metadata": {},
   "source": [
    "## 9.3 WHILE loops"
   ]
  },
  {
   "cell_type": "markdown",
   "id": "3c1ef6a7",
   "metadata": {},
   "source": [
    "### 9.3.1 Simple loops"
   ]
  },
  {
   "cell_type": "code",
   "execution_count": 71,
   "id": "43ae2b11",
   "metadata": {},
   "outputs": [
    {
     "name": "stdout",
     "output_type": "stream",
     "text": [
      "Write exit to abort: hello\n",
      "Write exit to abort: q\n",
      "Write exit to abort: aaa\n",
      "Write exit to abort: exit\n",
      "EXIT!\n"
     ]
    }
   ],
   "source": [
    "keyword=\"exit\"\n",
    "command=input(\"Write exit to abort: \")\n",
    "while command!=keyword:\n",
    "    command=input(\"Write exit to abort: \")\n",
    "print(\"EXIT!\")"
   ]
  },
  {
   "cell_type": "code",
   "execution_count": 72,
   "id": "b73a7016",
   "metadata": {},
   "outputs": [
    {
     "name": "stdout",
     "output_type": "stream",
     "text": [
      "Write exit to abort: exit\n",
      "EXIT!\n"
     ]
    }
   ],
   "source": [
    "stay=True\n",
    "while stay==True:\n",
    "    command=input(\"Write exit to abort: \")\n",
    "    if command==\"exit\": stay=False # we will see condictionals in next section\n",
    "print(\"EXIT!\")"
   ]
  },
  {
   "cell_type": "markdown",
   "id": "84cce73f",
   "metadata": {},
   "source": [
    "### 9.3.2  While on strings"
   ]
  },
  {
   "cell_type": "markdown",
   "id": "bd07ea71",
   "metadata": {},
   "source": [
    "**¡¡¡¡Runnig this cell will need to restart the Kernel!!!**\n",
    "\n",
    "Because it implements an infinite loop"
   ]
  },
  {
   "cell_type": "code",
   "execution_count": null,
   "id": "383186eb",
   "metadata": {
    "scrolled": false
   },
   "outputs": [],
   "source": [
    "#x= \"Kinesiotherapy\"\n",
    "#while x:\n",
    " #   print(x)"
   ]
  },
  {
   "cell_type": "markdown",
   "id": "21cd1d4b",
   "metadata": {},
   "source": [
    "Running this cell is safe.\n",
    "\n",
    "Note the differences"
   ]
  },
  {
   "cell_type": "code",
   "execution_count": 73,
   "id": "f822b6a6",
   "metadata": {},
   "outputs": [
    {
     "name": "stdout",
     "output_type": "stream",
     "text": [
      "Kinesiotherapy\n",
      "inesiotherapy\n",
      "nesiotherapy\n",
      "esiotherapy\n",
      "siotherapy\n",
      "iotherapy\n",
      "otherapy\n",
      "therapy\n",
      "herapy\n",
      "erapy\n",
      "rapy\n",
      "apy\n",
      "py\n",
      "y\n"
     ]
    }
   ],
   "source": [
    "x= \"Kinesiotherapy\"\n",
    "while x:\n",
    "    print(x)\n",
    "    x=x[1:]"
   ]
  },
  {
   "cell_type": "markdown",
   "id": "1c76cf27",
   "metadata": {},
   "source": [
    "### 9.3.3 While with comparision operators"
   ]
  },
  {
   "cell_type": "code",
   "execution_count": 74,
   "id": "8106489d",
   "metadata": {},
   "outputs": [
    {
     "name": "stdout",
     "output_type": "stream",
     "text": [
      "I payed  10000 € to buy  1000  stocks\n",
      "I accept to lose 1000€ maximum\n"
     ]
    }
   ],
   "source": [
    "stocks = 1000\n",
    "stock_price = 10\n",
    "losts = 0\n",
    "threshold = 1000\n",
    "\n",
    "print(\"I payed \",stocks*stock_price, \"€ to buy \", stocks, \" stocks\")\n",
    "print(\"I accept to lose 1000€ maximum\")"
   ]
  },
  {
   "cell_type": "code",
   "execution_count": 75,
   "id": "20684d96",
   "metadata": {},
   "outputs": [
    {
     "name": "stdout",
     "output_type": "stream",
     "text": [
      "New day, stock price:  12.289903845345854\n",
      "Gains:  2289.9038453458543\n",
      "New day, stock price:  9.856899262545587\n",
      "Losts:  143.10073745441332\n",
      "New day, stock price:  9.22768799435369\n",
      "Losts:  772.3120056463104\n",
      "New day, stock price:  10.77786009694834\n",
      "Gains:  777.8600969483396\n",
      "New day, stock price:  9.62304155794582\n",
      "Losts:  376.9584420541796\n",
      "New day, stock price:  9.139517433044533\n",
      "Losts:  860.4825669554666\n",
      "New day, stock price:  8.928006741324348\n",
      "Losts:  1071.9932586756531\n"
     ]
    }
   ],
   "source": [
    "while losts < threshold:\n",
    "    new_price = np.random.normal(10, 1, 1)[0]\n",
    "    print(\"New day, stock price: \",new_price)\n",
    "    losts = 10000 - stocks*new_price\n",
    "    if losts >=0: \n",
    "        print(\"Losts: \",losts)\n",
    "    else: \n",
    "        print(\"Gains: \",-losts)\n",
    "    "
   ]
  },
  {
   "cell_type": "markdown",
   "id": "2d6cbb32",
   "metadata": {},
   "source": [
    "### 9.3.4 While loops with break, continue"
   ]
  },
  {
   "cell_type": "markdown",
   "id": "060d2597",
   "metadata": {},
   "source": [
    "This code will find the largest factor for a number \"y\". If no factor is found, then it means its a prime number"
   ]
  },
  {
   "cell_type": "code",
   "execution_count": 76,
   "id": "4a519dc8",
   "metadata": {},
   "outputs": [
    {
     "name": "stdout",
     "output_type": "stream",
     "text": [
      "198 has factor 99\n"
     ]
    }
   ],
   "source": [
    "y=198\n",
    "x = y-1\n",
    "while x > 1:\n",
    "    if y % x == 0:                   \n",
    "        print(y, 'has factor', x)\n",
    "        break\n",
    "    x -= 1\n",
    "if x==1:\n",
    "    print(y, 'is prime')"
   ]
  },
  {
   "cell_type": "markdown",
   "id": "84800b5a",
   "metadata": {},
   "source": [
    "This code finds even numbers. \n",
    "\n",
    "If the number iterated is odd, then the \"continue\" statements returns to the head of the block without printing"
   ]
  },
  {
   "cell_type": "code",
   "execution_count": 77,
   "id": "4c385823",
   "metadata": {},
   "outputs": [
    {
     "name": "stdout",
     "output_type": "stream",
     "text": [
      "2 4 6 8 10 12 14 16 18 20 22 24 26 28 30 32 34 36 38 40 42 44 46 48 50 52 54 56 58 60 62 64 66 68 70 72 74 76 78 80 82 84 86 88 90 92 94 96 98 100 "
     ]
    }
   ],
   "source": [
    "x = 1\n",
    "while x:\n",
    "    x=x+1                     \n",
    "    if x % 2 != 0: continue\n",
    "    print(x, end=' ')\n",
    "    if x == 100: break"
   ]
  },
  {
   "cell_type": "markdown",
   "id": "c16cc372",
   "metadata": {},
   "source": [
    "Many loops can be implemented also with for statement"
   ]
  },
  {
   "cell_type": "code",
   "execution_count": 78,
   "id": "4442dcac",
   "metadata": {},
   "outputs": [
    {
     "name": "stdout",
     "output_type": "stream",
     "text": [
      "2 4 6 8 10 12 14 16 18 20 22 24 26 28 30 32 34 36 38 40 42 44 46 48 50 52 54 56 58 60 62 64 66 68 70 72 74 76 78 80 82 84 86 88 90 92 94 96 98 "
     ]
    }
   ],
   "source": [
    "for x in range(1,100,1):              \n",
    "    if x % 2 != 0: continue\n",
    "    print(x, end=' ')"
   ]
  },
  {
   "cell_type": "markdown",
   "id": "9858f2f5",
   "metadata": {},
   "source": [
    "## 9.4 List Comprenhensions\n",
    "List comprehensions are a tool for transforming one list (any iterable actually) into another list. During this transformation, elements can be conditionally included in the new list and each element can be transformed as needed."
   ]
  },
  {
   "cell_type": "markdown",
   "id": "538d64b8",
   "metadata": {},
   "source": [
    "### 9.4.1 From Loops to Comprehensions\n",
    "Every list comprehension can be rewritten as a for loop but not every for loop can be rewritten as a list comprehension.     \n",
    "The key to understanding when to use list comprehensions is to practice identifying problems that smell like list comprehensions.    \n",
    "\n",
    "You can rewrite your code to look just like this for loop, you can also rewrite it as a list comprehension.\n"
   ]
  },
  {
   "cell_type": "markdown",
   "id": "f243a1ed",
   "metadata": {},
   "source": [
    "    new_things = []    \n",
    "    for item in old_things:     \n",
    "        if condition_based_on(item):     \n",
    "            new_things.append(\"something with \" + item)     \n",
    "\n"
   ]
  },
  {
   "cell_type": "markdown",
   "id": "04dcd5b9",
   "metadata": {},
   "source": [
    "#previous exmple can be rewuited as:\n",
    "        \n",
    "        new_things = [\"something with \" + item for item in old_things if condition_based_on(item)]\n",
    "\n",
    "\n",
    ">https://python-3-patterns-idioms-test.readthedocs.io/en/latest/Comprehensions.html>"
   ]
  },
  {
   "cell_type": "markdown",
   "id": "de49c154",
   "metadata": {},
   "source": [
    "#### A list comprehension consists of the following parts\n",
    "• The sequence to loop    \n",
    "• A variable representing every member of the sequence     \n",
    "• A transforming expression to be applied at every member of the sequence     \n",
    "• An optional Boolean expression. The transforming expression will be applied     \n",
    "only to the elements that satisfy the Boolean expression"
   ]
  },
  {
   "cell_type": "markdown",
   "id": "a356e2f8",
   "metadata": {},
   "source": [
    "![Image](ImagesNotebook1/ListComprenhensions.JPG)"
   ]
  },
  {
   "cell_type": "markdown",
   "id": "69c49845",
   "metadata": {},
   "source": [
    "### 9.4.2 Easy examples"
   ]
  },
  {
   "cell_type": "code",
   "execution_count": 86,
   "id": "6a44b8c6",
   "metadata": {},
   "outputs": [
    {
     "data": {
      "text/plain": [
       "['C', 'H', 'A', 'N', 'G', 'E', ' ', 'C', 'A', 'S', 'E']"
      ]
     },
     "execution_count": 86,
     "metadata": {},
     "output_type": "execute_result"
    }
   ],
   "source": [
    "[x.upper() for x in \"change case\"]"
   ]
  },
  {
   "cell_type": "code",
   "execution_count": 87,
   "id": "9e48938a",
   "metadata": {},
   "outputs": [
    {
     "data": {
      "text/plain": [
       "['N', 'W', 'W', 'T', 'H', 'N', 'U', 'M', 'B', 'R', 'S']"
      ]
     },
     "execution_count": 87,
     "metadata": {},
     "output_type": "execute_result"
    }
   ],
   "source": [
    "[x.upper() for x in \"n0w w1th numb3rs\" if x.islower()]"
   ]
  },
  {
   "cell_type": "code",
   "execution_count": 88,
   "id": "9b7f8380",
   "metadata": {},
   "outputs": [
    {
     "data": {
      "text/plain": [
       "['Even: 0', 'Even: 2', 'Even: 4', 'Even: 6', 'Even: 8', 'Even: 10']"
      ]
     },
     "execution_count": 88,
     "metadata": {},
     "output_type": "execute_result"
    }
   ],
   "source": [
    "sequence=[0,1,2,3,4,5,6,7,8,9,10]\n",
    "\n",
    "[\"Even: \"+str(x) for x in sequence if x%2==0]"
   ]
  },
  {
   "cell_type": "markdown",
   "id": "bb6d4ffd",
   "metadata": {},
   "source": [
    "#### Be aware that a list is always returned, even if it's empty"
   ]
  },
  {
   "cell_type": "code",
   "execution_count": 89,
   "id": "1a8608c9",
   "metadata": {},
   "outputs": [
    {
     "name": "stdout",
     "output_type": "stream",
     "text": [
      "Even: 0\n",
      "Even: 2\n",
      "Even: 4\n",
      "Even: 6\n",
      "Even: 8\n",
      "Even: 10\n"
     ]
    },
    {
     "data": {
      "text/plain": [
       "[None, None, None, None, None, None]"
      ]
     },
     "execution_count": 89,
     "metadata": {},
     "output_type": "execute_result"
    }
   ],
   "source": [
    "sequence=[0,1,2,3,4,5,6,7,8,9,10]\n",
    "\n",
    "[print(\"Even: \"+str(x)) for x in sequence if x%2==0]"
   ]
  },
  {
   "cell_type": "markdown",
   "id": "49fc0ca1",
   "metadata": {},
   "source": [
    "#### Tuples and dictionaries are also collections to be used with list comprehensions"
   ]
  },
  {
   "cell_type": "code",
   "execution_count": 90,
   "id": "47ee3d93",
   "metadata": {},
   "outputs": [
    {
     "data": {
      "text/plain": [
       "['BLOWFISH', 'CLOWNFISH', 'CATFISH']"
      ]
     },
     "execution_count": 90,
     "metadata": {},
     "output_type": "execute_result"
    }
   ],
   "source": [
    "sequence=('blowfish', 'clownfish', 'catfish', 'octopus')\n",
    "\n",
    "[x.upper() for x in sequence if \"fish\" in x]"
   ]
  },
  {
   "cell_type": "code",
   "execution_count": 91,
   "id": "dfe9e6ad",
   "metadata": {},
   "outputs": [
    {
     "data": {
      "text/plain": [
       "['Hola', 'Adios']"
      ]
     },
     "execution_count": 91,
     "metadata": {},
     "output_type": "execute_result"
    }
   ],
   "source": [
    "dictionary={\"Hola\":\"spanish\",\"Bonjour\":\"french\",\"Hello\":\"english\",\n",
    "            \"Adios\":\"spanish\",\"Au revoir\":\"french\",\"Bye\":\"english\"}\n",
    "\n",
    "[k for k,v in dictionary.items() if v==\"spanish\" ]"
   ]
  },
  {
   "cell_type": "markdown",
   "id": "fafbf6e5",
   "metadata": {},
   "source": [
    "###  9.4.3 Medium examples"
   ]
  },
  {
   "cell_type": "markdown",
   "id": "b3428c74",
   "metadata": {},
   "source": [
    "#### Nested For Loops"
   ]
  },
  {
   "cell_type": "code",
   "execution_count": 92,
   "id": "eacbb25c",
   "metadata": {},
   "outputs": [
    {
     "name": "stdout",
     "output_type": "stream",
     "text": [
      "[40, 80, 120, 80, 160, 240, 120, 240, 360]\n"
     ]
    }
   ],
   "source": [
    "my_list = []\n",
    "\n",
    "for x in [20, 40, 60]:\n",
    "    for y in [2, 4, 6]:\n",
    "        my_list.append(x * y)\n",
    "\n",
    "print(my_list)"
   ]
  },
  {
   "cell_type": "code",
   "execution_count": 93,
   "id": "fdf2ef8e",
   "metadata": {},
   "outputs": [
    {
     "data": {
      "text/plain": [
       "[40, 80, 120, 80, 160, 240, 120, 240, 360]"
      ]
     },
     "execution_count": 93,
     "metadata": {},
     "output_type": "execute_result"
    }
   ],
   "source": [
    "my_list = [x * y for x in [20, 40, 60] for y in [2, 4, 6]]\n",
    "my_list"
   ]
  },
  {
   "cell_type": "markdown",
   "id": "7746cd43",
   "metadata": {},
   "source": [
    "#### Flat map list of list"
   ]
  },
  {
   "cell_type": "code",
   "execution_count": 94,
   "id": "06da559e",
   "metadata": {},
   "outputs": [
    {
     "data": {
      "text/plain": [
       "[1, 2, 3, 4, 5, 6, 7, 8, 9]"
      ]
     },
     "execution_count": 94,
     "metadata": {},
     "output_type": "execute_result"
    }
   ],
   "source": [
    "list_of_list=[[1, 2, 3], [4, 5, 6], [7], [8, 9]]\n",
    "\n",
    "flat_list = []\n",
    "for sublist in list_of_list:\n",
    "    for item in sublist:\n",
    "        flat_list.append(item)\n",
    "        \n",
    "flat_list"
   ]
  },
  {
   "cell_type": "code",
   "execution_count": 95,
   "id": "3b354c9b",
   "metadata": {},
   "outputs": [
    {
     "data": {
      "text/plain": [
       "[1, 2, 3, 4, 5, 6, 7, 8, 9]"
      ]
     },
     "execution_count": 95,
     "metadata": {},
     "output_type": "execute_result"
    }
   ],
   "source": [
    "flat_list = [item for sublist in list_of_list for item in sublist]\n",
    "flat_list"
   ]
  },
  {
   "cell_type": "markdown",
   "id": "bd134770",
   "metadata": {},
   "source": [
    "#### Nested If"
   ]
  },
  {
   "cell_type": "code",
   "execution_count": 96,
   "id": "71dbc18c",
   "metadata": {},
   "outputs": [
    {
     "name": "stdout",
     "output_type": "stream",
     "text": [
      "List of 3 and 5 multiples\n",
      "[0, 15, 30, 45, 60, 75, 90]\n"
     ]
    }
   ],
   "source": [
    "number_list=[]\n",
    "for x in range(100):\n",
    "    if x % 3 == 0 :\n",
    "        if x % 5 == 0 :\n",
    "            number_list.append(x)\n",
    "print(\"List of 3 and 5 multiples\")\n",
    "print(number_list)"
   ]
  },
  {
   "cell_type": "code",
   "execution_count": 97,
   "id": "77dce597",
   "metadata": {},
   "outputs": [
    {
     "name": "stdout",
     "output_type": "stream",
     "text": [
      "List of 3 and 5 multiples\n",
      "[0, 15, 30, 45, 60, 75, 90]\n"
     ]
    }
   ],
   "source": [
    "number_list = [x for x in range(100) if x % 3 == 0 and x % 5 == 0]\n",
    "print(\"List of 3 and 5 multiples\")\n",
    "print(number_list)"
   ]
  },
  {
   "cell_type": "markdown",
   "id": "c5f2760a",
   "metadata": {},
   "source": [
    "###  9.4.3 Hard examples"
   ]
  },
  {
   "cell_type": "markdown",
   "id": "83ad56d6",
   "metadata": {},
   "source": [
    "#### Create a diagonal matrix"
   ]
  },
  {
   "cell_type": "code",
   "execution_count": 98,
   "id": "f0678fca",
   "metadata": {},
   "outputs": [
    {
     "data": {
      "text/plain": [
       "[[1, 0, 0], [0, 1, 0], [0, 0, 1]]"
      ]
     },
     "execution_count": 98,
     "metadata": {},
     "output_type": "execute_result"
    }
   ],
   "source": [
    "matrix=[[0,0,0],[0,0,0],[0,0,0]]\n",
    "for row_idx in range(0, 3):\n",
    "    for item_idx in range(0, 3):\n",
    "        if item_idx == row_idx :\n",
    "            matrix[row_idx][item_idx]=1\n",
    "        else:\n",
    "            matrix[row_idx][item_idx]=0\n",
    "\n",
    "matrix"
   ]
  },
  {
   "cell_type": "code",
   "execution_count": 99,
   "id": "ba99733c",
   "metadata": {},
   "outputs": [
    {
     "data": {
      "text/plain": [
       "[[1, 0, 0], [0, 1, 0], [0, 0, 1]]"
      ]
     },
     "execution_count": 99,
     "metadata": {},
     "output_type": "execute_result"
    }
   ],
   "source": [
    "[ [ 1 if item_idx == row_idx else 0 for item_idx in range(0, 3) ] for row_idx in range(0, 3) ]"
   ]
  },
  {
   "cell_type": "markdown",
   "id": "1f7de6ce",
   "metadata": {},
   "source": [
    "# 10 Conditionals"
   ]
  },
  {
   "cell_type": "markdown",
   "id": "0424dd5a",
   "metadata": {},
   "source": [
    "## 10.1 Simple conditionals"
   ]
  },
  {
   "cell_type": "code",
   "execution_count": 100,
   "id": "7202a453",
   "metadata": {},
   "outputs": [
    {
     "name": "stdout",
     "output_type": "stream",
     "text": [
      "x is positive\n"
     ]
    }
   ],
   "source": [
    "x=10\n",
    "if x > 0: \n",
    "  print(\"x is positive\")\n",
    "else:\n",
    "  print(\"x is negative\")"
   ]
  },
  {
   "cell_type": "code",
   "execution_count": 101,
   "id": "b386d446",
   "metadata": {},
   "outputs": [
    {
     "name": "stdout",
     "output_type": "stream",
     "text": [
      "x is negative\n"
     ]
    }
   ],
   "source": [
    "x=-10\n",
    "if x > 0: \n",
    "  print(\"x is positive\")\n",
    "else:\n",
    "  print(\"x is negative\")"
   ]
  },
  {
   "cell_type": "markdown",
   "id": "c31f715b",
   "metadata": {},
   "source": [
    "## 10.2 Chained conditionals"
   ]
  },
  {
   "cell_type": "code",
   "execution_count": 102,
   "id": "adc008d0",
   "metadata": {},
   "outputs": [
    {
     "name": "stdout",
     "output_type": "stream",
     "text": [
      "x is zero\n"
     ]
    }
   ],
   "source": [
    "x=0\n",
    "if x > 0: \n",
    "  print(\"x is positive\")\n",
    "elif x <0:\n",
    "  print(\"x is negative\")\n",
    "else:\n",
    "  print(\"x is zero\")"
   ]
  },
  {
   "cell_type": "code",
   "execution_count": 103,
   "id": "b6e0cd74",
   "metadata": {},
   "outputs": [
    {
     "name": "stdout",
     "output_type": "stream",
     "text": [
      "x is larger than 20\n"
     ]
    }
   ],
   "source": [
    "x=25\n",
    "if x > 50: \n",
    "  print(\"x is larger than 50\")\n",
    "elif x > 20:\n",
    "  print(\"x is larger than 20\")\n",
    "elif x > 10:\n",
    "  print(\"x is larger than 10\")\n",
    "else:\n",
    "  print(\"x is fewer than 10\")"
   ]
  },
  {
   "cell_type": "markdown",
   "id": "3274bcce",
   "metadata": {},
   "source": [
    "## 10.3 Nested conditionals"
   ]
  },
  {
   "cell_type": "code",
   "execution_count": 106,
   "id": "6c7e96ed",
   "metadata": {},
   "outputs": [
    {
     "name": "stdout",
     "output_type": "stream",
     "text": [
      "x is fewer than 50 but larger than 0\n"
     ]
    }
   ],
   "source": [
    "x=25\n",
    "if x>0:\n",
    "    if x>=50:\n",
    "        print(\"x is larger or equal than 50\")\n",
    "    else:\n",
    "        print(\"x is fewer than 50 but larger than 0\")    \n",
    "elif x<0:\n",
    "    if x <=-50:\n",
    "        print(\"x is fewer or equal than -50\")\n",
    "    else:\n",
    "        print(\"x is larger -50 but fewer than 0\")        \n",
    "else:\n",
    "    print(\"x=0\")"
   ]
  },
  {
   "cell_type": "code",
   "execution_count": 107,
   "id": "b9af4ff4",
   "metadata": {},
   "outputs": [
    {
     "name": "stdout",
     "output_type": "stream",
     "text": [
      "x is fewer than 50 but larger than 0\n"
     ]
    }
   ],
   "source": [
    "x=25\n",
    "if x>=50:    print(\"x is larger or equal than 50\")\n",
    "elif x>0:    print(\"x is fewer than 50 but larger than 0\")\n",
    "elif x==0:   print(\"x=0\")\n",
    "elif x<=-50: print(\"x is fewer or equal than -50\")\n",
    "else:        print(\"x is larger -50 but fewer than 0\")"
   ]
  },
  {
   "cell_type": "markdown",
   "id": "41a9ac1b",
   "metadata": {},
   "source": [
    "## 10.4 Ternary expressions"
   ]
  },
  {
   "cell_type": "code",
   "execution_count": 108,
   "id": "68c226f3",
   "metadata": {},
   "outputs": [
    {
     "name": "stdout",
     "output_type": "stream",
     "text": [
      "Value of x is:  positivo\n"
     ]
    }
   ],
   "source": [
    "x=True\n",
    "if x:\n",
    "    A = \"positivo\"\n",
    "else:\n",
    "    A = \"negativo\"\n",
    "print(\"Value of x is: \",A)"
   ]
  },
  {
   "cell_type": "code",
   "execution_count": 109,
   "id": "0c4b20b0",
   "metadata": {},
   "outputs": [
    {
     "name": "stdout",
     "output_type": "stream",
     "text": [
      "Value of x is:  positivo\n"
     ]
    }
   ],
   "source": [
    "x=True\n",
    "A= \"positivo\" if x else \"negativo\"\n",
    "print(\"Value of x is: \",A)"
   ]
  },
  {
   "cell_type": "markdown",
   "id": "c3221873",
   "metadata": {},
   "source": [
    "## 10.5 Using Logical Operators"
   ]
  },
  {
   "cell_type": "code",
   "execution_count": 110,
   "id": "b7a01add",
   "metadata": {},
   "outputs": [
    {
     "name": "stdout",
     "output_type": "stream",
     "text": [
      "x is a positive single digit.\n"
     ]
    }
   ],
   "source": [
    "x=5\n",
    "if 0 < x: \n",
    "  if x < 10: \n",
    "    print(\"x is a positive single digit.\")"
   ]
  },
  {
   "cell_type": "code",
   "execution_count": 111,
   "id": "df8ac8e0",
   "metadata": {},
   "outputs": [
    {
     "name": "stdout",
     "output_type": "stream",
     "text": [
      "x is a positive single digit.\n"
     ]
    }
   ],
   "source": [
    "x=5\n",
    "if 0 < x and x < 10: \n",
    "    print(\"x is a positive single digit.\")"
   ]
  },
  {
   "cell_type": "markdown",
   "id": "fe20c329",
   "metadata": {},
   "source": [
    "## 10.6 Syntax\n",
    "Python relies on indentation (whitespace at the beginning of a line) to define scope in the code. Other programming languages often use curly-brackets for this purpose. "
   ]
  },
  {
   "cell_type": "markdown",
   "id": "76e66043",
   "metadata": {},
   "source": [
    "### Conditions satisfied"
   ]
  },
  {
   "cell_type": "code",
   "execution_count": 112,
   "id": "8b1d42ab",
   "metadata": {},
   "outputs": [
    {
     "name": "stdout",
     "output_type": "stream",
     "text": [
      "condition satisfied\n"
     ]
    }
   ],
   "source": [
    "x = True\n",
    "if x:\n",
    "    print(\"condition satisfied\")"
   ]
  },
  {
   "cell_type": "code",
   "execution_count": 113,
   "id": "c5f4a783",
   "metadata": {},
   "outputs": [
    {
     "name": "stdout",
     "output_type": "stream",
     "text": [
      "condition satisfied\n"
     ]
    }
   ],
   "source": [
    "x = 5\n",
    "if x:\n",
    "    print(\"condition satisfied\")"
   ]
  },
  {
   "cell_type": "code",
   "execution_count": 114,
   "id": "d210b867",
   "metadata": {},
   "outputs": [
    {
     "name": "stdout",
     "output_type": "stream",
     "text": [
      "condition false\n"
     ]
    }
   ],
   "source": [
    "x = {}\n",
    "if x:\n",
    "    print(\"condition satisfied\")\n",
    "else:\n",
    "    print(\"condition false\")"
   ]
  },
  {
   "cell_type": "markdown",
   "id": "7ff759b5",
   "metadata": {},
   "source": [
    "### Execution blocks"
   ]
  },
  {
   "cell_type": "code",
   "execution_count": 115,
   "id": "41656eaa",
   "metadata": {},
   "outputs": [
    {
     "name": "stdout",
     "output_type": "stream",
     "text": [
      "this is block 0\n",
      "this is main branch of block 1\n",
      "this is main branch of block 2\n",
      "this is still main branch of block 1\n",
      "this is block 0, again\n"
     ]
    }
   ],
   "source": [
    "x = 1\n",
    "print('this is block 0')\n",
    "if x >0:\n",
    "    print(\"this is main branch of block 1\")\n",
    "    y = 1\n",
    "    if y >0:\n",
    "        print('this is main branch of block 2')\n",
    "    else:\n",
    "        print('this is else branch of block 2')\n",
    "    print('this is still main branch of block 1')\n",
    "print('this is block 0, again')"
   ]
  },
  {
   "cell_type": "code",
   "execution_count": 116,
   "id": "ac20e860",
   "metadata": {},
   "outputs": [
    {
     "name": "stdout",
     "output_type": "stream",
     "text": [
      "this is block 0\n",
      "this is main branch of block 1\n",
      "this is main branch of block 2\n",
      "this is block 0, again\n"
     ]
    }
   ],
   "source": [
    "x = 1\n",
    "print('this is block 0')\n",
    "if x >0:\n",
    "    print(\"this is main branch of block 1\")\n",
    "    y = 1\n",
    "    if y >0:\n",
    "        print('this is main branch of block 2')\n",
    "else:\n",
    "    print('this is else branch of block 1')\n",
    "    print('this is still else branch of block 1')\n",
    "print('this is block 0, again')"
   ]
  },
  {
   "cell_type": "markdown",
   "id": "80d38325",
   "metadata": {},
   "source": [
    "### Long lines"
   ]
  },
  {
   "cell_type": "code",
   "execution_count": 117,
   "id": "b36ee3e1",
   "metadata": {},
   "outputs": [],
   "source": [
    "a,b,c,d,e,f,g=1,2,3,4,5,6,7"
   ]
  },
  {
   "cell_type": "code",
   "execution_count": 118,
   "id": "508c8eff",
   "metadata": {},
   "outputs": [],
   "source": [
    "if a == b and b == c and c == d and d == e and e == f and f == g:\n",
    "    print(\"all equals\")"
   ]
  },
  {
   "cell_type": "code",
   "execution_count": 119,
   "id": "0f6998be",
   "metadata": {},
   "outputs": [],
   "source": [
    "if a == b and b == c     \\\n",
    "   and c == d and d == e \\\n",
    "   and e == f and f == g :\n",
    "    print(\"all equals\")"
   ]
  },
  {
   "cell_type": "code",
   "execution_count": 120,
   "id": "16297af7",
   "metadata": {},
   "outputs": [],
   "source": [
    "if (a == b and b == c\n",
    "   and c == d and d == e \n",
    "   and e == f and f == g) :\n",
    "    print(\"all equals\")"
   ]
  },
  {
   "cell_type": "markdown",
   "id": "ff4b3693",
   "metadata": {},
   "source": [
    "## 10.7 Common uses"
   ]
  },
  {
   "cell_type": "markdown",
   "id": "c93968c6",
   "metadata": {},
   "source": [
    "### Membership verification"
   ]
  },
  {
   "cell_type": "code",
   "execution_count": 121,
   "id": "1eb1237d",
   "metadata": {},
   "outputs": [
    {
     "name": "stdout",
     "output_type": "stream",
     "text": [
      "{'M': 1, 'i': 8, 's': 8, 'p': 2, ' ': 9, 't': 6, 'h': 2, 'e': 7, 'c': 1, 'o': 2, 'n': 4, 'd': 2, 'l': 1, 'g': 1, 'r': 2, 'v': 1, 'U': 1, 'S': 1, 'a': 1}\n"
     ]
    }
   ],
   "source": [
    "sentence=\"Mississippi is the second longest river in the United States\"\n",
    "letterCounts={}\n",
    "for letter in sentence:\n",
    "    if letter in letterCounts:\n",
    "        letterCounts[letter]=letterCounts[letter]+1\n",
    "    else:\n",
    "        letterCounts[letter]=1\n",
    "print(letterCounts)"
   ]
  },
  {
   "cell_type": "markdown",
   "id": "14791740",
   "metadata": {},
   "source": [
    "### Multiple choice"
   ]
  },
  {
   "cell_type": "code",
   "execution_count": 122,
   "id": "18a3e902",
   "metadata": {},
   "outputs": [
    {
     "name": "stdout",
     "output_type": "stream",
     "text": [
      "Please, select an action to do with your file\n",
      "- Delete\n",
      "- Rename\n",
      "- Clone\n",
      "- Move\n",
      "delete\n",
      "Action unkown\n"
     ]
    }
   ],
   "source": [
    "print(\"Please, select an action to do with your file\")\n",
    "print(\"- Delete\")\n",
    "print(\"- Rename\")\n",
    "print(\"- Clone\")\n",
    "print(\"- Move\")\n",
    "action = input()\n",
    "if action == \"Delete\": \n",
    "    print(\"Call delete function\")\n",
    "elif action == \"Rename\":\n",
    "    print(\"Call rename function\")\n",
    "elif action == \"Clone\":\n",
    "    print(\"Call clone function\")\n",
    "elif action == \"Move\":\n",
    "    print(\"Call move function\")\n",
    "else:\n",
    "    print(\"Action unkown\")"
   ]
  },
  {
   "cell_type": "markdown",
   "id": "e55a1201",
   "metadata": {},
   "source": [
    "### Rules checking"
   ]
  },
  {
   "cell_type": "code",
   "execution_count": 123,
   "id": "862d639a",
   "metadata": {},
   "outputs": [],
   "source": [
    "vehicles=dict(car1=dict(model=\"saab93\",length=464, width=176, height=145, weight=1570),\n",
    "              car2=dict(model=\"fordfocus\",length=439, width=182, height=148, weight=1493),\n",
    "              car3=dict(model=\"nissanevalia\",length=440, width=169, height=186, weight=1431),\n",
    "              car4=dict(model=\"bmwq7\",length=515, width=200, height=180, weight=2445),\n",
    "              car5=dict(model=\"citroends3\",length=395, width=171, height=148, weight=1090))"
   ]
  },
  {
   "cell_type": "code",
   "execution_count": 124,
   "id": "d0573eea",
   "metadata": {},
   "outputs": [
    {
     "name": "stdout",
     "output_type": "stream",
     "text": [
      "Car  saab93  can park\n",
      "Car  fordfocus  can park\n",
      "Car  nissanevalia  cannot park\n",
      "Car  bmwq7  cannot park\n",
      "Car  citroends3  can park\n"
     ]
    }
   ],
   "source": [
    "max_length=600\n",
    "max_width=200\n",
    "max_height=180\n",
    "max_weight=2000\n",
    "for index in vehicles:\n",
    "    car=vehicles[index]\n",
    "    if (car[\"length\"]<max_length and \n",
    "        car[\"width\"]<max_width and \n",
    "        car[\"height\"]<max_height and \n",
    "        car[\"weight\"]<max_weight):\n",
    "        print(\"Car \",car[\"model\"],\" can park\")\n",
    "    else:\n",
    "        print(\"Car \",car[\"model\"],\" cannot park\")"
   ]
  },
  {
   "cell_type": "markdown",
   "id": "17e48e61",
   "metadata": {},
   "source": [
    "### Avoid Exceptions"
   ]
  },
  {
   "cell_type": "code",
   "execution_count": 125,
   "id": "5cb32441",
   "metadata": {},
   "outputs": [
    {
     "name": "stdout",
     "output_type": "stream",
     "text": [
      "Average:  0.0\n",
      "Standard deviation:  86.60254037844386\n"
     ]
    }
   ],
   "source": [
    "import numpy as np\n",
    "elements=[100,100,-100,-100,50,-50]\n",
    "mean=np.mean(elements)\n",
    "std=np.std(elements)\n",
    "print(\"Average: \",mean)\n",
    "print(\"Standard deviation: \",std)"
   ]
  },
  {
   "cell_type": "code",
   "execution_count": 126,
   "id": "2d58ceba",
   "metadata": {},
   "outputs": [
    {
     "name": "stderr",
     "output_type": "stream",
     "text": [
      "<ipython-input-126-e2594c18a664>:1: RuntimeWarning: divide by zero encountered in double_scalars\n",
      "  std_realative_to_mean=std/mean\n"
     ]
    }
   ],
   "source": [
    "std_realative_to_mean=std/mean"
   ]
  },
  {
   "cell_type": "code",
   "execution_count": 127,
   "id": "9fbf0008",
   "metadata": {},
   "outputs": [
    {
     "name": "stdout",
     "output_type": "stream",
     "text": [
      "STD relative to average:  inf\n"
     ]
    }
   ],
   "source": [
    "if mean!=0: \n",
    "    std_realative_to_mean=std/mean\n",
    "else:\n",
    "    std_realative_to_mean=np.inf\n",
    "    \n",
    "print(\"STD relative to average: \",std_realative_to_mean)"
   ]
  },
  {
   "cell_type": "markdown",
   "id": "a708d5e8",
   "metadata": {},
   "source": [
    "## 10.8 Logical operators stop evaluating (“short circuit”) as soon as a result is known     \n",
    "This is taken into account on performance programming"
   ]
  },
  {
   "cell_type": "markdown",
   "id": "a8dc1d7d",
   "metadata": {},
   "source": [
    "![Image](ImagesNotebook1/conditions.JPG)"
   ]
  },
  {
   "cell_type": "markdown",
   "id": "42c6bf03",
   "metadata": {},
   "source": [
    "## 10.9 If + is /is not with strings\n",
    "<https://www.w3schools.com/python/python_strings.asp>"
   ]
  },
  {
   "cell_type": "code",
   "execution_count": 1,
   "id": "a7af7571",
   "metadata": {},
   "outputs": [
    {
     "name": "stdout",
     "output_type": "stream",
     "text": [
      "No, 'expensive' is NOT present.\n"
     ]
    }
   ],
   "source": [
    "txt = \"The best things in life are free!\"\n",
    "if \"expensive\" not in txt:\n",
    "  print(\"No, 'expensive' is NOT present.\")"
   ]
  },
  {
   "cell_type": "code",
   "execution_count": null,
   "id": "8e0a5e3d",
   "metadata": {},
   "outputs": [],
   "source": []
  },
  {
   "cell_type": "markdown",
   "id": "d4a68c71",
   "metadata": {},
   "source": [
    "# END of Notebook 3"
   ]
  }
 ],
 "metadata": {
  "kernelspec": {
   "display_name": "Python 3",
   "language": "python",
   "name": "python3"
  },
  "language_info": {
   "codemirror_mode": {
    "name": "ipython",
    "version": 3
   },
   "file_extension": ".py",
   "mimetype": "text/x-python",
   "name": "python",
   "nbconvert_exporter": "python",
   "pygments_lexer": "ipython3",
   "version": "3.8.8"
  }
 },
 "nbformat": 4,
 "nbformat_minor": 5
}
