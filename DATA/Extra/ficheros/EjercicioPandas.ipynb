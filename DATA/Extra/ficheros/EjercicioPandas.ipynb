{
 "cells": [
  {
   "cell_type": "markdown",
   "id": "59944aa2",
   "metadata": {},
   "source": [
    "# PANDAS in 5 minutes"
   ]
  },
  {
   "cell_type": "markdown",
   "id": "c1c9597f",
   "metadata": {},
   "source": [
    "### Reading files read file country.csv encoding='ISO-8859-1'"
   ]
  },
  {
   "cell_type": "code",
   "execution_count": null,
   "id": "a39632e7",
   "metadata": {},
   "outputs": [],
   "source": []
  },
  {
   "cell_type": "markdown",
   "id": "f9010630",
   "metadata": {},
   "source": [
    "#### Accessing by row number ( access to two fist rows)"
   ]
  },
  {
   "cell_type": "code",
   "execution_count": null,
   "id": "ba501013",
   "metadata": {},
   "outputs": [],
   "source": []
  },
  {
   "cell_type": "markdown",
   "id": "e19818cc",
   "metadata": {},
   "source": [
    "#### Selecting some columns (select only 3 columns, later only 3 columns of 2 first records)"
   ]
  },
  {
   "cell_type": "code",
   "execution_count": null,
   "id": "bf3f34fe",
   "metadata": {},
   "outputs": [],
   "source": []
  },
  {
   "cell_type": "markdown",
   "id": "c6d1dfcb",
   "metadata": {},
   "source": [
    "#### Filtering by condition. Apply a filter to a column"
   ]
  },
  {
   "cell_type": "code",
   "execution_count": null,
   "id": "673b249f",
   "metadata": {},
   "outputs": [],
   "source": []
  },
  {
   "cell_type": "markdown",
   "id": "1735202d",
   "metadata": {},
   "source": [
    "#### Add new column with default value"
   ]
  },
  {
   "cell_type": "code",
   "execution_count": null,
   "id": "5e94a65f",
   "metadata": {},
   "outputs": [],
   "source": []
  },
  {
   "cell_type": "markdown",
   "id": "289a4b40",
   "metadata": {},
   "source": [
    "#### Add new column with calculated value"
   ]
  },
  {
   "cell_type": "code",
   "execution_count": null,
   "id": "b0fd4670",
   "metadata": {},
   "outputs": [],
   "source": []
  },
  {
   "cell_type": "markdown",
   "id": "779a4421",
   "metadata": {},
   "source": [
    "#### Remove column"
   ]
  },
  {
   "cell_type": "code",
   "execution_count": null,
   "id": "dae0189f",
   "metadata": {},
   "outputs": [],
   "source": []
  },
  {
   "cell_type": "markdown",
   "id": "8e4c63e0",
   "metadata": {},
   "source": [
    "### Writing files with PANDAS. save dataframe in a csv file"
   ]
  },
  {
   "cell_type": "code",
   "execution_count": null,
   "id": "03e7e9f2",
   "metadata": {},
   "outputs": [],
   "source": []
  }
 ],
 "metadata": {
  "kernelspec": {
   "display_name": "Python 3",
   "language": "python",
   "name": "python3"
  },
  "language_info": {
   "codemirror_mode": {
    "name": "ipython",
    "version": 3
   },
   "file_extension": ".py",
   "mimetype": "text/x-python",
   "name": "python",
   "nbconvert_exporter": "python",
   "pygments_lexer": "ipython3",
   "version": "3.8.8"
  }
 },
 "nbformat": 4,
 "nbformat_minor": 5
}
