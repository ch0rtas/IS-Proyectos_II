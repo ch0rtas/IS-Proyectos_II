{
 "cells": [
  {
   "cell_type": "markdown",
   "id": "a2a0ab9c",
   "metadata": {},
   "source": [
    "# Remember Basic Data Types"
   ]
  },
  {
   "cell_type": "code",
   "execution_count": 5,
   "id": "be42ffbe",
   "metadata": {},
   "outputs": [
    {
     "name": "stdout",
     "output_type": "stream",
     "text": [
      "<class 'int'>\n",
      "<class 'float'>\n",
      "<class 'str'>\n",
      "<class 'str'>\n",
      "<class 'complex'>\n",
      "<class 'complex'>\n",
      "<class 'bool'>\n",
      "<class 'bool'>\n"
     ]
    }
   ],
   "source": [
    "a=1\n",
    "print(type(a))\n",
    "b=2.5\n",
    "print(type(b))\n",
    "c=\"hello\"\n",
    "print(type(c))\n",
    "d='bye'\n",
    "print(type(d))\n",
    "e= complex(1,2)\n",
    "print(type(e))\n",
    "f = complex(5+2j)\n",
    "print(type(f))\n",
    "g= True\n",
    "print(type(g))\n",
    "h=(5<2)\n",
    "print(type(h))"
   ]
  },
  {
   "cell_type": "markdown",
   "id": "a80346bf",
   "metadata": {},
   "source": [
    "##  Tip for working with large numbers: Use Underscores to Format Large Numbers\n",
    "\n",
    "When working with a large number in Python, it can be difficult to figure out how many digits that number has. Python 3.6 and above allows you to use underscores as visual separators to group digits.\n",
    "\n",
    "In the example below, underscores are used to group decimal numbers by thousands.\n"
   ]
  },
  {
   "cell_type": "code",
   "execution_count": 4,
   "id": "6af75ca3",
   "metadata": {},
   "outputs": [
    {
     "data": {
      "text/plain": [
       "1000000"
      ]
     },
     "execution_count": 4,
     "metadata": {},
     "output_type": "execute_result"
    }
   ],
   "source": [
    "my_large_num = 1_000_000\n",
    "my_large_num # Returns 1000000"
   ]
  },
  {
   "cell_type": "markdown",
   "id": "20fafd3b",
   "metadata": {},
   "source": [
    "# 5 Working with strings\n",
    "\n",
    "**String** literals contain pieces of text. Both `\"` and `'` delimiters may be used, and special characters require *escaping*.  \n",
    "Python has great support for strings. For example in further sections we will see that we can iterate/loop through a String."
   ]
  },
  {
   "cell_type": "markdown",
   "id": "6aa1bc6b",
   "metadata": {},
   "source": [
    "## 5.1 Creating them"
   ]
  },
  {
   "cell_type": "code",
   "execution_count": 13,
   "id": "7cffa38c",
   "metadata": {},
   "outputs": [
    {
     "name": "stdout",
     "output_type": "stream",
     "text": [
      "This is an example of a String variable\n",
      "\n",
      "\n",
      "This is another string variable\n",
      "\n",
      "\n",
      "¿Qué es poesía?, dices mientras clavas\n",
      "en mi pupila tu pupila azul.\n",
      "¿Qué es poesía? ¿Y tú me lo preguntas?\n",
      "Poesía... eres tú.\n",
      "-- Gustavo Adolfo Bécquer \n",
      "\n",
      "\n",
      "Lorem ipsum dolor sit amet,\n",
      "consectetur adipiscing elit,\n",
      "sed do eiusmod tempor incididunt\n",
      "ut labore et dolore magna aliqua.\n"
     ]
    }
   ],
   "source": [
    "a=\"This is an example of a String variable\"\n",
    "b='This is another string variable'\n",
    "\n",
    "#Strings may span several lines if quoted between `\"\"\"` or `'''`.\n",
    "\n",
    "poem = \"\"\"¿Qué es poesía?, dices mientras clavas\n",
    "en mi pupila tu pupila azul.\n",
    "¿Qué es poesía? ¿Y tú me lo preguntas?\n",
    "Poesía... eres tú.\n",
    "-- Gustavo Adolfo Bécquer \"\"\"\n",
    "\n",
    "d = '''Lorem ipsum dolor sit amet,\n",
    "consectetur adipiscing elit,\n",
    "sed do eiusmod tempor incididunt\n",
    "ut labore et dolore magna aliqua.'''\n",
    "\n",
    "print(a)\n",
    "print(\"\\n\")\n",
    "print(b)\n",
    "print(\"\\n\")\n",
    "print(poem)\n",
    "print(\"\\n\")\n",
    "print(d)"
   ]
  },
  {
   "cell_type": "markdown",
   "id": "40cca257",
   "metadata": {},
   "source": [
    "## 5.2 Escaping character in python\n",
    "To insert characters that are illegal in a string, use an escape character.An escape character is a backslash \\ followed by the character you want to insert.    \n",
    "An example of an illegal character is a double quote inside a string that is surrounded by double quotes:"
   ]
  },
  {
   "cell_type": "code",
   "execution_count": 10,
   "id": "ae938ab8",
   "metadata": {},
   "outputs": [
    {
     "ename": "SyntaxError",
     "evalue": "invalid syntax (<ipython-input-10-2048e9e27fca>, line 2)",
     "output_type": "error",
     "traceback": [
      "\u001b[1;36m  File \u001b[1;32m\"<ipython-input-10-2048e9e27fca>\"\u001b[1;36m, line \u001b[1;32m2\u001b[0m\n\u001b[1;33m    txt = \"I love \"Python\" programming language.\"\u001b[0m\n\u001b[1;37m                   ^\u001b[0m\n\u001b[1;31mSyntaxError\u001b[0m\u001b[1;31m:\u001b[0m invalid syntax\n"
     ]
    }
   ],
   "source": [
    "#Returns an error:\n",
    "txt = \"I love \"Python\" programming language.\"\n",
    "print(txt)"
   ]
  },
  {
   "cell_type": "code",
   "execution_count": 11,
   "id": "3fe797bf",
   "metadata": {},
   "outputs": [
    {
     "name": "stdout",
     "output_type": "stream",
     "text": [
      "I love \"Python\" programming language.\n"
     ]
    }
   ],
   "source": [
    "#Correct:\n",
    "txt = \"I love \\\"Python\\\" programming language.\"\n",
    "print(txt)"
   ]
  },
  {
   "cell_type": "markdown",
   "id": "dab0ebe8",
   "metadata": {},
   "source": [
    "For more information: <https://www.w3schools.com/python/gloss_python_escape_characters.asp>"
   ]
  },
  {
   "cell_type": "markdown",
   "id": "58a8edf2",
   "metadata": {},
   "source": [
    "## 5.3 Strings are arrays\n",
    "\n",
    "Like many other popular programming languages, strings in Python are arrays of bytes representing unicode characters. However, Python does not have a character data type, a single character is simply a string with a length of 1. Square brackets can be used to access elements of the string."
   ]
  },
  {
   "cell_type": "code",
   "execution_count": 14,
   "id": "ef189954",
   "metadata": {},
   "outputs": [
    {
     "name": "stdout",
     "output_type": "stream",
     "text": [
      "First character:  T\n",
      "Last character:  e\n",
      "But also this:  e\n"
     ]
    }
   ],
   "source": [
    "#We can index them:\n",
    "a=\"This is an example of a String variable\"\n",
    "print(\"First character: \",a[0])\n",
    "print(\"Last character: \",a[38])\n",
    "print(\"But also this: \",a[-1])"
   ]
  },
  {
   "cell_type": "code",
   "execution_count": 16,
   "id": "6991e2cd",
   "metadata": {},
   "outputs": [
    {
     "name": "stdout",
     "output_type": "stream",
     "text": [
      "39\n",
      "Last character:  e\n"
     ]
    }
   ],
   "source": [
    "# We can use length function (len):\n",
    "print(len(a))\n",
    "print(\"Last character: \",a[len(a) -1]) #remember that fist position is 0"
   ]
  },
  {
   "cell_type": "markdown",
   "id": "71f3409f",
   "metadata": {},
   "source": [
    "## 5.4 We can slice them"
   ]
  },
  {
   "cell_type": "code",
   "execution_count": 38,
   "id": "2fb6dc68",
   "metadata": {},
   "outputs": [
    {
     "name": "stdout",
     "output_type": "stream",
     "text": [
      "01/01/2019 18:45:00\n",
      "01/01/2019 18:45:00\n",
      "Reboot of main controller\n",
      "Heavy\n",
      "Shutdown\n"
     ]
    }
   ],
   "source": [
    "a=\"01/01/2019 18:45:00 MSG: Reboot of main controller SEVERITY: Heavy ACTION: Shutdown\"\n",
    "timestamp=a[:19]\n",
    "timestamp2=a[0:19] #0 is not required\n",
    "msg=a[25:50]\n",
    "severity=a[61:66]\n",
    "action=a[75:]\n",
    "print(timestamp)\n",
    "print(timestamp2)\n",
    "print(msg)\n",
    "print(severity)\n",
    "print(action)"
   ]
  },
  {
   "cell_type": "code",
   "execution_count": 39,
   "id": "d8730696",
   "metadata": {},
   "outputs": [
    {
     "name": "stdout",
     "output_type": "stream",
     "text": [
      "own\n"
     ]
    }
   ],
   "source": [
    "# Use negative indexes to start the slice from the end of the string\n",
    "test=a[-3:len(a)]\n",
    "print(test)"
   ]
  },
  {
   "cell_type": "code",
   "execution_count": 40,
   "id": "573375f8",
   "metadata": {},
   "outputs": [
    {
     "name": "stdout",
     "output_type": "stream",
     "text": [
      "ow\n"
     ]
    }
   ],
   "source": [
    "test2=a[-3:-1]\n",
    "print(test2)"
   ]
  },
  {
   "cell_type": "code",
   "execution_count": 28,
   "id": "8e4fe7d6",
   "metadata": {},
   "outputs": [
    {
     "name": "stdout",
     "output_type": "stream",
     "text": [
      "\n"
     ]
    }
   ],
   "source": [
    "test3=a[-1:-7]\n",
    "print(test3)"
   ]
  },
  {
   "cell_type": "markdown",
   "id": "85c8dd8f",
   "metadata": {},
   "source": [
    "## 5.5 But they are not mutable"
   ]
  },
  {
   "cell_type": "code",
   "execution_count": 29,
   "id": "9d350168",
   "metadata": {},
   "outputs": [
    {
     "ename": "TypeError",
     "evalue": "'str' object does not support item assignment",
     "output_type": "error",
     "traceback": [
      "\u001b[1;31m---------------------------------------------------------------------------\u001b[0m",
      "\u001b[1;31mTypeError\u001b[0m                                 Traceback (most recent call last)",
      "\u001b[1;32m<ipython-input-29-75fa0cb1f1c0>\u001b[0m in \u001b[0;36m<module>\u001b[1;34m\u001b[0m\n\u001b[0;32m      1\u001b[0m \u001b[0ma\u001b[0m\u001b[1;33m=\u001b[0m\u001b[1;34m\"Short String\"\u001b[0m\u001b[1;33m\u001b[0m\u001b[1;33m\u001b[0m\u001b[0m\n\u001b[1;32m----> 2\u001b[1;33m \u001b[0ma\u001b[0m\u001b[1;33m[\u001b[0m\u001b[1;36m7\u001b[0m\u001b[1;33m]\u001b[0m\u001b[1;33m=\u001b[0m\u001b[1;34m\"T\"\u001b[0m\u001b[1;33m\u001b[0m\u001b[1;33m\u001b[0m\u001b[0m\n\u001b[0m\u001b[0;32m      3\u001b[0m \u001b[0mprint\u001b[0m\u001b[1;33m(\u001b[0m\u001b[0ma\u001b[0m\u001b[1;33m)\u001b[0m\u001b[1;33m\u001b[0m\u001b[1;33m\u001b[0m\u001b[0m\n",
      "\u001b[1;31mTypeError\u001b[0m: 'str' object does not support item assignment"
     ]
    }
   ],
   "source": [
    "a=\"Short String\"\n",
    "a[7]=\"T\"\n",
    "print(a)"
   ]
  },
  {
   "cell_type": "code",
   "execution_count": 30,
   "id": "806f8c7a",
   "metadata": {},
   "outputs": [
    {
     "name": "stdout",
     "output_type": "stream",
     "text": [
      "Short String\n",
      "Short STring\n"
     ]
    }
   ],
   "source": [
    "a=\"Short String\"\n",
    "print(a)\n",
    "a=\"Short STring\"\n",
    "print(a)"
   ]
  },
  {
   "cell_type": "code",
   "execution_count": 33,
   "id": "06764515",
   "metadata": {},
   "outputs": [
    {
     "name": "stdout",
     "output_type": "stream",
     "text": [
      "Short String\n",
      "Short STring\n"
     ]
    }
   ],
   "source": [
    "a=\"Short String\"\n",
    "print(a)\n",
    "\n",
    "b=a[:7]+\"T\"+ a[8:len(a)]\n",
    "print(b)\n",
    "\n"
   ]
  },
  {
   "cell_type": "markdown",
   "id": "218e8a37",
   "metadata": {},
   "source": [
    "## 5.7 We use addition operator to concatenate"
   ]
  },
  {
   "cell_type": "code",
   "execution_count": 11,
   "id": "219f011a",
   "metadata": {},
   "outputs": [
    {
     "name": "stdout",
     "output_type": "stream",
     "text": [
      "This is the begining of the sentence and this is the end of the sentence\n"
     ]
    }
   ],
   "source": [
    "a=\"This is the begining of the sentence\"\n",
    "b=\"and this is the end of the sentence\"\n",
    "print(a+\" \"+b)"
   ]
  },
  {
   "cell_type": "markdown",
   "id": "199e37c7",
   "metadata": {},
   "source": [
    "## 5.8 We can compare them"
   ]
  },
  {
   "cell_type": "code",
   "execution_count": 34,
   "id": "f63d08a9",
   "metadata": {},
   "outputs": [
    {
     "name": "stdout",
     "output_type": "stream",
     "text": [
      "watermelon larger than waterloo: True\n",
      "watermelon smaller than waterworld: True\n"
     ]
    }
   ],
   "source": [
    "a=\"watermelon\"\n",
    "b=\"waterloo\"\n",
    "c=\"waterworld\"\n",
    "print(\"watermelon larger than waterloo:\",a>b)\n",
    "print(\"watermelon smaller than waterworld:\",a<c)"
   ]
  },
  {
   "cell_type": "markdown",
   "id": "8249eb46",
   "metadata": {},
   "source": [
    "## 5.9 We can search and check inside the strings"
   ]
  },
  {
   "cell_type": "code",
   "execution_count": 35,
   "id": "ba97686a",
   "metadata": {},
   "outputs": [
    {
     "name": "stdout",
     "output_type": "stream",
     "text": [
      "20\n",
      "51\n",
      "MSG: Reboot of main controller \n"
     ]
    }
   ],
   "source": [
    "log=\"01/01/2019 18:45:00 MSG: Reboot of main controller SEVERITY: Heavy ACTION: Shutdown\"\n",
    "start=log.find(\"MSG\")\n",
    "end=log.find(\"SEVERITY\")\n",
    "print(start)\n",
    "print(end)\n",
    "print(log[start:end])\n"
   ]
  },
  {
   "cell_type": "code",
   "execution_count": 23,
   "id": "eb3758c1",
   "metadata": {},
   "outputs": [
    {
     "data": {
      "text/plain": [
       "-1"
      ]
     },
     "execution_count": 23,
     "metadata": {},
     "output_type": "execute_result"
    }
   ],
   "source": [
    "sentence= \"It is a very nice place\"\n",
    "sentence.find(\"day\")\n"
   ]
  },
  {
   "cell_type": "code",
   "execution_count": 24,
   "id": "0f9299c7",
   "metadata": {},
   "outputs": [
    {
     "data": {
      "text/plain": [
       "13"
      ]
     },
     "execution_count": 24,
     "metadata": {},
     "output_type": "execute_result"
    }
   ],
   "source": [
    "sentence.find(\"nice\")"
   ]
  },
  {
   "cell_type": "code",
   "execution_count": 25,
   "id": "44d3fbff",
   "metadata": {},
   "outputs": [
    {
     "name": "stdout",
     "output_type": "stream",
     "text": [
      "True\n",
      "False\n",
      "False\n",
      "True\n"
     ]
    }
   ],
   "source": [
    "# To check if a certain phrase or character is present in a string, we can use the keyword in. We can also use not in.\n",
    "\n",
    "txt = \"The best things in life are free!\"\n",
    "print(\"free\" in txt)\n",
    "print(\"huge\" in txt)\n",
    "\n",
    "print(\"free\" not in txt)\n",
    "print(\"huge\" not in txt)"
   ]
  },
  {
   "cell_type": "markdown",
   "id": "e3960332",
   "metadata": {},
   "source": [
    "## 5.10 Python string methods:\n",
    "Python has a set of built-in methods that you can use on strings.    \n",
    "Check for additional info:   \n",
    "    <https://www.w3schools.com/python/python_ref_string.asp>     \n",
    "    <https://docs.python.org/3.5/library/stdtypes.html#string-methods>\n"
   ]
  },
  {
   "cell_type": "code",
   "execution_count": 42,
   "id": "81617b69",
   "metadata": {},
   "outputs": [
    {
     "name": "stdout",
     "output_type": "stream",
     "text": [
      "01/01/2019 18:45:00 MSG: Reboot of main controller SEVERITY: Heavy ACTION: Shutdown\n",
      "01/01/2019 18:45:00 MSG: REBOOT OF MAIN CONTROLLER SEVERITY: HEAVY ACTION: SHUTDOWN\n",
      "01/01/2019 18:45:00 msg: reboot of main controller severity: heavy action: shutdown\n"
     ]
    }
   ],
   "source": [
    "log=\"01/01/2019 18:45:00 MSG: Reboot of main controller SEVERITY: Heavy ACTION: Shutdown\"\n",
    "\n",
    "print(log)\n",
    "print(log.upper())\n",
    "print(log.lower())"
   ]
  },
  {
   "cell_type": "code",
   "execution_count": 43,
   "id": "14babd33",
   "metadata": {},
   "outputs": [
    {
     "name": "stdout",
     "output_type": "stream",
     "text": [
      "MSG\n",
      "Upper:  True\n",
      "Is alphanumeric:  True\n",
      "Is numeric:  False\n",
      "Is alphabetic:  True\n",
      "Is space:  False\n"
     ]
    }
   ],
   "source": [
    "key=log[20:23]\n",
    "print(key)\n",
    "print(\"Upper: \",key.isupper())\n",
    "print(\"Is alphanumeric: \",key.isalnum())\n",
    "print(\"Is numeric: \",key.isdigit())\n",
    "print(\"Is alphabetic: \",key.isalpha())\n",
    "print(\"Is space: \",key.isspace())"
   ]
  },
  {
   "cell_type": "code",
   "execution_count": null,
   "id": "47e17712",
   "metadata": {},
   "outputs": [],
   "source": [
    "#we will check again in the list chapter\n",
    "line=\"Agueda|25|Madrid|Student|Single|A\"\n",
    "elements=line.split(\"|\")\n",
    "print(elements)\n",
    "name=elements[0]\n",
    "age=elements[1]\n",
    "city=elements[2]\n",
    "job=elements[3]\n",
    "martial=elements[4]\n",
    "driving=elements[5]\n",
    "print(\"{0} {1} years old lives in {2} as {3} with driving licence {4}\".format(name,age,city,job,driving))"
   ]
  },
  {
   "cell_type": "code",
   "execution_count": 44,
   "id": "8927fda1",
   "metadata": {},
   "outputs": [
    {
     "name": "stdout",
     "output_type": "stream",
     "text": [
      "<class 'list'>\n",
      "Madrid,Berlin,London,Paris,Rome\n",
      "Madrid - Berlin - London - Paris - Rome\n",
      "Madrid * Berlin * London * Paris * Rome\n"
     ]
    }
   ],
   "source": [
    "list1=[\"Madrid\",\"Berlin\",\"London\",\"Paris\",\"Rome\"]\n",
    "print(type(list1))\n",
    "print(\",\".join(list1))\n",
    "print(\" - \".join(list1))\n",
    "print(\" * \".join(list1))"
   ]
  },
  {
   "cell_type": "markdown",
   "id": "92735380",
   "metadata": {},
   "source": [
    "## 5.11 Formatting a string\n",
    "\n",
    "Python has several different ways of formatting strings. Simple positional formatting is probably the most common use-case. Use it if the order of your arguments is not likely to change and you only have very few elements you want to concatenate. Since the elements are not represented by something as descriptive as a name this simple style should only be used to format a relatively small number of elements\n",
    "\n",
    "<https://docs.python.org/3/library/string.html#string-formatting>"
   ]
  },
  {
   "cell_type": "code",
   "execution_count": 45,
   "id": "42ca675d",
   "metadata": {},
   "outputs": [
    {
     "ename": "TypeError",
     "evalue": "can only concatenate str (not \"int\") to str",
     "output_type": "error",
     "traceback": [
      "\u001b[1;31m---------------------------------------------------------------------------\u001b[0m",
      "\u001b[1;31mTypeError\u001b[0m                                 Traceback (most recent call last)",
      "\u001b[1;32m<ipython-input-45-465591e3901a>\u001b[0m in \u001b[0;36m<module>\u001b[1;34m\u001b[0m\n\u001b[0;32m      1\u001b[0m \u001b[1;31m# As we learned in the Python Variables chapter, we CANNOT combine strings and numbers like this\u001b[0m\u001b[1;33m\u001b[0m\u001b[1;33m\u001b[0m\u001b[1;33m\u001b[0m\u001b[0m\n\u001b[0;32m      2\u001b[0m \u001b[0mage\u001b[0m \u001b[1;33m=\u001b[0m \u001b[1;36m36\u001b[0m\u001b[1;33m\u001b[0m\u001b[1;33m\u001b[0m\u001b[0m\n\u001b[1;32m----> 3\u001b[1;33m \u001b[0mtxt\u001b[0m \u001b[1;33m=\u001b[0m \u001b[1;34m\"My name is John, I am \"\u001b[0m \u001b[1;33m+\u001b[0m \u001b[0mage\u001b[0m\u001b[1;33m\u001b[0m\u001b[1;33m\u001b[0m\u001b[0m\n\u001b[0m\u001b[0;32m      4\u001b[0m \u001b[0mprint\u001b[0m\u001b[1;33m(\u001b[0m\u001b[0mtxt\u001b[0m\u001b[1;33m)\u001b[0m\u001b[1;33m\u001b[0m\u001b[1;33m\u001b[0m\u001b[0m\n",
      "\u001b[1;31mTypeError\u001b[0m: can only concatenate str (not \"int\") to str"
     ]
    }
   ],
   "source": [
    "# As we learned in the Python Variables chapter, we CANNOT combine strings and numbers like this\n",
    "age = 36\n",
    "txt = \"My name is John, I am \" + age\n",
    "print(txt)"
   ]
  },
  {
   "cell_type": "code",
   "execution_count": 46,
   "id": "74e9d252",
   "metadata": {},
   "outputs": [
    {
     "name": "stdout",
     "output_type": "stream",
     "text": [
      "My name is John, I am 36\n"
     ]
    }
   ],
   "source": [
    "#It is true that we can use str buit-in python function\n",
    "\n",
    "txt = \"My name is John, I am \" + str(age)\n",
    "print(txt)"
   ]
  },
  {
   "cell_type": "markdown",
   "id": "ac7bfc72",
   "metadata": {},
   "source": [
    "### 5.11.1 Old Style/pre-Python 2.6\n",
    "The old style uses '' % <tuple> as follows\n"
   ]
  },
  {
   "cell_type": "code",
   "execution_count": 49,
   "id": "8ac13573",
   "metadata": {},
   "outputs": [
    {
     "data": {
      "text/plain": [
       "'one two'"
      ]
     },
     "execution_count": 49,
     "metadata": {},
     "output_type": "execute_result"
    }
   ],
   "source": [
    "'%s %s' % ('one', 'two') # Returns 'one two'"
   ]
  },
  {
   "cell_type": "code",
   "execution_count": 50,
   "id": "d18d2f48",
   "metadata": {},
   "outputs": [
    {
     "data": {
      "text/plain": [
       "'1 2'"
      ]
     },
     "execution_count": 50,
     "metadata": {},
     "output_type": "execute_result"
    }
   ],
   "source": [
    "'%d %d' % (1, 2)         # Returns '1 2'"
   ]
  },
  {
   "cell_type": "code",
   "execution_count": 51,
   "id": "71acf5a2",
   "metadata": {},
   "outputs": [
    {
     "name": "stdout",
     "output_type": "stream",
     "text": [
      "My name is Carlos and I have 3 brothers and 1 sister\n"
     ]
    }
   ],
   "source": [
    "name=  \"Carlos\"\n",
    "brothers=3\n",
    "\n",
    "print(\"My name is %s and I have %d brothers and %d sister\" %(name, brothers,1))"
   ]
  },
  {
   "cell_type": "markdown",
   "id": "587e4da5",
   "metadata": {},
   "source": [
    "### 5.11.2 New Style/Python 2.6\n",
    "The new style uses ''.format() as follows\n",
    "\n",
    "    \n",
    "\n",
    "![Image](ImagesNotebook1/format.JPG)"
   ]
  },
  {
   "cell_type": "code",
   "execution_count": 52,
   "id": "6d3d7a32",
   "metadata": {},
   "outputs": [
    {
     "data": {
      "text/plain": [
       "'one two'"
      ]
     },
     "execution_count": 52,
     "metadata": {},
     "output_type": "execute_result"
    }
   ],
   "source": [
    "'{} {}'.format('one', 'two') # Returns 'one two'"
   ]
  },
  {
   "cell_type": "code",
   "execution_count": 53,
   "id": "56a93a16",
   "metadata": {},
   "outputs": [
    {
     "data": {
      "text/plain": [
       "'1 2'"
      ]
     },
     "execution_count": 53,
     "metadata": {},
     "output_type": "execute_result"
    }
   ],
   "source": [
    "'{} {}'.format(1, 2)         # Returns '1 2'"
   ]
  },
  {
   "cell_type": "code",
   "execution_count": 54,
   "id": "73398bb9",
   "metadata": {},
   "outputs": [
    {
     "name": "stdout",
     "output_type": "stream",
     "text": [
      "My name is Carlos and I have 3 brothers and 1 sister\n"
     ]
    }
   ],
   "source": [
    "print(\"My name is {} and I have {} brothers and {} sister\".format(name, brothers,1))"
   ]
  },
  {
   "cell_type": "code",
   "execution_count": 56,
   "id": "4eb41830",
   "metadata": {},
   "outputs": [
    {
     "name": "stdout",
     "output_type": "stream",
     "text": [
      "My name is Carlos and I have 3 brothers and 1 sister\n"
     ]
    }
   ],
   "source": [
    "#We can change the order of the variables. The first one is the 0\n",
    "print(\"My name is {1} and I have {2} brothers and {0} sister\".format(1,name, brothers))"
   ]
  },
  {
   "cell_type": "markdown",
   "id": "7f2041a1",
   "metadata": {},
   "source": [
    "You can also use keyword arguments instead of positional parameters to produce the same result. This is called keyword arguments."
   ]
  },
  {
   "cell_type": "code",
   "execution_count": 3,
   "id": "4d72d749",
   "metadata": {},
   "outputs": [
    {
     "name": "stdout",
     "output_type": "stream",
     "text": [
      "I have 2 cars\n"
     ]
    }
   ],
   "source": [
    "print(\"I have {quantity} {item}\".format(quantity=2, item='cars'))"
   ]
  },
  {
   "cell_type": "code",
   "execution_count": 4,
   "id": "fa7eef2a",
   "metadata": {},
   "outputs": [
    {
     "name": "stdout",
     "output_type": "stream",
     "text": [
      "I want 3 pieces of item 567 for 49.95 dollars.\n"
     ]
    }
   ],
   "source": [
    "#Alternative\n",
    "quantity = 3\n",
    "itemno = 567\n",
    "price = 49.95\n",
    "myorder = \"I want {} pieces of item {} for {} dollars.\"\n",
    "print(myorder.format(quantity, itemno, price))"
   ]
  },
  {
   "cell_type": "markdown",
   "id": "c010a9b9",
   "metadata": {},
   "source": [
    "### 5.11.3 F-strings\n",
    "Starting Python 3.6, you can also format strings using f-string literals"
   ]
  },
  {
   "cell_type": "code",
   "execution_count": 6,
   "id": "ccd16593",
   "metadata": {},
   "outputs": [
    {
     "data": {
      "text/plain": [
       "'He said his name is Carlos.'"
      ]
     },
     "execution_count": 6,
     "metadata": {},
     "output_type": "execute_result"
    }
   ],
   "source": [
    "name = \"Carlos\"\n",
    "f\"He said his name is {name}.\"   \n"
   ]
  },
  {
   "cell_type": "code",
   "execution_count": 7,
   "id": "27b1b304",
   "metadata": {},
   "outputs": [
    {
     "data": {
      "text/plain": [
       "'Carlos is 6 characters long.'"
      ]
     },
     "execution_count": 7,
     "metadata": {},
     "output_type": "execute_result"
    }
   ],
   "source": [
    "# You can basically put any Python statement inside the braces and it will be output in the string.\n",
    "f\"{name} is {len(name)} characters long.\" "
   ]
  },
  {
   "cell_type": "markdown",
   "id": "4d7f17ab",
   "metadata": {},
   "source": [
    "### 5.11.4 Padding and Aligning Strings\n",
    "By default, values are formatted to take up only as many characters as needed to represent the content. It is however also possible to define that a value should be padded to a specific length.\n",
    "\n",
    "Unfortunately the default alignment differs between old and new style formatting. The old style defaults to right aligned while the new style is left aligned."
   ]
  },
  {
   "cell_type": "code",
   "execution_count": 9,
   "id": "23b705b7",
   "metadata": {},
   "outputs": [
    {
     "data": {
      "text/plain": [
       "'      test'"
      ]
     },
     "execution_count": 9,
     "metadata": {},
     "output_type": "execute_result"
    }
   ],
   "source": [
    "#To align text right:\n",
    "'%10s' % ('test',)      \n"
   ]
  },
  {
   "cell_type": "code",
   "execution_count": 10,
   "id": "33b093c0",
   "metadata": {},
   "outputs": [
    {
     "data": {
      "text/plain": [
       "'      test'"
      ]
     },
     "execution_count": 10,
     "metadata": {},
     "output_type": "execute_result"
    }
   ],
   "source": [
    "'{:>10}'.format('test') "
   ]
  },
  {
   "cell_type": "code",
   "execution_count": 11,
   "id": "377a409e",
   "metadata": {},
   "outputs": [
    {
     "data": {
      "text/plain": [
       "'test      '"
      ]
     },
     "execution_count": 11,
     "metadata": {},
     "output_type": "execute_result"
    }
   ],
   "source": [
    "#To align text left\n",
    "'%-10s' % ('test',)     # Returns \"test      \""
   ]
  },
  {
   "cell_type": "code",
   "execution_count": 12,
   "id": "f59cd0a1",
   "metadata": {},
   "outputs": [
    {
     "data": {
      "text/plain": [
       "'test      '"
      ]
     },
     "execution_count": 12,
     "metadata": {},
     "output_type": "execute_result"
    }
   ],
   "source": [
    "'{:10}'.format('test')  # Returns \"test      \" "
   ]
  },
  {
   "cell_type": "code",
   "execution_count": 13,
   "id": "8704a429",
   "metadata": {},
   "outputs": [
    {
     "data": {
      "text/plain": [
       "'test      '"
      ]
     },
     "execution_count": 13,
     "metadata": {},
     "output_type": "execute_result"
    }
   ],
   "source": [
    "'{:<10}'.format('test') # Returns \"test"
   ]
  },
  {
   "cell_type": "markdown",
   "id": "4c4b58f8",
   "metadata": {},
   "source": [
    "The new style formatting surpasses the old variant by providing more control over how values are padded and aligned. You are able to choose the padding character and override the default space character for padding. This operation is not available with old-style formatting"
   ]
  },
  {
   "cell_type": "code",
   "execution_count": 14,
   "id": "bf828987",
   "metadata": {},
   "outputs": [
    {
     "data": {
      "text/plain": [
       "'test______'"
      ]
     },
     "execution_count": 14,
     "metadata": {},
     "output_type": "execute_result"
    }
   ],
   "source": [
    "'{:_<10}'.format('test') # Returns \"test______\""
   ]
  },
  {
   "cell_type": "code",
   "execution_count": 15,
   "id": "4bd69513",
   "metadata": {},
   "outputs": [
    {
     "data": {
      "text/plain": [
       "'test000000'"
      ]
     },
     "execution_count": 15,
     "metadata": {},
     "output_type": "execute_result"
    }
   ],
   "source": [
    "'{:0<10}'.format('test') # Returns \"test000000\""
   ]
  },
  {
   "cell_type": "markdown",
   "id": "ddcf3bdc",
   "metadata": {},
   "source": [
    "And also center align values. This operation is not available with old-style formatting.\n",
    "When using center alignment where the length of the string leads to an uneven split of the padding characters the extra character will be placed on the right side. This operation is not available with old-style formatting."
   ]
  },
  {
   "cell_type": "code",
   "execution_count": 16,
   "id": "b507e8a5",
   "metadata": {},
   "outputs": [
    {
     "data": {
      "text/plain": [
       "'   test   '"
      ]
     },
     "execution_count": 16,
     "metadata": {},
     "output_type": "execute_result"
    }
   ],
   "source": [
    "'{:^10}'.format('test') # Returns \"   test   \""
   ]
  },
  {
   "cell_type": "code",
   "execution_count": 17,
   "id": "431f192e",
   "metadata": {},
   "outputs": [
    {
     "data": {
      "text/plain": [
       "' zip  '"
      ]
     },
     "execution_count": 17,
     "metadata": {},
     "output_type": "execute_result"
    }
   ],
   "source": [
    "'{:^6}'.format('zip') # Returns \" zip  \""
   ]
  },
  {
   "cell_type": "markdown",
   "id": "146c63a0",
   "metadata": {},
   "source": [
    "f-strings can also be formatted similarly:"
   ]
  },
  {
   "cell_type": "code",
   "execution_count": 20,
   "id": "c1d1f5cc",
   "metadata": {},
   "outputs": [
    {
     "name": "stdout",
     "output_type": "stream",
     "text": [
      "         a\n",
      "        ab\n",
      "       abc\n",
      "      abcd\n"
     ]
    }
   ],
   "source": [
    "s1 = 'a'\n",
    "s2 = 'ab'\n",
    "s3 = 'abc'\n",
    "s4 = 'abcd'\n",
    "print(f'{s1:>10}') # Prints          a\n",
    "print(f'{s2:>10}') # Prints         ab\n",
    "print(f'{s3:>10}') # Prints        abc\n",
    "print(f'{s4:>10}') # Prints       abcd"
   ]
  },
  {
   "cell_type": "markdown",
   "id": "a94747d4",
   "metadata": {},
   "source": [
    "### 5.11.5 Truncating Long Strings\n",
    "\n",
    "It is also possible to truncate overly long values to a specific number of characters. The number behind the . in the format specifies the precision of the output. For strings that means that the output is truncated to the specified length. In our example this would be 5 characters."
   ]
  },
  {
   "cell_type": "code",
   "execution_count": 24,
   "id": "cfe6307f",
   "metadata": {},
   "outputs": [
    {
     "name": "stdout",
     "output_type": "stream",
     "text": [
      "United States of America\n",
      "United States of America\n",
      "United States of America\n",
      "Uni\n",
      "United \n",
      "Unite     \n",
      "Unite     \n"
     ]
    }
   ],
   "source": [
    "country=\"United States of America\"\n",
    "\n",
    "print(country)\n",
    "print(\"{}\".format(country))\n",
    "print(\"%s\" %(country))\n",
    "\n",
    "print(\"%.3s\" %(country))\n",
    "print(\"{:.7}\".format(country))\n",
    "\n",
    "#Combining Truncating and Padding\n",
    "print(\"%-10.5s\" %(country))\n",
    "print(\"{:10.5}\".format(country))\n",
    "\n",
    "\n",
    "\n"
   ]
  },
  {
   "cell_type": "markdown",
   "id": "aca83e8b",
   "metadata": {},
   "source": [
    "### 5.11.6 Of course it is also possible to format numbers"
   ]
  },
  {
   "cell_type": "code",
   "execution_count": 9,
   "id": "46e1d6d7",
   "metadata": {},
   "outputs": [
    {
     "name": "stdout",
     "output_type": "stream",
     "text": [
      "Number one is 53 and  number two is 3.141592\n",
      "Number one is 53 and  number two is 3.141592\n",
      "Number one is   53 and  number two is 3.14\n",
      "Number one is   53 and  number two is 3.14\n",
      "Number one is 0053 and  number two is 003.14\n",
      "Number one is 0053 and  number two is 003.14\n"
     ]
    }
   ],
   "source": [
    "num1=53\n",
    "num2=3.141592\n",
    "\n",
    "print(\"Number one is {:d} and  number two is {:f}\".format(num1,num2))\n",
    "print(\"Number one is %d and  number two is %f\" %(num1,num2))\n",
    "\n",
    "print(\"Number one is {:4d} and  number two is {:3.2f}\".format(num1,num2))\n",
    "print(\"Number one is %4d and  number two is %3.2f\" %(num1,num2))\n",
    "\n",
    "print(\"Number one is {:04d} and  number two is {:06.2f}\".format(num1,num2))\n",
    "print(\"Number one is %04d and  number two is %06.2f\" %(num1,num2))\n"
   ]
  },
  {
   "cell_type": "code",
   "execution_count": 10,
   "id": "1a3cab41",
   "metadata": {},
   "outputs": [
    {
     "data": {
      "text/plain": [
       "'+3.140000; -3.140000'"
      ]
     },
     "execution_count": 10,
     "metadata": {},
     "output_type": "execute_result"
    }
   ],
   "source": [
    "#Show sign allways\n",
    "'{:+f}; {:+f}'.format(3.14, -3.14) # Returns \"+3.140000; -3.140000\""
   ]
  },
  {
   "cell_type": "code",
   "execution_count": 11,
   "id": "04ed0cf7",
   "metadata": {},
   "outputs": [
    {
     "data": {
      "text/plain": [
       "' 3.140000; -3.140000'"
      ]
     },
     "execution_count": 11,
     "metadata": {},
     "output_type": "execute_result"
    }
   ],
   "source": [
    "#Show space for positive and sign for negative\n",
    "'{: f}; {: f}'.format(3.14, -3.14) # Returns \" 3.140000; -3.140000\""
   ]
  },
  {
   "cell_type": "code",
   "execution_count": 12,
   "id": "a455bd6c",
   "metadata": {},
   "outputs": [
    {
     "data": {
      "text/plain": [
       "'3.140000; -3.140000'"
      ]
     },
     "execution_count": 12,
     "metadata": {},
     "output_type": "execute_result"
    }
   ],
   "source": [
    "#Show only the minus – same as {:f}; {:f}\n",
    "'{:-f}; {:-f}'.format(3.14, -3.14) # Returns \"3.140000; -3.140000\""
   ]
  },
  {
   "cell_type": "code",
   "execution_count": null,
   "id": "6638be5b",
   "metadata": {},
   "outputs": [],
   "source": [
    "#Same works with integers"
   ]
  },
  {
   "cell_type": "code",
   "execution_count": 14,
   "id": "c0975acb",
   "metadata": {},
   "outputs": [
    {
     "data": {
      "text/plain": [
       "'int: 42;  hex: 2a;  oct: 52;  bin: 101010'"
      ]
     },
     "execution_count": 14,
     "metadata": {},
     "output_type": "execute_result"
    }
   ],
   "source": [
    "#changing the base\n",
    "# Returns \"int: 42;  hex: 2a;  oct: 52;  bin: 101010'\"\n",
    "\"int: {0:d};  hex: {0:x};  oct: {0:o};  bin: {0:b}\".format(42) "
   ]
  },
  {
   "cell_type": "code",
   "execution_count": 15,
   "id": "ea33c3dc",
   "metadata": {},
   "outputs": [
    {
     "data": {
      "text/plain": [
       "'int: 42;  hex: 0x2a;  oct: 0o52;  bin: 0b101010'"
      ]
     },
     "execution_count": 15,
     "metadata": {},
     "output_type": "execute_result"
    }
   ],
   "source": [
    "#including prefix\n",
    "# Returns \"int: 42;  hex: 0x2a;  oct: 0o52;  bin: 0b101010\"\n",
    "\"int: {0:d};  hex: {0:#x};  oct: {0:#o};  bin: {0:#b}\".format(42) \n",
    "\n"
   ]
  },
  {
   "cell_type": "code",
   "execution_count": 16,
   "id": "bc4bbb8a",
   "metadata": {},
   "outputs": [
    {
     "data": {
      "text/plain": [
       "'2022-05-03 14:26:35'"
      ]
     },
     "execution_count": 16,
     "metadata": {},
     "output_type": "execute_result"
    }
   ],
   "source": [
    "#using type-specific formtas:\n",
    "import datetime\n",
    "d = datetime.datetime(2022, 5, 3, 14, 26, 35)\n",
    "'{:%Y-%m-%d %H:%M:%S}'.format(d) "
   ]
  },
  {
   "cell_type": "code",
   "execution_count": 17,
   "id": "1fb0a4c0",
   "metadata": {},
   "outputs": [
    {
     "data": {
      "text/plain": [
       "'1,234,567,890'"
      ]
     },
     "execution_count": 17,
     "metadata": {},
     "output_type": "execute_result"
    }
   ],
   "source": [
    "#Use comma as thousand separator\n",
    "'{:,}'.format(1234567890) # Returns \"1,234,567,890\""
   ]
  },
  {
   "cell_type": "code",
   "execution_count": 21,
   "id": "bf038d95",
   "metadata": {},
   "outputs": [
    {
     "data": {
      "text/plain": [
       "'Correct answers: 12.50%'"
      ]
     },
     "execution_count": 21,
     "metadata": {},
     "output_type": "execute_result"
    }
   ],
   "source": [
    "# Showing percentage\n",
    "correct = 4\n",
    "total = 32\n",
    "'Correct answers: {:.2%}'.format(correct/total)"
   ]
  },
  {
   "cell_type": "markdown",
   "id": "949b4bfd",
   "metadata": {},
   "source": [
    "# 6 Input and Output"
   ]
  },
  {
   "cell_type": "markdown",
   "id": "c43ecb94",
   "metadata": {},
   "source": [
    "## 6.1 Output"
   ]
  },
  {
   "cell_type": "code",
   "execution_count": 26,
   "id": "4547a59f",
   "metadata": {},
   "outputs": [
    {
     "name": "stdout",
     "output_type": "stream",
     "text": [
      "Writing this sentence\n",
      "this is other sentence\n"
     ]
    }
   ],
   "source": [
    "# We  have already seen that for output we use print function\n",
    "\n",
    "print(\"Writing this sentence\")\n",
    "print(\"this is other sentence\")"
   ]
  },
  {
   "cell_type": "code",
   "execution_count": 27,
   "id": "964878fe",
   "metadata": {},
   "outputs": [
    {
     "name": "stdout",
     "output_type": "stream",
     "text": [
      "Writing this sentencethis is other sentence\n"
     ]
    }
   ],
   "source": [
    "# By default, the print function also prints out a newline at the end. \n",
    "# Override the optional argument end to modify this behavior:\n",
    "print(\"Writing this sentence\", end='')\n",
    "print(\"this is other sentence\")"
   ]
  },
  {
   "cell_type": "code",
   "execution_count": 28,
   "id": "8b553716",
   "metadata": {},
   "outputs": [
    {
     "name": "stdout",
     "output_type": "stream",
     "text": [
      "Writing this sentence***this is other sentence\n"
     ]
    }
   ],
   "source": [
    "print(\"Writing this sentence\", end='***')\n",
    "print(\"this is other sentence\")"
   ]
  },
  {
   "cell_type": "markdown",
   "id": "85ec55fa",
   "metadata": {},
   "source": [
    "## 6.2 Input"
   ]
  },
  {
   "cell_type": "code",
   "execution_count": 34,
   "id": "dbe66434",
   "metadata": {},
   "outputs": [
    {
     "name": "stdout",
     "output_type": "stream",
     "text": [
      "Enter some data: hello world\n"
     ]
    }
   ],
   "source": [
    "# Python offers a simple way to get input data from console:\n",
    "input_string_var = input(\"Enter some data: \") # Returns the data as a string"
   ]
  },
  {
   "cell_type": "code",
   "execution_count": 35,
   "id": "a0583b95",
   "metadata": {},
   "outputs": [
    {
     "data": {
      "text/plain": [
       "'hello world'"
      ]
     },
     "execution_count": 35,
     "metadata": {},
     "output_type": "execute_result"
    }
   ],
   "source": [
    "input_string_var "
   ]
  },
  {
   "cell_type": "code",
   "execution_count": 33,
   "id": "be48318d",
   "metadata": {},
   "outputs": [
    {
     "name": "stdout",
     "output_type": "stream",
     "text": [
      "Introduce tu nombre Carlos\n",
      "Introduce efectivo disponible: 12.45\n",
      "Carlos tiene un efectivo de 12.45 \n",
      "Carlos tiene un efectivo de 12.45\n",
      "Carlos tiene un efectivo de 12.45\n"
     ]
    }
   ],
   "source": [
    "#IMPORTANT! : If we want to read a variable that is nor a string we need to use casting also\n",
    "\n",
    "nombre = input(\"Introduce tu nombre \")\n",
    "efectivo = float(input(\"Introduce efectivo disponible: \"))\n",
    "\n",
    "print(\"{0} tiene un efectivo de {1} \".format(nombre, efectivo))\n",
    "\n",
    "print(nombre, \"tiene un efectivo de\",efectivo) # no hay espacio después del \"de\"\n",
    "\n",
    "mensaje = nombre +  \" tiene un efectivo de \"+ str(efectivo)\n",
    "print(mensaje)\n"
   ]
  },
  {
   "cell_type": "markdown",
   "id": "8d1b0f31",
   "metadata": {},
   "source": [
    "# END of Notebook 2"
   ]
  }
 ],
 "metadata": {
  "kernelspec": {
   "display_name": "Python 3",
   "language": "python",
   "name": "python3"
  },
  "language_info": {
   "codemirror_mode": {
    "name": "ipython",
    "version": 3
   },
   "file_extension": ".py",
   "mimetype": "text/x-python",
   "name": "python",
   "nbconvert_exporter": "python",
   "pygments_lexer": "ipython3",
   "version": "3.8.8"
  }
 },
 "nbformat": 4,
 "nbformat_minor": 5
}
